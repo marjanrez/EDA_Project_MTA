{
 "cells": [
  {
   "cell_type": "markdown",
   "id": "1c964605",
   "metadata": {},
   "source": [
    "## EXPLORATORY DATA ANALYSIS Project "
   ]
  },
  {
   "cell_type": "markdown",
   "id": "5bcf13be",
   "metadata": {},
   "source": [
    "#### Marjan Rezvani\n",
    "- Rezvani.mrb@gmail.com"
   ]
  },
  {
   "attachments": {},
   "cell_type": "markdown",
   "id": "d9a9f78c",
   "metadata": {},
   "source": [
    "### Goal: \n",
    "- What are the busiest stations?\n",
    "- What are the best time to prompt app users to get a citibike membership?\n",
    "- Which citibike stations are unable to meet demand from MTA riders and should be expanded?\n",
    "\n",
    "#### To do:\n",
    "- High exit rate for top 10 busiest MTA stations in the morning \n",
    "- High entry rate for top 10 busiest MTA stations in the afternoon or evening  \n",
    "- Finding the top 10 busiest citibike stations\n",
    "- Identifying the busiest hours of citibike stations. \n",
    "- Finding the nearest citibike stations and see if it's frequently low on bikes or all the bikes are gone during that time of day.\n",
    "    "
   ]
  },
  {
   "cell_type": "markdown",
   "id": "ccd93233",
   "metadata": {},
   "source": [
    "In this project, I am going to use the data of several months from MTA website http://web.mta.info/developers/turnstile.html, which is including several features such as station, date, time, entries that I will explain each of them and explore them in continue.\n",
    "In addition I will work on \"citibike.csv\" dataset for the month of September 2021 to reach my goal.\n"
   ]
  },
  {
   "cell_type": "markdown",
   "id": "228226ef",
   "metadata": {},
   "source": [
    "#### MTA Data: \n",
    "- C/A : Control Area name/Booth name. This is the internal identification of a booth at a given station.\n",
    "- UNIT : Remote unit ID of station.\n",
    "- SCP : Subunit/Channel/position represents a specific address for a given device. \n",
    "- STATION : Name assigned to the subway station by operations planning. This name is used in all references to stations, as well as in debit/credit purchase receipts, and customer’s bank activity statements.\n",
    "- LINENAME : Train lines stopping at this location. Can contain up to 20 single character identifier. When more than one train line appears, it is usually intercepting train lines, in major stations where the passenger can transfer between any one of the lines.\n",
    "- DIVISION : Represents the Line originally the station belonged to BMT, IRT, or IND. Each section of the system is assigned a unique line name, usually paired with its original operating company or division (Brooklyn–Manhattan Transit Corporation (BMT), Interborough Rapid Transit Company (IRT), and Independent Subway System (IND).\n",
    "- DATE : Represents the date of the audit data.\n",
    "- TIME : Represents the date of the audit data.\n",
    "- DESC : Represent the \"REGULAR\" scheduled audit event (Normally occurs every 4 hours)\n",
    "- ENTRIES : The cumulative entry register value for a device\n",
    "- EXITS : The cumulative exit register value for a device\n",
    "\n",
    "#### Citibike Data:\n",
    "- ride_id\n",
    "- rideable_type\n",
    "- started_at\t\n",
    "- ended_at\n",
    "- start_station_name\n",
    "- end_station_name\n",
    "- start_lat\n",
    "- start_lng\t\n",
    "- end_lat\n",
    "- end_lng\n",
    "- member_casual\n",
    "\n"
   ]
  },
  {
   "cell_type": "markdown",
   "id": "afcd670d",
   "metadata": {},
   "source": [
    "## The Methods and Tools"
   ]
  },
  {
   "cell_type": "markdown",
   "id": "fde088cb",
   "metadata": {},
   "source": [
    "##### Data ingestion and storage:\n",
    "- Pandas\n",
    "- SQLite\n",
    "#### Data cleaning and manipulation:\n",
    "- Python Libraries: Pandas, Numpy\n",
    "#### Presentation tools:\n",
    "- Matplotlib\n",
    "- Seaborn"
   ]
  },
  {
   "cell_type": "code",
   "execution_count": 23,
   "id": "d2731643",
   "metadata": {},
   "outputs": [],
   "source": [
    "import pandas as pd\n",
    "import matplotlib.pyplot as plt\n",
    "import numpy as np\n",
    "import seaborn as sns\n",
    "import datetime\n",
    "\n",
    "%matplotlib inline"
   ]
  },
  {
   "cell_type": "markdown",
   "id": "6f3a77b5",
   "metadata": {},
   "source": [
    "#### First of all, I am going through citibike dataset."
   ]
  },
  {
   "cell_type": "code",
   "execution_count": 195,
   "id": "6e6cbda0",
   "metadata": {
    "scrolled": true
   },
   "outputs": [
    {
     "name": "stderr",
     "output_type": "stream",
     "text": [
      "/anaconda3/lib/python3.7/site-packages/IPython/core/interactiveshell.py:3457: DtypeWarning: Columns (7) have mixed types.Specify dtype option on import or set low_memory=False.\n",
      "  exec(code_obj, self.user_global_ns, self.user_ns)\n"
     ]
    }
   ],
   "source": [
    "citibike = pd.read_csv('202108-citibike-tripdata.csv')"
   ]
  },
  {
   "cell_type": "code",
   "execution_count": 196,
   "id": "940fcca0",
   "metadata": {},
   "outputs": [
    {
     "data": {
      "text/html": [
       "<div>\n",
       "<style scoped>\n",
       "    .dataframe tbody tr th:only-of-type {\n",
       "        vertical-align: middle;\n",
       "    }\n",
       "\n",
       "    .dataframe tbody tr th {\n",
       "        vertical-align: top;\n",
       "    }\n",
       "\n",
       "    .dataframe thead th {\n",
       "        text-align: right;\n",
       "    }\n",
       "</style>\n",
       "<table border=\"1\" class=\"dataframe\">\n",
       "  <thead>\n",
       "    <tr style=\"text-align: right;\">\n",
       "      <th></th>\n",
       "      <th>ride_id</th>\n",
       "      <th>rideable_type</th>\n",
       "      <th>started_at</th>\n",
       "      <th>ended_at</th>\n",
       "      <th>start_station_name</th>\n",
       "      <th>start_station_id</th>\n",
       "      <th>end_station_name</th>\n",
       "      <th>end_station_id</th>\n",
       "      <th>start_lat</th>\n",
       "      <th>start_lng</th>\n",
       "      <th>end_lat</th>\n",
       "      <th>end_lng</th>\n",
       "      <th>member_casual</th>\n",
       "    </tr>\n",
       "  </thead>\n",
       "  <tbody>\n",
       "    <tr>\n",
       "      <th>0</th>\n",
       "      <td>FB6B89D05B67EBED</td>\n",
       "      <td>classic_bike</td>\n",
       "      <td>2021-08-24 15:59:57</td>\n",
       "      <td>2021-08-24 16:42:07</td>\n",
       "      <td>Broadway &amp; E 21 St</td>\n",
       "      <td>6098.10</td>\n",
       "      <td>Central Park North &amp; Adam Clayton Powell Blvd</td>\n",
       "      <td>7617.07</td>\n",
       "      <td>40.739888</td>\n",
       "      <td>-73.989586</td>\n",
       "      <td>40.799484</td>\n",
       "      <td>-73.955613</td>\n",
       "      <td>member</td>\n",
       "    </tr>\n",
       "    <tr>\n",
       "      <th>1</th>\n",
       "      <td>E13DA3E30CEF8DFC</td>\n",
       "      <td>classic_bike</td>\n",
       "      <td>2021-08-18 13:12:01</td>\n",
       "      <td>2021-08-18 13:21:26</td>\n",
       "      <td>E 13 St &amp; 2 Ave</td>\n",
       "      <td>5820.08</td>\n",
       "      <td>Henry St &amp; Grand St</td>\n",
       "      <td>5294.04</td>\n",
       "      <td>40.731539</td>\n",
       "      <td>-73.985302</td>\n",
       "      <td>40.714211</td>\n",
       "      <td>-73.981095</td>\n",
       "      <td>member</td>\n",
       "    </tr>\n",
       "    <tr>\n",
       "      <th>2</th>\n",
       "      <td>56617490AB8AE69C</td>\n",
       "      <td>classic_bike</td>\n",
       "      <td>2021-08-17 14:31:23</td>\n",
       "      <td>2021-08-17 14:35:34</td>\n",
       "      <td>E 95 St &amp; 3 Ave</td>\n",
       "      <td>7365.13</td>\n",
       "      <td>E 84 St &amp; Park Ave</td>\n",
       "      <td>7243.04</td>\n",
       "      <td>40.784903</td>\n",
       "      <td>-73.950503</td>\n",
       "      <td>40.778627</td>\n",
       "      <td>-73.957721</td>\n",
       "      <td>member</td>\n",
       "    </tr>\n",
       "    <tr>\n",
       "      <th>3</th>\n",
       "      <td>CA908B271C7D6663</td>\n",
       "      <td>classic_bike</td>\n",
       "      <td>2021-08-11 10:00:12</td>\n",
       "      <td>2021-08-11 10:31:01</td>\n",
       "      <td>Madison Ave &amp; E 82 St</td>\n",
       "      <td>7188.13</td>\n",
       "      <td>E 84 St &amp; Park Ave</td>\n",
       "      <td>7243.04</td>\n",
       "      <td>40.778131</td>\n",
       "      <td>-73.960694</td>\n",
       "      <td>40.778627</td>\n",
       "      <td>-73.957721</td>\n",
       "      <td>casual</td>\n",
       "    </tr>\n",
       "    <tr>\n",
       "      <th>4</th>\n",
       "      <td>3E170CE1F4FE179D</td>\n",
       "      <td>classic_bike</td>\n",
       "      <td>2021-08-12 19:28:38</td>\n",
       "      <td>2021-08-12 19:48:50</td>\n",
       "      <td>E 74 St &amp; 1 Ave</td>\n",
       "      <td>6953.08</td>\n",
       "      <td>E 84 St &amp; Park Ave</td>\n",
       "      <td>7243.04</td>\n",
       "      <td>40.768974</td>\n",
       "      <td>-73.954823</td>\n",
       "      <td>40.778627</td>\n",
       "      <td>-73.957721</td>\n",
       "      <td>casual</td>\n",
       "    </tr>\n",
       "  </tbody>\n",
       "</table>\n",
       "</div>"
      ],
      "text/plain": [
       "            ride_id rideable_type           started_at             ended_at  \\\n",
       "0  FB6B89D05B67EBED  classic_bike  2021-08-24 15:59:57  2021-08-24 16:42:07   \n",
       "1  E13DA3E30CEF8DFC  classic_bike  2021-08-18 13:12:01  2021-08-18 13:21:26   \n",
       "2  56617490AB8AE69C  classic_bike  2021-08-17 14:31:23  2021-08-17 14:35:34   \n",
       "3  CA908B271C7D6663  classic_bike  2021-08-11 10:00:12  2021-08-11 10:31:01   \n",
       "4  3E170CE1F4FE179D  classic_bike  2021-08-12 19:28:38  2021-08-12 19:48:50   \n",
       "\n",
       "      start_station_name  start_station_id  \\\n",
       "0     Broadway & E 21 St           6098.10   \n",
       "1        E 13 St & 2 Ave           5820.08   \n",
       "2        E 95 St & 3 Ave           7365.13   \n",
       "3  Madison Ave & E 82 St           7188.13   \n",
       "4        E 74 St & 1 Ave           6953.08   \n",
       "\n",
       "                                end_station_name end_station_id  start_lat  \\\n",
       "0  Central Park North & Adam Clayton Powell Blvd        7617.07  40.739888   \n",
       "1                            Henry St & Grand St        5294.04  40.731539   \n",
       "2                             E 84 St & Park Ave        7243.04  40.784903   \n",
       "3                             E 84 St & Park Ave        7243.04  40.778131   \n",
       "4                             E 84 St & Park Ave        7243.04  40.768974   \n",
       "\n",
       "   start_lng    end_lat    end_lng member_casual  \n",
       "0 -73.989586  40.799484 -73.955613        member  \n",
       "1 -73.985302  40.714211 -73.981095        member  \n",
       "2 -73.950503  40.778627 -73.957721        member  \n",
       "3 -73.960694  40.778627 -73.957721        casual  \n",
       "4 -73.954823  40.778627 -73.957721        casual  "
      ]
     },
     "execution_count": 196,
     "metadata": {},
     "output_type": "execute_result"
    }
   ],
   "source": [
    "citibike.head()"
   ]
  },
  {
   "cell_type": "code",
   "execution_count": 197,
   "id": "677f667d",
   "metadata": {},
   "outputs": [
    {
     "data": {
      "text/plain": [
       "(3072478, 13)"
      ]
     },
     "execution_count": 197,
     "metadata": {},
     "output_type": "execute_result"
    }
   ],
   "source": [
    "citibike.shape"
   ]
  },
  {
   "cell_type": "markdown",
   "id": "e9cda9c5",
   "metadata": {},
   "source": [
    "- I have a code which is used to count the total number of trip activities involved each station. For example, if a rider starts a trip at station A and ends at station B, each station A and B will receive +1 count for the trip. "
   ]
  },
  {
   "cell_type": "code",
   "execution_count": 232,
   "id": "b6aa57fd",
   "metadata": {},
   "outputs": [
    {
     "data": {
      "text/plain": [
       "[('Broadway & E 21 St', 20555),\n",
       " ('Central Park North & Adam Clayton Powell Blvd', 11597),\n",
       " ('E 13 St & 2 Ave', 17684),\n",
       " ('Henry St & Grand St', 10030),\n",
       " ('E 95 St & 3 Ave', 3076),\n",
       " ('E 84 St & Park Ave', 5186),\n",
       " ('Madison Ave & E 82 St', 5724),\n",
       " ('E 74 St & 1 Ave', 9226),\n",
       " ('Newtown Ave & 23 St', 2501),\n",
       " ('35 St & 21 Ave', 454)]"
      ]
     },
     "execution_count": 232,
     "metadata": {},
     "output_type": "execute_result"
    }
   ],
   "source": [
    "import csv\n",
    "from functools import reduce\n",
    "def extract(x):\n",
    "    return x['start_station_name'],x['end_station_name']\n",
    "def reducer(count, y):\n",
    "    for station_name in y:\n",
    "        count[station_name] = count.get(station_name, 0)+1 \n",
    "    return count\n",
    "with open('202108-citibike-tripdata.csv','r')as fi:\n",
    "    reader = csv.DictReader(fi)\n",
    "    output1 = reduce(reducer , map(extract, reader), {})\n",
    "list(output1.items())[:10]    "
   ]
  },
  {
   "cell_type": "markdown",
   "id": "974c40dc",
   "metadata": {},
   "source": [
    "- Plotting the number of trips taken by hour of the day in '''citibike.csv'''. In this task, we would write a generator to convert each line of an input citibike CSV into a stream of “hour of the day” values."
   ]
  },
  {
   "cell_type": "code",
   "execution_count": 374,
   "id": "82410f33",
   "metadata": {},
   "outputs": [],
   "source": [
    "def citibike2hod(filename):\n",
    "    with open(filename, 'r') as fi:\n",
    "        reader = csv.DictReader(fi)\n",
    "        for row in reader:\n",
    "            starttime = dateutil.parser.parse(row['starttime'])\n",
    "            yield(starttime.hour)"
   ]
  },
  {
   "cell_type": "code",
   "execution_count": 375,
   "id": "50b605db",
   "metadata": {},
   "outputs": [],
   "source": [
    "import dateutil\n",
    "count = {}\n",
    "for hod in citibike2hod('202108-citibike-tripdata.csv'):\n",
    "    count[hod] = count.get(hod,0)+1"
   ]
  },
  {
   "cell_type": "code",
   "execution_count": 376,
   "id": "df0f9a3c",
   "metadata": {
    "scrolled": false
   },
   "outputs": [
    {
     "data": {
      "text/plain": [
       "Text(0.5, 1.0, 'Number of trips taken by hour of the day for September')"
      ]
     },
     "execution_count": 376,
     "metadata": {},
     "output_type": "execute_result"
    },
    {
     "data": {
      "image/png": "[encoded data removed]",
      "text/plain": [
       "<Figure size 432x288 with 1 Axes>"
      ]
     },
     "metadata": {
      "needs_background": "light"
     },
     "output_type": "display_data"
    }
   ],
   "source": [
    "ax = sns.barplot(x=list(count.keys()),\n",
    "                 y=list(count.values()),\n",
    "                 color='b')\n",
    "\n",
    "plt.xlabel('Hour')\n",
    "\n",
    "plt.title('Number of trips taken by hour of the day for September')"
   ]
  },
  {
   "cell_type": "markdown",
   "id": "11552d94",
   "metadata": {},
   "source": [
    "- as it's obvious in the graph, 7-9 am and 4-7 PM are peak riding hours during the week."
   ]
  },
  {
   "cell_type": "code",
   "execution_count": 340,
   "id": "9502d751",
   "metadata": {},
   "outputs": [],
   "source": [
    "def citibike2hod(filename):\n",
    "    with open(filename, 'r') as fi:\n",
    "        reader = csv.DictReader(fi)\n",
    "        for row in reader:\n",
    "            starttime = dateutil.parser.parse(row['starttime'])\n",
    "            yield(starttime.day)"
   ]
  },
  {
   "cell_type": "code",
   "execution_count": 341,
   "id": "a5ebf549",
   "metadata": {},
   "outputs": [],
   "source": [
    "import dateutil\n",
    "count = {}\n",
    "for hod in citibike2hod('202108-citibike-tripdata.csv'):\n",
    "    count[hod] = count.get(hod,0)+1"
   ]
  },
  {
   "cell_type": "code",
   "execution_count": 342,
   "id": "c77a787f",
   "metadata": {},
   "outputs": [
    {
     "data": {
      "image/png": "[encoded data removed]",
      "text/plain": [
       "<Figure size 432x288 with 1 Axes>"
      ]
     },
     "metadata": {
      "needs_background": "light"
     },
     "output_type": "display_data"
    }
   ],
   "source": [
    "ax = sns.barplot(x=list(count.keys()),\n",
    "                 y=list(count.values()),\n",
    "                 color='b')"
   ]
  },
  {
   "cell_type": "markdown",
   "id": "f5daa689",
   "metadata": {},
   "source": [
    "### Getting other Data of MTA and exploring it"
   ]
  },
  {
   "cell_type": "markdown",
   "id": "9a27c572",
   "metadata": {},
   "source": [
    "- I tried to work on a more complete dataset of MTA,and went through stations and latitude and longitude variables and plan to use these variables in the future to combine with citibike data."
   ]
  },
  {
   "cell_type": "code",
   "execution_count": 3,
   "id": "c195d060",
   "metadata": {},
   "outputs": [],
   "source": [
    "df_new = pd.read_csv('NYC_Transit_Subway_Entrance_And_Exit_Data.csv')"
   ]
  },
  {
   "cell_type": "code",
   "execution_count": 5,
   "id": "e4e42e10",
   "metadata": {},
   "outputs": [
    {
     "data": {
      "text/html": [
       "<div>\n",
       "<style scoped>\n",
       "    .dataframe tbody tr th:only-of-type {\n",
       "        vertical-align: middle;\n",
       "    }\n",
       "\n",
       "    .dataframe tbody tr th {\n",
       "        vertical-align: top;\n",
       "    }\n",
       "\n",
       "    .dataframe thead th {\n",
       "        text-align: right;\n",
       "    }\n",
       "</style>\n",
       "<table border=\"1\" class=\"dataframe\">\n",
       "  <thead>\n",
       "    <tr style=\"text-align: right;\">\n",
       "      <th></th>\n",
       "      <th>Division</th>\n",
       "      <th>Line</th>\n",
       "      <th>Station Name</th>\n",
       "      <th>Station Latitude</th>\n",
       "      <th>Station Longitude</th>\n",
       "      <th>Route1</th>\n",
       "      <th>Route2</th>\n",
       "      <th>Route3</th>\n",
       "      <th>Route4</th>\n",
       "      <th>Route5</th>\n",
       "      <th>...</th>\n",
       "      <th>ADA</th>\n",
       "      <th>ADA Notes</th>\n",
       "      <th>Free Crossover</th>\n",
       "      <th>North South Street</th>\n",
       "      <th>East West Street</th>\n",
       "      <th>Corner</th>\n",
       "      <th>Entrance Latitude</th>\n",
       "      <th>Entrance Longitude</th>\n",
       "      <th>Station Location</th>\n",
       "      <th>Entrance Location</th>\n",
       "    </tr>\n",
       "  </thead>\n",
       "  <tbody>\n",
       "    <tr>\n",
       "      <th>0</th>\n",
       "      <td>BMT</td>\n",
       "      <td>4 Avenue</td>\n",
       "      <td>25th St</td>\n",
       "      <td>40.660397</td>\n",
       "      <td>-73.998091</td>\n",
       "      <td>R</td>\n",
       "      <td>NaN</td>\n",
       "      <td>NaN</td>\n",
       "      <td>NaN</td>\n",
       "      <td>NaN</td>\n",
       "      <td>...</td>\n",
       "      <td>False</td>\n",
       "      <td>NaN</td>\n",
       "      <td>False</td>\n",
       "      <td>4th Ave</td>\n",
       "      <td>25th St</td>\n",
       "      <td>SE</td>\n",
       "      <td>40.660323</td>\n",
       "      <td>-73.997952</td>\n",
       "      <td>(40.660397, -73.998091)</td>\n",
       "      <td>(40.660323, -73.997952)</td>\n",
       "    </tr>\n",
       "    <tr>\n",
       "      <th>1</th>\n",
       "      <td>BMT</td>\n",
       "      <td>4 Avenue</td>\n",
       "      <td>25th St</td>\n",
       "      <td>40.660397</td>\n",
       "      <td>-73.998091</td>\n",
       "      <td>R</td>\n",
       "      <td>NaN</td>\n",
       "      <td>NaN</td>\n",
       "      <td>NaN</td>\n",
       "      <td>NaN</td>\n",
       "      <td>...</td>\n",
       "      <td>False</td>\n",
       "      <td>NaN</td>\n",
       "      <td>False</td>\n",
       "      <td>4th Ave</td>\n",
       "      <td>25th St</td>\n",
       "      <td>SW</td>\n",
       "      <td>40.660489</td>\n",
       "      <td>-73.998220</td>\n",
       "      <td>(40.660397, -73.998091)</td>\n",
       "      <td>(40.660489, -73.99822)</td>\n",
       "    </tr>\n",
       "  </tbody>\n",
       "</table>\n",
       "<p>2 rows × 32 columns</p>\n",
       "</div>"
      ],
      "text/plain": [
       "  Division      Line Station Name  Station Latitude  Station Longitude Route1  \\\n",
       "0      BMT  4 Avenue      25th St         40.660397         -73.998091      R   \n",
       "1      BMT  4 Avenue      25th St         40.660397         -73.998091      R   \n",
       "\n",
       "  Route2 Route3 Route4 Route5  ...    ADA ADA Notes  Free Crossover  \\\n",
       "0    NaN    NaN    NaN    NaN  ...  False       NaN           False   \n",
       "1    NaN    NaN    NaN    NaN  ...  False       NaN           False   \n",
       "\n",
       "   North South Street  East West Street  Corner Entrance Latitude  \\\n",
       "0             4th Ave           25th St      SE         40.660323   \n",
       "1             4th Ave           25th St      SW         40.660489   \n",
       "\n",
       "  Entrance Longitude         Station Location        Entrance Location  \n",
       "0         -73.997952  (40.660397, -73.998091)  (40.660323, -73.997952)  \n",
       "1         -73.998220  (40.660397, -73.998091)   (40.660489, -73.99822)  \n",
       "\n",
       "[2 rows x 32 columns]"
      ]
     },
     "execution_count": 5,
     "metadata": {},
     "output_type": "execute_result"
    }
   ],
   "source": [
    "df_new.head(2)"
   ]
  },
  {
   "cell_type": "code",
   "execution_count": 6,
   "id": "06d94297",
   "metadata": {},
   "outputs": [
    {
     "data": {
      "text/plain": [
       "Index(['Division', 'Line', 'Station Name', 'Station Latitude',\n",
       "       'Station Longitude', 'Route1', 'Route2', 'Route3', 'Route4', 'Route5',\n",
       "       'Route6', 'Route7', 'Route8', 'Route9', 'Route10', 'Route11',\n",
       "       'Entrance Type', 'Entry', 'Exit Only', 'Vending', 'Staffing',\n",
       "       'Staff Hours', 'ADA', 'ADA Notes', 'Free Crossover',\n",
       "       'North South Street', 'East West Street', 'Corner', 'Entrance Latitude',\n",
       "       'Entrance Longitude', 'Station Location', 'Entrance Location'],\n",
       "      dtype='object')"
      ]
     },
     "execution_count": 6,
     "metadata": {},
     "output_type": "execute_result"
    }
   ],
   "source": [
    "df_new.columns"
   ]
  },
  {
   "cell_type": "code",
   "execution_count": 7,
   "id": "4e1e0e79",
   "metadata": {},
   "outputs": [
    {
     "data": {
      "text/plain": [
       "34th St                               41\n",
       "23rd St                               40\n",
       "14th St                               26\n",
       "59th St                               25\n",
       "86th St                               22\n",
       "                                      ..\n",
       "Botanic Gardens                        1\n",
       "Broadway Junction-East New York        1\n",
       "Broad Channel                          1\n",
       "Bedford Park Blvd-Lehman College       1\n",
       "Westchester Square-East Tremont Av     1\n",
       "Name: Station Name, Length: 356, dtype: int64"
      ]
     },
     "execution_count": 7,
     "metadata": {},
     "output_type": "execute_result"
    }
   ],
   "source": [
    "df_new['Station Name'].value_counts()"
   ]
  },
  {
   "cell_type": "code",
   "execution_count": 18,
   "id": "1e03842b",
   "metadata": {},
   "outputs": [],
   "source": [
    "d = pd.read_csv('http://web.mta.info/developers/data/nyct/subway/Stations.csv')"
   ]
  },
  {
   "cell_type": "code",
   "execution_count": 19,
   "id": "06877c28",
   "metadata": {},
   "outputs": [
    {
     "data": {
      "text/html": [
       "<div>\n",
       "<style scoped>\n",
       "    .dataframe tbody tr th:only-of-type {\n",
       "        vertical-align: middle;\n",
       "    }\n",
       "\n",
       "    .dataframe tbody tr th {\n",
       "        vertical-align: top;\n",
       "    }\n",
       "\n",
       "    .dataframe thead th {\n",
       "        text-align: right;\n",
       "    }\n",
       "</style>\n",
       "<table border=\"1\" class=\"dataframe\">\n",
       "  <thead>\n",
       "    <tr style=\"text-align: right;\">\n",
       "      <th></th>\n",
       "      <th>Station ID</th>\n",
       "      <th>Complex ID</th>\n",
       "      <th>GTFS Stop ID</th>\n",
       "      <th>Division</th>\n",
       "      <th>Line</th>\n",
       "      <th>Stop Name</th>\n",
       "      <th>Borough</th>\n",
       "      <th>Daytime Routes</th>\n",
       "      <th>Structure</th>\n",
       "      <th>GTFS Latitude</th>\n",
       "      <th>GTFS Longitude</th>\n",
       "      <th>North Direction Label</th>\n",
       "      <th>South Direction Label</th>\n",
       "      <th>ADA</th>\n",
       "      <th>ADA Notes</th>\n",
       "    </tr>\n",
       "  </thead>\n",
       "  <tbody>\n",
       "    <tr>\n",
       "      <th>0</th>\n",
       "      <td>1</td>\n",
       "      <td>1</td>\n",
       "      <td>R01</td>\n",
       "      <td>BMT</td>\n",
       "      <td>Astoria</td>\n",
       "      <td>Astoria-Ditmars Blvd</td>\n",
       "      <td>Q</td>\n",
       "      <td>N W</td>\n",
       "      <td>Elevated</td>\n",
       "      <td>40.775036</td>\n",
       "      <td>-73.912034</td>\n",
       "      <td>NaN</td>\n",
       "      <td>Manhattan</td>\n",
       "      <td>0</td>\n",
       "      <td>NaN</td>\n",
       "    </tr>\n",
       "    <tr>\n",
       "      <th>1</th>\n",
       "      <td>2</td>\n",
       "      <td>2</td>\n",
       "      <td>R03</td>\n",
       "      <td>BMT</td>\n",
       "      <td>Astoria</td>\n",
       "      <td>Astoria Blvd</td>\n",
       "      <td>Q</td>\n",
       "      <td>N W</td>\n",
       "      <td>Elevated</td>\n",
       "      <td>40.770258</td>\n",
       "      <td>-73.917843</td>\n",
       "      <td>Ditmars Blvd</td>\n",
       "      <td>Manhattan</td>\n",
       "      <td>1</td>\n",
       "      <td>NaN</td>\n",
       "    </tr>\n",
       "    <tr>\n",
       "      <th>2</th>\n",
       "      <td>3</td>\n",
       "      <td>3</td>\n",
       "      <td>R04</td>\n",
       "      <td>BMT</td>\n",
       "      <td>Astoria</td>\n",
       "      <td>30 Av</td>\n",
       "      <td>Q</td>\n",
       "      <td>N W</td>\n",
       "      <td>Elevated</td>\n",
       "      <td>40.766779</td>\n",
       "      <td>-73.921479</td>\n",
       "      <td>Astoria - Ditmars Blvd</td>\n",
       "      <td>Manhattan</td>\n",
       "      <td>0</td>\n",
       "      <td>NaN</td>\n",
       "    </tr>\n",
       "    <tr>\n",
       "      <th>3</th>\n",
       "      <td>4</td>\n",
       "      <td>4</td>\n",
       "      <td>R05</td>\n",
       "      <td>BMT</td>\n",
       "      <td>Astoria</td>\n",
       "      <td>Broadway</td>\n",
       "      <td>Q</td>\n",
       "      <td>N W</td>\n",
       "      <td>Elevated</td>\n",
       "      <td>40.761820</td>\n",
       "      <td>-73.925508</td>\n",
       "      <td>Astoria - Ditmars Blvd</td>\n",
       "      <td>Manhattan</td>\n",
       "      <td>0</td>\n",
       "      <td>NaN</td>\n",
       "    </tr>\n",
       "    <tr>\n",
       "      <th>4</th>\n",
       "      <td>5</td>\n",
       "      <td>5</td>\n",
       "      <td>R06</td>\n",
       "      <td>BMT</td>\n",
       "      <td>Astoria</td>\n",
       "      <td>36 Av</td>\n",
       "      <td>Q</td>\n",
       "      <td>N W</td>\n",
       "      <td>Elevated</td>\n",
       "      <td>40.756804</td>\n",
       "      <td>-73.929575</td>\n",
       "      <td>Astoria - Ditmars Blvd</td>\n",
       "      <td>Manhattan</td>\n",
       "      <td>0</td>\n",
       "      <td>NaN</td>\n",
       "    </tr>\n",
       "  </tbody>\n",
       "</table>\n",
       "</div>"
      ],
      "text/plain": [
       "   Station ID  Complex ID GTFS Stop ID Division     Line  \\\n",
       "0           1           1          R01      BMT  Astoria   \n",
       "1           2           2          R03      BMT  Astoria   \n",
       "2           3           3          R04      BMT  Astoria   \n",
       "3           4           4          R05      BMT  Astoria   \n",
       "4           5           5          R06      BMT  Astoria   \n",
       "\n",
       "              Stop Name Borough Daytime Routes Structure  GTFS Latitude  \\\n",
       "0  Astoria-Ditmars Blvd       Q            N W  Elevated      40.775036   \n",
       "1          Astoria Blvd       Q            N W  Elevated      40.770258   \n",
       "2                 30 Av       Q            N W  Elevated      40.766779   \n",
       "3              Broadway       Q            N W  Elevated      40.761820   \n",
       "4                 36 Av       Q            N W  Elevated      40.756804   \n",
       "\n",
       "   GTFS Longitude   North Direction Label South Direction Label  ADA ADA Notes  \n",
       "0      -73.912034                     NaN             Manhattan    0       NaN  \n",
       "1      -73.917843            Ditmars Blvd             Manhattan    1       NaN  \n",
       "2      -73.921479  Astoria - Ditmars Blvd             Manhattan    0       NaN  \n",
       "3      -73.925508  Astoria - Ditmars Blvd             Manhattan    0       NaN  \n",
       "4      -73.929575  Astoria - Ditmars Blvd             Manhattan    0       NaN  "
      ]
     },
     "execution_count": 19,
     "metadata": {},
     "output_type": "execute_result"
    }
   ],
   "source": [
    "d.head()"
   ]
  },
  {
   "cell_type": "code",
   "execution_count": 20,
   "id": "ae4148d2",
   "metadata": {
    "scrolled": true
   },
   "outputs": [
    {
     "data": {
      "text/plain": [
       "Index(['Station ID', 'Complex ID', 'GTFS Stop ID', 'Division', 'Line',\n",
       "       'Stop Name', 'Borough', 'Daytime Routes', 'Structure', 'GTFS Latitude',\n",
       "       'GTFS Longitude', 'North Direction Label', 'South Direction Label',\n",
       "       'ADA', 'ADA Notes'],\n",
       "      dtype='object')"
      ]
     },
     "execution_count": 20,
     "metadata": {},
     "output_type": "execute_result"
    }
   ],
   "source": [
    "d.columns"
   ]
  },
  {
   "cell_type": "markdown",
   "id": "beaa4e2c",
   "metadata": {},
   "source": [
    "# EDA for MTA"
   ]
  },
  {
   "cell_type": "markdown",
   "id": "fff9d297",
   "metadata": {},
   "source": [
    "- Then for the beginning of my work, I would like to work on last 4 month of 2021, September, October, November and December, and explore the data.\n",
    "I get the data from the MTA link, and then will concatenate the data together for all weeks of these months. "
   ]
  },
  {
   "cell_type": "code",
   "execution_count": 25,
   "id": "f48b0f54",
   "metadata": {},
   "outputs": [],
   "source": [
    "Sep_w1 = \"http://web.mta.info/developers/data/nyct/turnstile/turnstile_210904.txt\"\n",
    "Sep_w2 = \"http://web.mta.info/developers/data/nyct/turnstile/turnstile_210911.txt\"\n",
    "Sep_w3 = \"http://web.mta.info/developers/data/nyct/turnstile/turnstile_210918.txt\"\n",
    "Sep_w4 = \"http://web.mta.info/developers/data/nyct/turnstile/turnstile_210925.txt\""
   ]
  },
  {
   "cell_type": "code",
   "execution_count": 26,
   "id": "983745c8",
   "metadata": {},
   "outputs": [],
   "source": [
    "Sep_week1 = pd.read_csv(Sep_w1)\n",
    "Sep_week2 = pd.read_csv(Sep_w2)\n",
    "Sep_week3 = pd.read_csv(Sep_w3)\n",
    "Sep_week4 = pd.read_csv(Sep_w4)"
   ]
  },
  {
   "cell_type": "code",
   "execution_count": 27,
   "id": "93b7aab3",
   "metadata": {},
   "outputs": [],
   "source": [
    "frames_1 = [Sep_week1, Sep_week2, Sep_week3, Sep_week4]\n",
    "\n",
    "df_sep = pd.concat(frames_1)"
   ]
  },
  {
   "cell_type": "code",
   "execution_count": 28,
   "id": "d4cddda0",
   "metadata": {
    "scrolled": true
   },
   "outputs": [
    {
     "name": "stdout",
     "output_type": "stream",
     "text": [
      "<class 'pandas.core.frame.DataFrame'>\n",
      "Int64Index: 839516 entries, 0 to 210399\n",
      "Data columns (total 11 columns):\n",
      " #   Column                                                                Non-Null Count   Dtype \n",
      "---  ------                                                                --------------   ----- \n",
      " 0   C/A                                                                   839516 non-null  object\n",
      " 1   UNIT                                                                  839516 non-null  object\n",
      " 2   SCP                                                                   839516 non-null  object\n",
      " 3   STATION                                                               839516 non-null  object\n",
      " 4   LINENAME                                                              839516 non-null  object\n",
      " 5   DIVISION                                                              839516 non-null  object\n",
      " 6   DATE                                                                  839516 non-null  object\n",
      " 7   TIME                                                                  839516 non-null  object\n",
      " 8   DESC                                                                  839516 non-null  object\n",
      " 9   ENTRIES                                                               839516 non-null  int64 \n",
      " 10  EXITS                                                                 839516 non-null  int64 \n",
      "dtypes: int64(2), object(9)\n",
      "memory usage: 76.9+ MB\n"
     ]
    }
   ],
   "source": [
    "df_sep.info()"
   ]
  },
  {
   "cell_type": "code",
   "execution_count": 29,
   "id": "55523c4f",
   "metadata": {},
   "outputs": [
    {
     "data": {
      "text/plain": [
       "(839516, 11)"
      ]
     },
     "execution_count": 29,
     "metadata": {},
     "output_type": "execute_result"
    }
   ],
   "source": [
    "df_sep.shape"
   ]
  },
  {
   "cell_type": "code",
   "execution_count": 30,
   "id": "1c30275b",
   "metadata": {},
   "outputs": [],
   "source": [
    "Oct_w1 = \"http://web.mta.info/developers/data/nyct/turnstile/turnstile_211002.txt\"\n",
    "Oct_w2 = \"http://web.mta.info/developers/data/nyct/turnstile/turnstile_211009.txt\"\n",
    "Oct_w3 = \"http://web.mta.info/developers/data/nyct/turnstile/turnstile_211016.txt\"\n",
    "Oct_w4 = \"http://web.mta.info/developers/data/nyct/turnstile/turnstile_211023.txt\"\n",
    "#Oct_w4 = \"http://web.mta.info/developers/data/nyct/turnstile/turnstile_211030.txt\"\n"
   ]
  },
  {
   "cell_type": "code",
   "execution_count": 31,
   "id": "4766bc00",
   "metadata": {},
   "outputs": [],
   "source": [
    "Oct_week1 = pd.read_csv(Oct_w1)\n",
    "Oct_week2 = pd.read_csv(Oct_w2)\n",
    "Oct_week3 = pd.read_csv(Oct_w3)\n",
    "Oct_week4 = pd.read_csv(Oct_w4)"
   ]
  },
  {
   "cell_type": "code",
   "execution_count": 32,
   "id": "4d066a71",
   "metadata": {},
   "outputs": [],
   "source": [
    "frames_2 = [Oct_week1, Oct_week2, Oct_week3, Oct_week4]\n",
    "\n",
    "df_oct = pd.concat(frames_2)"
   ]
  },
  {
   "cell_type": "code",
   "execution_count": 33,
   "id": "e585bc20",
   "metadata": {},
   "outputs": [
    {
     "data": {
      "text/plain": [
       "(839959, 11)"
      ]
     },
     "execution_count": 33,
     "metadata": {},
     "output_type": "execute_result"
    }
   ],
   "source": [
    "df_oct.shape"
   ]
  },
  {
   "cell_type": "code",
   "execution_count": 35,
   "id": "4e6f1764",
   "metadata": {},
   "outputs": [],
   "source": [
    "Nov_w1 = \"http://web.mta.info/developers/data/nyct/turnstile/turnstile_211106.txt\"\n",
    "Nov_w2 = \"http://web.mta.info/developers/data/nyct/turnstile/turnstile_211113.txt\"\n",
    "Nov_w3 = \"http://web.mta.info/developers/data/nyct/turnstile/turnstile_211120.txt\"\n",
    "Nov_w4 = \"http://web.mta.info/developers/data/nyct/turnstile/turnstile_211127.txt\""
   ]
  },
  {
   "cell_type": "code",
   "execution_count": 36,
   "id": "bff389f3",
   "metadata": {},
   "outputs": [],
   "source": [
    "Nov_week1 = pd.read_csv(Nov_w1)\n",
    "Nov_week2 = pd.read_csv(Nov_w2)\n",
    "Nov_week3 = pd.read_csv(Nov_w3)\n",
    "Nov_week4 = pd.read_csv(Nov_w4)"
   ]
  },
  {
   "cell_type": "code",
   "execution_count": 37,
   "id": "74268d7d",
   "metadata": {},
   "outputs": [],
   "source": [
    "frames_3 = [Nov_week1, Nov_week2, Nov_week3, Nov_week4]\n",
    "\n",
    "df_nov = pd.concat(frames_3)"
   ]
  },
  {
   "cell_type": "code",
   "execution_count": 38,
   "id": "50534be6",
   "metadata": {},
   "outputs": [
    {
     "data": {
      "text/plain": [
       "(841562, 11)"
      ]
     },
     "execution_count": 38,
     "metadata": {},
     "output_type": "execute_result"
    }
   ],
   "source": [
    "df_nov.shape"
   ]
  },
  {
   "cell_type": "code",
   "execution_count": 39,
   "id": "e34c8a25",
   "metadata": {
    "scrolled": true
   },
   "outputs": [
    {
     "name": "stdout",
     "output_type": "stream",
     "text": [
      "<class 'pandas.core.frame.DataFrame'>\n",
      "Int64Index: 841562 entries, 0 to 210188\n",
      "Data columns (total 11 columns):\n",
      " #   Column                                                                Non-Null Count   Dtype \n",
      "---  ------                                                                --------------   ----- \n",
      " 0   C/A                                                                   841562 non-null  object\n",
      " 1   UNIT                                                                  841562 non-null  object\n",
      " 2   SCP                                                                   841562 non-null  object\n",
      " 3   STATION                                                               841562 non-null  object\n",
      " 4   LINENAME                                                              841562 non-null  object\n",
      " 5   DIVISION                                                              841562 non-null  object\n",
      " 6   DATE                                                                  841562 non-null  object\n",
      " 7   TIME                                                                  841562 non-null  object\n",
      " 8   DESC                                                                  841562 non-null  object\n",
      " 9   ENTRIES                                                               841562 non-null  int64 \n",
      " 10  EXITS                                                                 841562 non-null  int64 \n",
      "dtypes: int64(2), object(9)\n",
      "memory usage: 77.0+ MB\n"
     ]
    }
   ],
   "source": [
    "df_nov.info()"
   ]
  },
  {
   "cell_type": "code",
   "execution_count": 40,
   "id": "b52a2d7b",
   "metadata": {},
   "outputs": [],
   "source": [
    "Dec_w1 = \"http://web.mta.info/developers/data/nyct/turnstile/turnstile_211204.txt\"\n",
    "Dec_w2 = \"http://web.mta.info/developers/data/nyct/turnstile/turnstile_211211.txt\"\n",
    "Dec_w3 = \"http://web.mta.info/developers/data/nyct/turnstile/turnstile_211218.txt\"\n",
    "Dec_w4 = \"http://web.mta.info/developers/data/nyct/turnstile/turnstile_211225.txt\""
   ]
  },
  {
   "cell_type": "code",
   "execution_count": 41,
   "id": "d43eb10b",
   "metadata": {},
   "outputs": [],
   "source": [
    "Dec_week1 = pd.read_csv(Dec_w1)\n",
    "Dec_week2 = pd.read_csv(Dec_w2)\n",
    "Dec_week3 = pd.read_csv(Dec_w3)\n",
    "Dec_week4 = pd.read_csv(Dec_w4)"
   ]
  },
  {
   "cell_type": "code",
   "execution_count": 42,
   "id": "4fd26d17",
   "metadata": {},
   "outputs": [],
   "source": [
    "frames_4 = [Dec_week1, Dec_week2, Dec_week3, Dec_week4]\n",
    "\n",
    "df_dec = pd.concat(frames_4)"
   ]
  },
  {
   "cell_type": "code",
   "execution_count": 43,
   "id": "467c2be4",
   "metadata": {},
   "outputs": [
    {
     "data": {
      "text/plain": [
       "(841198, 11)"
      ]
     },
     "execution_count": 43,
     "metadata": {},
     "output_type": "execute_result"
    }
   ],
   "source": [
    "df_dec.shape"
   ]
  },
  {
   "cell_type": "code",
   "execution_count": 44,
   "id": "d70b2f8c",
   "metadata": {
    "scrolled": true
   },
   "outputs": [
    {
     "name": "stdout",
     "output_type": "stream",
     "text": [
      "<class 'pandas.core.frame.DataFrame'>\n",
      "Int64Index: 841198 entries, 0 to 210382\n",
      "Data columns (total 11 columns):\n",
      " #   Column                                                                Non-Null Count   Dtype \n",
      "---  ------                                                                --------------   ----- \n",
      " 0   C/A                                                                   841198 non-null  object\n",
      " 1   UNIT                                                                  841198 non-null  object\n",
      " 2   SCP                                                                   841198 non-null  object\n",
      " 3   STATION                                                               841198 non-null  object\n",
      " 4   LINENAME                                                              841198 non-null  object\n",
      " 5   DIVISION                                                              841198 non-null  object\n",
      " 6   DATE                                                                  841198 non-null  object\n",
      " 7   TIME                                                                  841198 non-null  object\n",
      " 8   DESC                                                                  841198 non-null  object\n",
      " 9   ENTRIES                                                               841198 non-null  int64 \n",
      " 10  EXITS                                                                 841198 non-null  int64 \n",
      "dtypes: int64(2), object(9)\n",
      "memory usage: 77.0+ MB\n"
     ]
    }
   ],
   "source": [
    "df_dec.info()"
   ]
  },
  {
   "cell_type": "code",
   "execution_count": 45,
   "id": "03629a71",
   "metadata": {},
   "outputs": [],
   "source": [
    "full_data = [df_sep, df_oct, df_nov, df_dec]\n",
    "\n",
    "data = pd.concat(full_data)"
   ]
  },
  {
   "cell_type": "markdown",
   "id": "a90b5209",
   "metadata": {},
   "source": [
    "### Data Exploration and Cleaning"
   ]
  },
  {
   "cell_type": "code",
   "execution_count": 46,
   "id": "f965e618",
   "metadata": {},
   "outputs": [
    {
     "data": {
      "text/plain": [
       "(3362235, 11)"
      ]
     },
     "execution_count": 46,
     "metadata": {},
     "output_type": "execute_result"
    }
   ],
   "source": [
    "data.shape"
   ]
  },
  {
   "cell_type": "markdown",
   "id": "cfbacdcb",
   "metadata": {},
   "source": [
    "So there are 3362235 records or instances and 11 columns. let's check the columns."
   ]
  },
  {
   "cell_type": "code",
   "execution_count": 47,
   "id": "4cecdb5a",
   "metadata": {
    "scrolled": true
   },
   "outputs": [
    {
     "data": {
      "text/plain": [
       "Index(['C/A', 'UNIT', 'SCP', 'STATION', 'LINENAME', 'DIVISION', 'DATE', 'TIME',\n",
       "       'DESC', 'ENTRIES',\n",
       "       'EXITS                                                               '],\n",
       "      dtype='object')"
      ]
     },
     "execution_count": 47,
     "metadata": {},
     "output_type": "execute_result"
    }
   ],
   "source": [
    "data.columns"
   ]
  },
  {
   "cell_type": "markdown",
   "id": "5d11de6a",
   "metadata": {},
   "source": [
    "as you can see, we need to remove the space for 'EXITS' feature."
   ]
  },
  {
   "cell_type": "code",
   "execution_count": 67,
   "id": "8bd02820",
   "metadata": {},
   "outputs": [],
   "source": [
    "data.columns = [column.strip() for column in data.columns]"
   ]
  },
  {
   "cell_type": "code",
   "execution_count": 68,
   "id": "4742f865",
   "metadata": {},
   "outputs": [
    {
     "name": "stdout",
     "output_type": "stream",
     "text": [
      "Index(['C/A', 'UNIT', 'SCP', 'STATION', 'LINENAME', 'DIVISION', 'DATE', 'TIME',\n",
      "       'DESC', 'ENTRIES', 'EXITS', 'DATETIME', 'DAY', 'TURNSTILE'],\n",
      "      dtype='object')\n"
     ]
    }
   ],
   "source": [
    "print(data.columns)"
   ]
  },
  {
   "cell_type": "code",
   "execution_count": 50,
   "id": "3323de47",
   "metadata": {},
   "outputs": [],
   "source": [
    "#Checking duplicates rows and drop.\n",
    "\n",
    "data.drop_duplicates(subset=None, keep=\"first\", inplace=True)"
   ]
  },
  {
   "cell_type": "code",
   "execution_count": 51,
   "id": "53ef4e84",
   "metadata": {},
   "outputs": [
    {
     "data": {
      "text/plain": [
       "C/A                                                                     0\n",
       "UNIT                                                                    0\n",
       "SCP                                                                     0\n",
       "STATION                                                                 0\n",
       "LINENAME                                                                0\n",
       "DIVISION                                                                0\n",
       "DATE                                                                    0\n",
       "TIME                                                                    0\n",
       "DESC                                                                    0\n",
       "ENTRIES                                                                 0\n",
       "EXITS                                                                   0\n",
       "dtype: int64"
      ]
     },
     "execution_count": 51,
     "metadata": {},
     "output_type": "execute_result"
    }
   ],
   "source": [
    "#Checking null values based on columns\n",
    "\n",
    "data.isnull().sum()"
   ]
  },
  {
   "cell_type": "code",
   "execution_count": 52,
   "id": "6fff16dc",
   "metadata": {},
   "outputs": [
    {
     "data": {
      "text/plain": [
       "(3362235, 11)"
      ]
     },
     "execution_count": 52,
     "metadata": {},
     "output_type": "execute_result"
    }
   ],
   "source": [
    "data.shape"
   ]
  },
  {
   "cell_type": "code",
   "execution_count": 53,
   "id": "f204c48b",
   "metadata": {},
   "outputs": [
    {
     "data": {
      "text/html": [
       "<div>\n",
       "<style scoped>\n",
       "    .dataframe tbody tr th:only-of-type {\n",
       "        vertical-align: middle;\n",
       "    }\n",
       "\n",
       "    .dataframe tbody tr th {\n",
       "        vertical-align: top;\n",
       "    }\n",
       "\n",
       "    .dataframe thead th {\n",
       "        text-align: right;\n",
       "    }\n",
       "</style>\n",
       "<table border=\"1\" class=\"dataframe\">\n",
       "  <thead>\n",
       "    <tr style=\"text-align: right;\">\n",
       "      <th></th>\n",
       "      <th>C/A</th>\n",
       "      <th>UNIT</th>\n",
       "      <th>SCP</th>\n",
       "      <th>STATION</th>\n",
       "      <th>LINENAME</th>\n",
       "      <th>DIVISION</th>\n",
       "      <th>DATE</th>\n",
       "      <th>TIME</th>\n",
       "      <th>DESC</th>\n",
       "      <th>ENTRIES</th>\n",
       "      <th>EXITS</th>\n",
       "    </tr>\n",
       "  </thead>\n",
       "  <tbody>\n",
       "    <tr>\n",
       "      <th>105161</th>\n",
       "      <td>N521</td>\n",
       "      <td>R300</td>\n",
       "      <td>01-00-01</td>\n",
       "      <td>2 AV</td>\n",
       "      <td>F</td>\n",
       "      <td>IND</td>\n",
       "      <td>10/21/2021</td>\n",
       "      <td>00:00:00</td>\n",
       "      <td>REGULAR</td>\n",
       "      <td>4960458</td>\n",
       "      <td>5106758</td>\n",
       "    </tr>\n",
       "    <tr>\n",
       "      <th>143814</th>\n",
       "      <td>R160</td>\n",
       "      <td>R164</td>\n",
       "      <td>02-00-02</td>\n",
       "      <td>66 ST-LINCOLN</td>\n",
       "      <td>1</td>\n",
       "      <td>IRT</td>\n",
       "      <td>09/29/2021</td>\n",
       "      <td>01:00:00</td>\n",
       "      <td>REGULAR</td>\n",
       "      <td>5871934</td>\n",
       "      <td>896725</td>\n",
       "    </tr>\n",
       "    <tr>\n",
       "      <th>145037</th>\n",
       "      <td>R164</td>\n",
       "      <td>R167</td>\n",
       "      <td>00-00-00</td>\n",
       "      <td>86 ST</td>\n",
       "      <td>1</td>\n",
       "      <td>IRT</td>\n",
       "      <td>11/04/2021</td>\n",
       "      <td>13:00:00</td>\n",
       "      <td>REGULAR</td>\n",
       "      <td>1114183</td>\n",
       "      <td>1867155</td>\n",
       "    </tr>\n",
       "  </tbody>\n",
       "</table>\n",
       "</div>"
      ],
      "text/plain": [
       "         C/A  UNIT       SCP        STATION LINENAME DIVISION        DATE  \\\n",
       "105161  N521  R300  01-00-01           2 AV        F      IND  10/21/2021   \n",
       "143814  R160  R164  02-00-02  66 ST-LINCOLN        1      IRT  09/29/2021   \n",
       "145037  R164  R167  00-00-00          86 ST        1      IRT  11/04/2021   \n",
       "\n",
       "            TIME     DESC  ENTRIES  \\\n",
       "105161  00:00:00  REGULAR  4960458   \n",
       "143814  01:00:00  REGULAR  5871934   \n",
       "145037  13:00:00  REGULAR  1114183   \n",
       "\n",
       "        EXITS                                                                 \n",
       "105161                                            5106758                     \n",
       "143814                                             896725                     \n",
       "145037                                            1867155                     "
      ]
     },
     "execution_count": 53,
     "metadata": {},
     "output_type": "execute_result"
    }
   ],
   "source": [
    "data.sample(3)"
   ]
  },
  {
   "cell_type": "markdown",
   "id": "8740433c",
   "metadata": {},
   "source": [
    "- the ‘ENTRIES’ and ‘EXIT’ columns are cumulative serial numbers that increase with time. Also, the rows of the ‘TIME’ column progress at approximately 4 hour blocks and each turnstile has a unique combinations of ‘UNIT’ and ‘SCP’ number as shown. Some rows are also found to be duplicates, and are removed."
   ]
  },
  {
   "cell_type": "code",
   "execution_count": 54,
   "id": "fa5272b3",
   "metadata": {
    "scrolled": true
   },
   "outputs": [
    {
     "data": {
      "text/plain": [
       "08/28/2021    30021\n",
       "08/29/2021    29754\n",
       "08/30/2021    30738\n",
       "08/31/2021    29865\n",
       "09/01/2021    30159\n",
       "              ...  \n",
       "12/20/2021    30120\n",
       "12/21/2021    30015\n",
       "12/22/2021    30005\n",
       "12/23/2021    30232\n",
       "12/24/2021    29969\n",
       "Name: DATE, Length: 112, dtype: int64"
      ]
     },
     "execution_count": 54,
     "metadata": {},
     "output_type": "execute_result"
    }
   ],
   "source": [
    "data.DATE.value_counts().sort_index()"
   ]
  },
  {
   "cell_type": "code",
   "execution_count": 57,
   "id": "cacf0d1f",
   "metadata": {
    "scrolled": true
   },
   "outputs": [
    {
     "data": {
      "text/plain": [
       "UNIT  SCP     \n",
       "R001  00-00-00    1\n",
       "R270  00-00-01    1\n",
       "      00-00-00    1\n",
       "R269  01-06-01    1\n",
       "      01-06-00    1\n",
       "                 ..\n",
       "R112  01-06-01    1\n",
       "      01-06-00    1\n",
       "      01-05-01    1\n",
       "R113  00-00-04    1\n",
       "R572  01-03-04    1\n",
       "Name: STATION, Length: 5046, dtype: int64"
      ]
     },
     "execution_count": 57,
     "metadata": {},
     "output_type": "execute_result"
    }
   ],
   "source": [
    "data.groupby(['UNIT','SCP'])['STATION'].nunique().sort_values()  \n",
    "#checking combination of 'UNIT' and 'SCP' is unique to each station,implying each combination refers to a unique turnstile\""
   ]
  },
  {
   "cell_type": "code",
   "execution_count": 58,
   "id": "08bd82d1",
   "metadata": {},
   "outputs": [
    {
     "name": "stdout",
     "output_type": "stream",
     "text": [
      "<class 'pandas.core.frame.DataFrame'>\n",
      "Int64Index: 3362235 entries, 0 to 210382\n",
      "Data columns (total 12 columns):\n",
      " #   Column                                                                Dtype         \n",
      "---  ------                                                                -----         \n",
      " 0   C/A                                                                   object        \n",
      " 1   UNIT                                                                  object        \n",
      " 2   SCP                                                                   object        \n",
      " 3   STATION                                                               object        \n",
      " 4   LINENAME                                                              object        \n",
      " 5   DIVISION                                                              object        \n",
      " 6   DATE                                                                  object        \n",
      " 7   TIME                                                                  object        \n",
      " 8   DESC                                                                  object        \n",
      " 9   ENTRIES                                                               int64         \n",
      " 10  EXITS                                                                 int64         \n",
      " 11  DATETIME                                                              datetime64[ns]\n",
      "dtypes: datetime64[ns](1), int64(2), object(9)\n",
      "memory usage: 333.5+ MB\n"
     ]
    }
   ],
   "source": [
    "# Creating DATETIME as datetime64 column that concatenate \"DATE\" and \"TIME\"\n",
    "\n",
    "data['DATETIME'] = data[\"DATE\"]+ \" \" + data[\"TIME\"]\n",
    "\n",
    "data['DATETIME'] = pd.to_datetime(data['DATETIME'], format='%m/%d/%Y %H:%M:%S')\n",
    "\n",
    "data.info()"
   ]
  },
  {
   "cell_type": "code",
   "execution_count": 59,
   "id": "a6e88dfb",
   "metadata": {},
   "outputs": [
    {
     "data": {
      "text/html": [
       "<div>\n",
       "<style scoped>\n",
       "    .dataframe tbody tr th:only-of-type {\n",
       "        vertical-align: middle;\n",
       "    }\n",
       "\n",
       "    .dataframe tbody tr th {\n",
       "        vertical-align: top;\n",
       "    }\n",
       "\n",
       "    .dataframe thead th {\n",
       "        text-align: right;\n",
       "    }\n",
       "</style>\n",
       "<table border=\"1\" class=\"dataframe\">\n",
       "  <thead>\n",
       "    <tr style=\"text-align: right;\">\n",
       "      <th></th>\n",
       "      <th>ENTRIES</th>\n",
       "      <th>EXITS</th>\n",
       "    </tr>\n",
       "  </thead>\n",
       "  <tbody>\n",
       "    <tr>\n",
       "      <th>count</th>\n",
       "      <td>3.362235e+06</td>\n",
       "      <td>3.362235e+06</td>\n",
       "    </tr>\n",
       "    <tr>\n",
       "      <th>mean</th>\n",
       "      <td>4.184798e+07</td>\n",
       "      <td>3.372513e+07</td>\n",
       "    </tr>\n",
       "    <tr>\n",
       "      <th>std</th>\n",
       "      <td>2.198453e+08</td>\n",
       "      <td>1.940607e+08</td>\n",
       "    </tr>\n",
       "    <tr>\n",
       "      <th>min</th>\n",
       "      <td>0.000000e+00</td>\n",
       "      <td>0.000000e+00</td>\n",
       "    </tr>\n",
       "    <tr>\n",
       "      <th>25%</th>\n",
       "      <td>2.306530e+05</td>\n",
       "      <td>1.124580e+05</td>\n",
       "    </tr>\n",
       "    <tr>\n",
       "      <th>50%</th>\n",
       "      <td>1.377808e+06</td>\n",
       "      <td>8.545780e+05</td>\n",
       "    </tr>\n",
       "    <tr>\n",
       "      <th>75%</th>\n",
       "      <td>5.995788e+06</td>\n",
       "      <td>3.986998e+06</td>\n",
       "    </tr>\n",
       "    <tr>\n",
       "      <th>max</th>\n",
       "      <td>2.147386e+09</td>\n",
       "      <td>2.133797e+09</td>\n",
       "    </tr>\n",
       "  </tbody>\n",
       "</table>\n",
       "</div>"
      ],
      "text/plain": [
       "            ENTRIES  \\\n",
       "count  3.362235e+06   \n",
       "mean   4.184798e+07   \n",
       "std    2.198453e+08   \n",
       "min    0.000000e+00   \n",
       "25%    2.306530e+05   \n",
       "50%    1.377808e+06   \n",
       "75%    5.995788e+06   \n",
       "max    2.147386e+09   \n",
       "\n",
       "       EXITS                                                                 \n",
       "count                                       3.362235e+06                     \n",
       "mean                                        3.372513e+07                     \n",
       "std                                         1.940607e+08                     \n",
       "min                                         0.000000e+00                     \n",
       "25%                                         1.124580e+05                     \n",
       "50%                                         8.545780e+05                     \n",
       "75%                                         3.986998e+06                     \n",
       "max                                         2.133797e+09                     "
      ]
     },
     "execution_count": 59,
     "metadata": {},
     "output_type": "execute_result"
    }
   ],
   "source": [
    "data.describe()"
   ]
  },
  {
   "cell_type": "code",
   "execution_count": 60,
   "id": "51ee6ff4",
   "metadata": {},
   "outputs": [
    {
     "data": {
      "text/html": [
       "<div>\n",
       "<style scoped>\n",
       "    .dataframe tbody tr th:only-of-type {\n",
       "        vertical-align: middle;\n",
       "    }\n",
       "\n",
       "    .dataframe tbody tr th {\n",
       "        vertical-align: top;\n",
       "    }\n",
       "\n",
       "    .dataframe thead th {\n",
       "        text-align: right;\n",
       "    }\n",
       "</style>\n",
       "<table border=\"1\" class=\"dataframe\">\n",
       "  <thead>\n",
       "    <tr style=\"text-align: right;\">\n",
       "      <th></th>\n",
       "      <th>C/A</th>\n",
       "      <th>UNIT</th>\n",
       "      <th>SCP</th>\n",
       "      <th>STATION</th>\n",
       "      <th>LINENAME</th>\n",
       "      <th>DIVISION</th>\n",
       "      <th>DATE</th>\n",
       "      <th>TIME</th>\n",
       "      <th>DESC</th>\n",
       "      <th>ENTRIES</th>\n",
       "      <th>EXITS</th>\n",
       "      <th>DATETIME</th>\n",
       "      <th>DAY</th>\n",
       "    </tr>\n",
       "  </thead>\n",
       "  <tbody>\n",
       "    <tr>\n",
       "      <th>36029</th>\n",
       "      <td>H019</td>\n",
       "      <td>R294</td>\n",
       "      <td>00-00-01</td>\n",
       "      <td>MORGAN AV</td>\n",
       "      <td>L</td>\n",
       "      <td>BMT</td>\n",
       "      <td>11/12/2021</td>\n",
       "      <td>07:00:00</td>\n",
       "      <td>REGULAR</td>\n",
       "      <td>343989</td>\n",
       "      <td>173513</td>\n",
       "      <td>2021-11-12 07:00:00</td>\n",
       "      <td>Friday</td>\n",
       "    </tr>\n",
       "    <tr>\n",
       "      <th>193015</th>\n",
       "      <td>R532</td>\n",
       "      <td>R328</td>\n",
       "      <td>00-00-01</td>\n",
       "      <td>METS-WILLETS PT</td>\n",
       "      <td>7</td>\n",
       "      <td>IRT</td>\n",
       "      <td>11/01/2021</td>\n",
       "      <td>17:00:00</td>\n",
       "      <td>REGULAR</td>\n",
       "      <td>101392</td>\n",
       "      <td>81962</td>\n",
       "      <td>2021-11-01 17:00:00</td>\n",
       "      <td>Monday</td>\n",
       "    </tr>\n",
       "    <tr>\n",
       "      <th>196788</th>\n",
       "      <td>R550</td>\n",
       "      <td>R072</td>\n",
       "      <td>00-03-04</td>\n",
       "      <td>34 ST-HUDSON YD</td>\n",
       "      <td>7</td>\n",
       "      <td>IRT</td>\n",
       "      <td>10/18/2021</td>\n",
       "      <td>08:00:00</td>\n",
       "      <td>REGULAR</td>\n",
       "      <td>2394207</td>\n",
       "      <td>904891</td>\n",
       "      <td>2021-10-18 08:00:00</td>\n",
       "      <td>Monday</td>\n",
       "    </tr>\n",
       "    <tr>\n",
       "      <th>46370</th>\n",
       "      <td>N012</td>\n",
       "      <td>R035</td>\n",
       "      <td>01-05-01</td>\n",
       "      <td>168 ST</td>\n",
       "      <td>AC1</td>\n",
       "      <td>IND</td>\n",
       "      <td>08/30/2021</td>\n",
       "      <td>20:00:00</td>\n",
       "      <td>REGULAR</td>\n",
       "      <td>262144</td>\n",
       "      <td>20</td>\n",
       "      <td>2021-08-30 20:00:00</td>\n",
       "      <td>Monday</td>\n",
       "    </tr>\n",
       "    <tr>\n",
       "      <th>68932</th>\n",
       "      <td>N121B</td>\n",
       "      <td>R438</td>\n",
       "      <td>00-00-02</td>\n",
       "      <td>RALPH AV</td>\n",
       "      <td>C</td>\n",
       "      <td>IND</td>\n",
       "      <td>12/06/2021</td>\n",
       "      <td>00:00:00</td>\n",
       "      <td>REGULAR</td>\n",
       "      <td>1623</td>\n",
       "      <td>1706</td>\n",
       "      <td>2021-12-06 00:00:00</td>\n",
       "      <td>Monday</td>\n",
       "    </tr>\n",
       "  </tbody>\n",
       "</table>\n",
       "</div>"
      ],
      "text/plain": [
       "          C/A  UNIT       SCP          STATION LINENAME DIVISION        DATE  \\\n",
       "36029    H019  R294  00-00-01        MORGAN AV        L      BMT  11/12/2021   \n",
       "193015   R532  R328  00-00-01  METS-WILLETS PT        7      IRT  11/01/2021   \n",
       "196788   R550  R072  00-03-04  34 ST-HUDSON YD        7      IRT  10/18/2021   \n",
       "46370    N012  R035  01-05-01           168 ST      AC1      IND  08/30/2021   \n",
       "68932   N121B  R438  00-00-02         RALPH AV        C      IND  12/06/2021   \n",
       "\n",
       "            TIME     DESC  ENTRIES  \\\n",
       "36029   07:00:00  REGULAR   343989   \n",
       "193015  17:00:00  REGULAR   101392   \n",
       "196788  08:00:00  REGULAR  2394207   \n",
       "46370   20:00:00  REGULAR   262144   \n",
       "68932   00:00:00  REGULAR     1623   \n",
       "\n",
       "        EXITS                                                                 \\\n",
       "36029                                              173513                      \n",
       "193015                                              81962                      \n",
       "196788                                             904891                      \n",
       "46370                                                  20                      \n",
       "68932                                                1706                      \n",
       "\n",
       "                  DATETIME     DAY  \n",
       "36029  2021-11-12 07:00:00  Friday  \n",
       "193015 2021-11-01 17:00:00  Monday  \n",
       "196788 2021-10-18 08:00:00  Monday  \n",
       "46370  2021-08-30 20:00:00  Monday  \n",
       "68932  2021-12-06 00:00:00  Monday  "
      ]
     },
     "execution_count": 60,
     "metadata": {},
     "output_type": "execute_result"
    }
   ],
   "source": [
    "#Create a column that called \"DAY\"\n",
    "data[\"DAY\"]= data[\"DATETIME\"].dt.day_name()\n",
    "\n",
    "#Checking sample 5 rows\n",
    "data.sample(5)"
   ]
  },
  {
   "cell_type": "code",
   "execution_count": 61,
   "id": "20b24932",
   "metadata": {
    "scrolled": true
   },
   "outputs": [
    {
     "data": {
      "text/html": [
       "<div>\n",
       "<style scoped>\n",
       "    .dataframe tbody tr th:only-of-type {\n",
       "        vertical-align: middle;\n",
       "    }\n",
       "\n",
       "    .dataframe tbody tr th {\n",
       "        vertical-align: top;\n",
       "    }\n",
       "\n",
       "    .dataframe thead th {\n",
       "        text-align: right;\n",
       "    }\n",
       "</style>\n",
       "<table border=\"1\" class=\"dataframe\">\n",
       "  <thead>\n",
       "    <tr style=\"text-align: right;\">\n",
       "      <th></th>\n",
       "      <th>C/A</th>\n",
       "      <th>UNIT</th>\n",
       "      <th>SCP</th>\n",
       "      <th>STATION</th>\n",
       "      <th>LINENAME</th>\n",
       "      <th>DIVISION</th>\n",
       "      <th>DATE</th>\n",
       "      <th>TIME</th>\n",
       "      <th>DESC</th>\n",
       "      <th>ENTRIES</th>\n",
       "      <th>EXITS</th>\n",
       "      <th>DATETIME</th>\n",
       "      <th>DAY</th>\n",
       "      <th>TURNSTILE</th>\n",
       "    </tr>\n",
       "  </thead>\n",
       "  <tbody>\n",
       "    <tr>\n",
       "      <th>0</th>\n",
       "      <td>A002</td>\n",
       "      <td>R051</td>\n",
       "      <td>02-00-00</td>\n",
       "      <td>59 ST</td>\n",
       "      <td>NQR456W</td>\n",
       "      <td>BMT</td>\n",
       "      <td>08/28/2021</td>\n",
       "      <td>00:00:00</td>\n",
       "      <td>REGULAR</td>\n",
       "      <td>7625998</td>\n",
       "      <td>2609113</td>\n",
       "      <td>2021-08-28 00:00:00</td>\n",
       "      <td>Saturday</td>\n",
       "      <td>A002-R051-02-00-00</td>\n",
       "    </tr>\n",
       "    <tr>\n",
       "      <th>1</th>\n",
       "      <td>A002</td>\n",
       "      <td>R051</td>\n",
       "      <td>02-00-00</td>\n",
       "      <td>59 ST</td>\n",
       "      <td>NQR456W</td>\n",
       "      <td>BMT</td>\n",
       "      <td>08/28/2021</td>\n",
       "      <td>04:00:00</td>\n",
       "      <td>REGULAR</td>\n",
       "      <td>7626014</td>\n",
       "      <td>2609117</td>\n",
       "      <td>2021-08-28 04:00:00</td>\n",
       "      <td>Saturday</td>\n",
       "      <td>A002-R051-02-00-00</td>\n",
       "    </tr>\n",
       "  </tbody>\n",
       "</table>\n",
       "</div>"
      ],
      "text/plain": [
       "    C/A  UNIT       SCP STATION LINENAME DIVISION        DATE      TIME  \\\n",
       "0  A002  R051  02-00-00   59 ST  NQR456W      BMT  08/28/2021  00:00:00   \n",
       "1  A002  R051  02-00-00   59 ST  NQR456W      BMT  08/28/2021  04:00:00   \n",
       "\n",
       "      DESC  ENTRIES  \\\n",
       "0  REGULAR  7625998   \n",
       "1  REGULAR  7626014   \n",
       "\n",
       "   EXITS                                                                 \\\n",
       "0                                            2609113                      \n",
       "1                                            2609117                      \n",
       "\n",
       "             DATETIME       DAY           TURNSTILE  \n",
       "0 2021-08-28 00:00:00  Saturday  A002-R051-02-00-00  \n",
       "1 2021-08-28 04:00:00  Saturday  A002-R051-02-00-00  "
      ]
     },
     "execution_count": 61,
     "metadata": {},
     "output_type": "execute_result"
    }
   ],
   "source": [
    "# Adding \"TURNSTILE\" columns that concatenate 'C/A', 'UNIT', 'SCP'\n",
    "\n",
    "data[\"TURNSTILE\"] = data[\"C/A\"]+\"-\"+data[\"UNIT\"]+\"-\"+data[\"SCP\"]\n",
    "\n",
    "data.head(2)"
   ]
  },
  {
   "cell_type": "code",
   "execution_count": 66,
   "id": "e115458d",
   "metadata": {},
   "outputs": [
    {
     "data": {
      "text/plain": [
       "Index(['C/A', 'UNIT', 'SCP', 'STATION', 'LINENAME', 'DIVISION', 'DATE', 'TIME',\n",
       "       'DESC', 'ENTRIES',\n",
       "       'EXITS                                                               ',\n",
       "       'DATETIME', 'DAY', 'TURNSTILE'],\n",
       "      dtype='object')"
      ]
     },
     "execution_count": 66,
     "metadata": {},
     "output_type": "execute_result"
    }
   ],
   "source": [
    "data.columns"
   ]
  },
  {
   "cell_type": "code",
   "execution_count": 69,
   "id": "84080570",
   "metadata": {},
   "outputs": [
    {
     "data": {
      "text/html": [
       "<div>\n",
       "<style scoped>\n",
       "    .dataframe tbody tr th:only-of-type {\n",
       "        vertical-align: middle;\n",
       "    }\n",
       "\n",
       "    .dataframe tbody tr th {\n",
       "        vertical-align: top;\n",
       "    }\n",
       "\n",
       "    .dataframe thead th {\n",
       "        text-align: right;\n",
       "    }\n",
       "</style>\n",
       "<table border=\"1\" class=\"dataframe\">\n",
       "  <thead>\n",
       "    <tr style=\"text-align: right;\">\n",
       "      <th></th>\n",
       "      <th>TURNSTILE</th>\n",
       "      <th>STATION</th>\n",
       "      <th>DATE</th>\n",
       "      <th>TIME</th>\n",
       "      <th>DATETIME</th>\n",
       "      <th>DAY</th>\n",
       "      <th>ENTRIES</th>\n",
       "      <th>EXITS</th>\n",
       "    </tr>\n",
       "  </thead>\n",
       "  <tbody>\n",
       "    <tr>\n",
       "      <th>0</th>\n",
       "      <td>A002-R051-02-00-00</td>\n",
       "      <td>59 ST</td>\n",
       "      <td>08/28/2021</td>\n",
       "      <td>00:00:00</td>\n",
       "      <td>2021-08-28 00:00:00</td>\n",
       "      <td>Saturday</td>\n",
       "      <td>7625998</td>\n",
       "      <td>2609113</td>\n",
       "    </tr>\n",
       "    <tr>\n",
       "      <th>1</th>\n",
       "      <td>A002-R051-02-00-00</td>\n",
       "      <td>59 ST</td>\n",
       "      <td>08/28/2021</td>\n",
       "      <td>04:00:00</td>\n",
       "      <td>2021-08-28 04:00:00</td>\n",
       "      <td>Saturday</td>\n",
       "      <td>7626014</td>\n",
       "      <td>2609117</td>\n",
       "    </tr>\n",
       "    <tr>\n",
       "      <th>2</th>\n",
       "      <td>A002-R051-02-00-00</td>\n",
       "      <td>59 ST</td>\n",
       "      <td>08/28/2021</td>\n",
       "      <td>08:00:00</td>\n",
       "      <td>2021-08-28 08:00:00</td>\n",
       "      <td>Saturday</td>\n",
       "      <td>7626024</td>\n",
       "      <td>2609135</td>\n",
       "    </tr>\n",
       "    <tr>\n",
       "      <th>3</th>\n",
       "      <td>A002-R051-02-00-00</td>\n",
       "      <td>59 ST</td>\n",
       "      <td>08/28/2021</td>\n",
       "      <td>12:00:00</td>\n",
       "      <td>2021-08-28 12:00:00</td>\n",
       "      <td>Saturday</td>\n",
       "      <td>7626086</td>\n",
       "      <td>2609191</td>\n",
       "    </tr>\n",
       "    <tr>\n",
       "      <th>4</th>\n",
       "      <td>A002-R051-02-00-00</td>\n",
       "      <td>59 ST</td>\n",
       "      <td>08/28/2021</td>\n",
       "      <td>16:00:00</td>\n",
       "      <td>2021-08-28 16:00:00</td>\n",
       "      <td>Saturday</td>\n",
       "      <td>7626206</td>\n",
       "      <td>2609221</td>\n",
       "    </tr>\n",
       "  </tbody>\n",
       "</table>\n",
       "</div>"
      ],
      "text/plain": [
       "            TURNSTILE STATION        DATE      TIME            DATETIME  \\\n",
       "0  A002-R051-02-00-00   59 ST  08/28/2021  00:00:00 2021-08-28 00:00:00   \n",
       "1  A002-R051-02-00-00   59 ST  08/28/2021  04:00:00 2021-08-28 04:00:00   \n",
       "2  A002-R051-02-00-00   59 ST  08/28/2021  08:00:00 2021-08-28 08:00:00   \n",
       "3  A002-R051-02-00-00   59 ST  08/28/2021  12:00:00 2021-08-28 12:00:00   \n",
       "4  A002-R051-02-00-00   59 ST  08/28/2021  16:00:00 2021-08-28 16:00:00   \n",
       "\n",
       "        DAY  ENTRIES    EXITS  \n",
       "0  Saturday  7625998  2609113  \n",
       "1  Saturday  7626014  2609117  \n",
       "2  Saturday  7626024  2609135  \n",
       "3  Saturday  7626086  2609191  \n",
       "4  Saturday  7626206  2609221  "
      ]
     },
     "execution_count": 69,
     "metadata": {},
     "output_type": "execute_result"
    }
   ],
   "source": [
    "# Working with some columns\n",
    "\n",
    "my_data = data[[\"TURNSTILE\",\"STATION\",\"DATE\",\"TIME\",\"DATETIME\",\"DAY\",\"ENTRIES\", \"EXITS\"]]\n",
    "my_data.head()\n"
   ]
  },
  {
   "cell_type": "code",
   "execution_count": 70,
   "id": "1ef2c233",
   "metadata": {
    "scrolled": false
   },
   "outputs": [
    {
     "data": {
      "text/plain": [
       "34 ST-PENN STA     68819\n",
       "FULTON ST          64447\n",
       "GRD CNTRL-42 ST    63519\n",
       "23 ST              49068\n",
       "86 ST              43708\n",
       "CANAL ST           39063\n",
       "59 ST              37551\n",
       "CHAMBERS ST        37423\n",
       "34 ST-HERALD SQ    35977\n",
       "ATL AV-BARCLAY     34411\n",
       "Name: STATION, dtype: int64"
      ]
     },
     "execution_count": 70,
     "metadata": {},
     "output_type": "execute_result"
    }
   ],
   "source": [
    "my_data.STATION.value_counts().sort_values(ascending=False).head(10)"
   ]
  },
  {
   "cell_type": "code",
   "execution_count": 71,
   "id": "d1eb9a48",
   "metadata": {},
   "outputs": [],
   "source": [
    "turnstiles_daily = (my_data.groupby([\"TURNSTILE\", \"STATION\", \"DATE\",'DAY'],as_index=False).ENTRIES.first())\n",
    "                                                "
   ]
  },
  {
   "cell_type": "code",
   "execution_count": 72,
   "id": "870665b9",
   "metadata": {},
   "outputs": [
    {
     "data": {
      "text/html": [
       "<div>\n",
       "<style scoped>\n",
       "    .dataframe tbody tr th:only-of-type {\n",
       "        vertical-align: middle;\n",
       "    }\n",
       "\n",
       "    .dataframe tbody tr th {\n",
       "        vertical-align: top;\n",
       "    }\n",
       "\n",
       "    .dataframe thead th {\n",
       "        text-align: right;\n",
       "    }\n",
       "</style>\n",
       "<table border=\"1\" class=\"dataframe\">\n",
       "  <thead>\n",
       "    <tr style=\"text-align: right;\">\n",
       "      <th></th>\n",
       "      <th>TURNSTILE</th>\n",
       "      <th>STATION</th>\n",
       "      <th>DATE</th>\n",
       "      <th>DAY</th>\n",
       "      <th>ENTRIES</th>\n",
       "    </tr>\n",
       "  </thead>\n",
       "  <tbody>\n",
       "    <tr>\n",
       "      <th>0</th>\n",
       "      <td>A002-R051-02-00-00</td>\n",
       "      <td>59 ST</td>\n",
       "      <td>08/28/2021</td>\n",
       "      <td>Saturday</td>\n",
       "      <td>7625998</td>\n",
       "    </tr>\n",
       "    <tr>\n",
       "      <th>1</th>\n",
       "      <td>A002-R051-02-00-00</td>\n",
       "      <td>59 ST</td>\n",
       "      <td>08/29/2021</td>\n",
       "      <td>Sunday</td>\n",
       "      <td>7626446</td>\n",
       "    </tr>\n",
       "    <tr>\n",
       "      <th>2</th>\n",
       "      <td>A002-R051-02-00-00</td>\n",
       "      <td>59 ST</td>\n",
       "      <td>08/30/2021</td>\n",
       "      <td>Monday</td>\n",
       "      <td>7626814</td>\n",
       "    </tr>\n",
       "    <tr>\n",
       "      <th>3</th>\n",
       "      <td>A002-R051-02-00-00</td>\n",
       "      <td>59 ST</td>\n",
       "      <td>08/31/2021</td>\n",
       "      <td>Tuesday</td>\n",
       "      <td>7627394</td>\n",
       "    </tr>\n",
       "    <tr>\n",
       "      <th>4</th>\n",
       "      <td>A002-R051-02-00-00</td>\n",
       "      <td>59 ST</td>\n",
       "      <td>09/01/2021</td>\n",
       "      <td>Wednesday</td>\n",
       "      <td>7628030</td>\n",
       "    </tr>\n",
       "  </tbody>\n",
       "</table>\n",
       "</div>"
      ],
      "text/plain": [
       "            TURNSTILE STATION        DATE        DAY  ENTRIES\n",
       "0  A002-R051-02-00-00   59 ST  08/28/2021   Saturday  7625998\n",
       "1  A002-R051-02-00-00   59 ST  08/29/2021     Sunday  7626446\n",
       "2  A002-R051-02-00-00   59 ST  08/30/2021     Monday  7626814\n",
       "3  A002-R051-02-00-00   59 ST  08/31/2021    Tuesday  7627394\n",
       "4  A002-R051-02-00-00   59 ST  09/01/2021  Wednesday  7628030"
      ]
     },
     "execution_count": 72,
     "metadata": {},
     "output_type": "execute_result"
    }
   ],
   "source": [
    "turnstiles_daily.head()"
   ]
  },
  {
   "cell_type": "code",
   "execution_count": 73,
   "id": "6a89650f",
   "metadata": {},
   "outputs": [
    {
     "name": "stderr",
     "output_type": "stream",
     "text": [
      "/anaconda3/lib/python3.7/site-packages/ipykernel_launcher.py:2: FutureWarning: Indexing with multiple keys (implicitly converted to a tuple of keys) will be deprecated, use a list instead.\n",
      "  \n"
     ]
    }
   ],
   "source": [
    "turnstiles_daily[[\"PREV_DATE\", \"PREV_ENTRIES\"]] = (turnstiles_daily\n",
    "                                                       .groupby([\"TURNSTILE\", \"STATION\"])[\"DATE\",\"ENTRIES\"]\n",
    "                                                       .apply(lambda grp: grp.shift(1)))"
   ]
  },
  {
   "cell_type": "code",
   "execution_count": 74,
   "id": "24755a83",
   "metadata": {},
   "outputs": [
    {
     "data": {
      "text/html": [
       "<div>\n",
       "<style scoped>\n",
       "    .dataframe tbody tr th:only-of-type {\n",
       "        vertical-align: middle;\n",
       "    }\n",
       "\n",
       "    .dataframe tbody tr th {\n",
       "        vertical-align: top;\n",
       "    }\n",
       "\n",
       "    .dataframe thead th {\n",
       "        text-align: right;\n",
       "    }\n",
       "</style>\n",
       "<table border=\"1\" class=\"dataframe\">\n",
       "  <thead>\n",
       "    <tr style=\"text-align: right;\">\n",
       "      <th></th>\n",
       "      <th>TURNSTILE</th>\n",
       "      <th>STATION</th>\n",
       "      <th>DATE</th>\n",
       "      <th>DAY</th>\n",
       "      <th>ENTRIES</th>\n",
       "      <th>PREV_DATE</th>\n",
       "      <th>PREV_ENTRIES</th>\n",
       "    </tr>\n",
       "  </thead>\n",
       "  <tbody>\n",
       "    <tr>\n",
       "      <th>0</th>\n",
       "      <td>A002-R051-02-00-00</td>\n",
       "      <td>59 ST</td>\n",
       "      <td>08/28/2021</td>\n",
       "      <td>Saturday</td>\n",
       "      <td>7625998</td>\n",
       "      <td>NaN</td>\n",
       "      <td>NaN</td>\n",
       "    </tr>\n",
       "    <tr>\n",
       "      <th>1</th>\n",
       "      <td>A002-R051-02-00-00</td>\n",
       "      <td>59 ST</td>\n",
       "      <td>08/29/2021</td>\n",
       "      <td>Sunday</td>\n",
       "      <td>7626446</td>\n",
       "      <td>08/28/2021</td>\n",
       "      <td>7625998.0</td>\n",
       "    </tr>\n",
       "    <tr>\n",
       "      <th>2</th>\n",
       "      <td>A002-R051-02-00-00</td>\n",
       "      <td>59 ST</td>\n",
       "      <td>08/30/2021</td>\n",
       "      <td>Monday</td>\n",
       "      <td>7626814</td>\n",
       "      <td>08/29/2021</td>\n",
       "      <td>7626446.0</td>\n",
       "    </tr>\n",
       "    <tr>\n",
       "      <th>3</th>\n",
       "      <td>A002-R051-02-00-00</td>\n",
       "      <td>59 ST</td>\n",
       "      <td>08/31/2021</td>\n",
       "      <td>Tuesday</td>\n",
       "      <td>7627394</td>\n",
       "      <td>08/30/2021</td>\n",
       "      <td>7626814.0</td>\n",
       "    </tr>\n",
       "    <tr>\n",
       "      <th>4</th>\n",
       "      <td>A002-R051-02-00-00</td>\n",
       "      <td>59 ST</td>\n",
       "      <td>09/01/2021</td>\n",
       "      <td>Wednesday</td>\n",
       "      <td>7628030</td>\n",
       "      <td>08/31/2021</td>\n",
       "      <td>7627394.0</td>\n",
       "    </tr>\n",
       "  </tbody>\n",
       "</table>\n",
       "</div>"
      ],
      "text/plain": [
       "            TURNSTILE STATION        DATE        DAY  ENTRIES   PREV_DATE  \\\n",
       "0  A002-R051-02-00-00   59 ST  08/28/2021   Saturday  7625998         NaN   \n",
       "1  A002-R051-02-00-00   59 ST  08/29/2021     Sunday  7626446  08/28/2021   \n",
       "2  A002-R051-02-00-00   59 ST  08/30/2021     Monday  7626814  08/29/2021   \n",
       "3  A002-R051-02-00-00   59 ST  08/31/2021    Tuesday  7627394  08/30/2021   \n",
       "4  A002-R051-02-00-00   59 ST  09/01/2021  Wednesday  7628030  08/31/2021   \n",
       "\n",
       "   PREV_ENTRIES  \n",
       "0           NaN  \n",
       "1     7625998.0  \n",
       "2     7626446.0  \n",
       "3     7626814.0  \n",
       "4     7627394.0  "
      ]
     },
     "execution_count": 74,
     "metadata": {},
     "output_type": "execute_result"
    }
   ],
   "source": [
    "turnstiles_daily.head()"
   ]
  },
  {
   "cell_type": "code",
   "execution_count": 75,
   "id": "5b9430cb",
   "metadata": {},
   "outputs": [],
   "source": [
    "turnstiles_daily.dropna(subset=[\"PREV_DATE\"], axis=0, inplace=True)"
   ]
  },
  {
   "cell_type": "code",
   "execution_count": 76,
   "id": "18469d7b",
   "metadata": {},
   "outputs": [
    {
     "data": {
      "text/plain": [
       "TURNSTILE           STATION        \n",
       "A011-R080-01-03-00  57 ST-7 AV         111\n",
       "A013-R081-01-03-00  49 ST                1\n",
       "A015-R081-00-00-02  49 ST                1\n",
       "A046-R463-00-05-02  CANAL ST             1\n",
       "A049-R088-02-05-00  CORTLANDT ST        67\n",
       "                                      ... \n",
       "R604-R108-03-00-03  BOROUGH HALL         1\n",
       "R612-R057-01-05-00  ATL AV-BARCLAY       1\n",
       "R622-R123-00-00-00  FRANKLIN AV        111\n",
       "R730-R431-00-00-04  EASTCHSTER/DYRE     99\n",
       "S101-R070-00-00-02  ST. GEORGE           7\n",
       "Length: 242, dtype: int64"
      ]
     },
     "execution_count": 76,
     "metadata": {},
     "output_type": "execute_result"
    }
   ],
   "source": [
    "(turnstiles_daily[turnstiles_daily[\"ENTRIES\"] < turnstiles_daily[\"PREV_ENTRIES\"]]\n",
    "    .groupby([\"TURNSTILE\", \"STATION\"])\n",
    "    .size())"
   ]
  },
  {
   "cell_type": "code",
   "execution_count": 77,
   "id": "e136b26b",
   "metadata": {},
   "outputs": [
    {
     "name": "stdout",
     "output_type": "stream",
     "text": [
      "120 5264647.0\n",
      "8 5597788.0\n",
      "16 1951349.0\n",
      "157 1458386.0\n",
      "24 453053819.0\n",
      "1562968059 113672.0\n",
      "98 9631533.0\n",
      "370 5609637.0\n",
      "98 9768823.0\n",
      "35 3295183.0\n",
      "33565264 188178.0\n",
      "327710 1560335855.0\n",
      "117453575 459314.0\n",
      "66 3272783.0\n",
      "125 2547896.0\n",
      "67136062 290420.0\n",
      "1979658535 9048037.0\n",
      "587209577 2350364.0\n",
      "687930078 2705017.0\n",
      "863597 1979303.0\n",
      "369104707 1458931.0\n",
      "1966525 196562.0\n",
      "83942366 378998.0\n",
      "7 6114337.0\n",
      "262 7403575.0\n",
      "4824 9321305.0\n",
      "100704896 418210.0\n",
      "123 12553627.0\n",
      "534 557914826.0\n",
      "46006400 7827911.0\n",
      "258 67470015.0\n",
      "2150004 1043924984.0\n",
      "219 1132812.0\n",
      "393358 3680673.0\n",
      "2031766 4435696.0\n",
      "1636499479 2450105.0\n",
      "642372 2358853.0\n",
      "992215084 1896551.0\n",
      "1198 2958702.0\n",
      "55 11194758.0\n",
      "102 8302412.0\n",
      "131 1617704.0\n",
      "241 2818347.0\n",
      "11123659 4624026.0\n",
      "5 11123659.0\n",
      "1891101745 1104755.0\n",
      "297 3154049.0\n",
      "3 10685516.0\n",
      "574 3502001.0\n",
      "393217 135403959.0\n",
      "50331648 262144.0\n",
      "19 2570917.0\n",
      "4278411 25672.0\n",
      "90 1040931947.0\n",
      "229 21943808.0\n",
      "94 3530461.0\n",
      "201331991 798740.0\n",
      "25 5768873.0\n",
      "34 3231628.0\n",
      "1089962103 146746222.0\n",
      "146744193 1089940447.0\n",
      "3539014 51735357.0\n",
      "394090 136995222.0\n",
      "188 4026667.0\n",
      "119 7682437.0\n",
      "94 9261341.0\n",
      "12 3478770.0\n",
      "1189019447 3740789.0\n",
      "346167 14044593.0\n",
      "14049774 346173.0\n",
      "774447 9474795.0\n",
      "9480674 774463.0\n",
      "7979566 788680.0\n",
      "794786 7979592.0\n",
      "1278449 8196657.0\n",
      "8204122 1278532.0\n",
      "635 4005490.0\n",
      "4006679 635.0\n",
      "124 1684100.0\n"
     ]
    }
   ],
   "source": [
    "def get_daily_counts(row, max_counter):\n",
    "    counter = row[\"ENTRIES\"] - row[\"PREV_ENTRIES\"]\n",
    "    if counter < 0:\n",
    "        counter = -counter\n",
    "    if counter > max_counter:\n",
    "        print(row[\"ENTRIES\"], row[\"PREV_ENTRIES\"])\n",
    "        return 0\n",
    "    return counter\n",
    "\n",
    "# If counter is > 1Million, then the counter might have been reset.  \n",
    "# Just set it to zero as different counters have different cycle limits\n",
    "_ = turnstiles_daily.apply(get_daily_counts, axis=1, max_counter=1000000)"
   ]
  },
  {
   "cell_type": "code",
   "execution_count": 78,
   "id": "23b79542",
   "metadata": {},
   "outputs": [
    {
     "name": "stdout",
     "output_type": "stream",
     "text": [
      "120 5264647.0\n",
      "8 5597788.0\n",
      "16 1951349.0\n",
      "157 1458386.0\n",
      "24 453053819.0\n",
      "1562968059 113672.0\n",
      "98 9631533.0\n",
      "370 5609637.0\n",
      "98 9768823.0\n",
      "35 3295183.0\n",
      "33565264 188178.0\n",
      "327710 1560335855.0\n",
      "117453575 459314.0\n",
      "66 3272783.0\n",
      "125 2547896.0\n",
      "67136062 290420.0\n",
      "1979658535 9048037.0\n",
      "587209577 2350364.0\n",
      "687930078 2705017.0\n",
      "863597 1979303.0\n",
      "369104707 1458931.0\n",
      "1966525 196562.0\n",
      "83942366 378998.0\n",
      "7 6114337.0\n",
      "262 7403575.0\n",
      "4824 9321305.0\n",
      "100704896 418210.0\n",
      "123 12553627.0\n",
      "534 557914826.0\n",
      "46006400 7827911.0\n",
      "258 67470015.0\n",
      "2150004 1043924984.0\n",
      "219 1132812.0\n",
      "393358 3680673.0\n",
      "2031766 4435696.0\n",
      "1636499479 2450105.0\n",
      "642372 2358853.0\n",
      "992215084 1896551.0\n",
      "1198 2958702.0\n",
      "55 11194758.0\n",
      "102 8302412.0\n",
      "131 1617704.0\n",
      "241 2818347.0\n",
      "11123659 4624026.0\n",
      "5 11123659.0\n",
      "1891101745 1104755.0\n",
      "297 3154049.0\n",
      "3 10685516.0\n",
      "574 3502001.0\n",
      "393217 135403959.0\n",
      "50331648 262144.0\n",
      "19 2570917.0\n",
      "4278411 25672.0\n",
      "90 1040931947.0\n",
      "229 21943808.0\n",
      "94 3530461.0\n",
      "201331991 798740.0\n",
      "25 5768873.0\n",
      "34 3231628.0\n",
      "1089962103 146746222.0\n",
      "146744193 1089940447.0\n",
      "3539014 51735357.0\n",
      "394090 136995222.0\n",
      "188 4026667.0\n",
      "119 7682437.0\n",
      "94 9261341.0\n",
      "12 3478770.0\n",
      "1189019447 3740789.0\n",
      "346167 14044593.0\n",
      "14049774 346173.0\n",
      "774447 9474795.0\n",
      "9480674 774463.0\n",
      "7979566 788680.0\n",
      "794786 7979592.0\n",
      "1278449 8196657.0\n",
      "8204122 1278532.0\n",
      "635 4005490.0\n",
      "4006679 635.0\n",
      "124 1684100.0\n"
     ]
    }
   ],
   "source": [
    "def get_daily_counts(row, max_counter):\n",
    "    counter = row[\"ENTRIES\"] - row[\"PREV_ENTRIES\"]\n",
    "    if counter < 0:\n",
    "        # Maybe counter is reversed?\n",
    "        counter = -counter\n",
    "    if counter > max_counter:\n",
    "        # Maybe counter was reset to 0? \n",
    "        print(row[\"ENTRIES\"], row[\"PREV_ENTRIES\"])\n",
    "        counter = min(row[\"ENTRIES\"], row[\"PREV_ENTRIES\"])\n",
    "    if counter > max_counter:\n",
    "        # Check it again to make sure we're not still giving a counter that's too big\n",
    "        return 0\n",
    "    return counter\n",
    "\n",
    "# If counter is > 1Million, then the counter might have been reset.  \n",
    "# Just set it to zero as different counters have different cycle limits\n",
    "# It'd probably be a good idea to use a number even significantly smaller than 1 million as the limit!\n",
    "turnstiles_daily[\"DAILY_ENTRIES\"] = turnstiles_daily.apply(get_daily_counts, axis=1, max_counter=1000000)"
   ]
  },
  {
   "cell_type": "code",
   "execution_count": 79,
   "id": "3ba04a61",
   "metadata": {
    "scrolled": true
   },
   "outputs": [
    {
     "data": {
      "text/html": [
       "<div>\n",
       "<style scoped>\n",
       "    .dataframe tbody tr th:only-of-type {\n",
       "        vertical-align: middle;\n",
       "    }\n",
       "\n",
       "    .dataframe tbody tr th {\n",
       "        vertical-align: top;\n",
       "    }\n",
       "\n",
       "    .dataframe thead th {\n",
       "        text-align: right;\n",
       "    }\n",
       "</style>\n",
       "<table border=\"1\" class=\"dataframe\">\n",
       "  <thead>\n",
       "    <tr style=\"text-align: right;\">\n",
       "      <th></th>\n",
       "      <th>TURNSTILE</th>\n",
       "      <th>STATION</th>\n",
       "      <th>DATE</th>\n",
       "      <th>DAY</th>\n",
       "      <th>ENTRIES</th>\n",
       "      <th>PREV_DATE</th>\n",
       "      <th>PREV_ENTRIES</th>\n",
       "      <th>DAILY_ENTRIES</th>\n",
       "    </tr>\n",
       "  </thead>\n",
       "  <tbody>\n",
       "    <tr>\n",
       "      <th>1</th>\n",
       "      <td>A002-R051-02-00-00</td>\n",
       "      <td>59 ST</td>\n",
       "      <td>08/29/2021</td>\n",
       "      <td>Sunday</td>\n",
       "      <td>7626446</td>\n",
       "      <td>08/28/2021</td>\n",
       "      <td>7625998.0</td>\n",
       "      <td>448.0</td>\n",
       "    </tr>\n",
       "    <tr>\n",
       "      <th>2</th>\n",
       "      <td>A002-R051-02-00-00</td>\n",
       "      <td>59 ST</td>\n",
       "      <td>08/30/2021</td>\n",
       "      <td>Monday</td>\n",
       "      <td>7626814</td>\n",
       "      <td>08/29/2021</td>\n",
       "      <td>7626446.0</td>\n",
       "      <td>368.0</td>\n",
       "    </tr>\n",
       "    <tr>\n",
       "      <th>3</th>\n",
       "      <td>A002-R051-02-00-00</td>\n",
       "      <td>59 ST</td>\n",
       "      <td>08/31/2021</td>\n",
       "      <td>Tuesday</td>\n",
       "      <td>7627394</td>\n",
       "      <td>08/30/2021</td>\n",
       "      <td>7626814.0</td>\n",
       "      <td>580.0</td>\n",
       "    </tr>\n",
       "    <tr>\n",
       "      <th>4</th>\n",
       "      <td>A002-R051-02-00-00</td>\n",
       "      <td>59 ST</td>\n",
       "      <td>09/01/2021</td>\n",
       "      <td>Wednesday</td>\n",
       "      <td>7628030</td>\n",
       "      <td>08/31/2021</td>\n",
       "      <td>7627394.0</td>\n",
       "      <td>636.0</td>\n",
       "    </tr>\n",
       "    <tr>\n",
       "      <th>5</th>\n",
       "      <td>A002-R051-02-00-00</td>\n",
       "      <td>59 ST</td>\n",
       "      <td>09/02/2021</td>\n",
       "      <td>Thursday</td>\n",
       "      <td>7628533</td>\n",
       "      <td>09/01/2021</td>\n",
       "      <td>7628030.0</td>\n",
       "      <td>503.0</td>\n",
       "    </tr>\n",
       "  </tbody>\n",
       "</table>\n",
       "</div>"
      ],
      "text/plain": [
       "            TURNSTILE STATION        DATE        DAY  ENTRIES   PREV_DATE  \\\n",
       "1  A002-R051-02-00-00   59 ST  08/29/2021     Sunday  7626446  08/28/2021   \n",
       "2  A002-R051-02-00-00   59 ST  08/30/2021     Monday  7626814  08/29/2021   \n",
       "3  A002-R051-02-00-00   59 ST  08/31/2021    Tuesday  7627394  08/30/2021   \n",
       "4  A002-R051-02-00-00   59 ST  09/01/2021  Wednesday  7628030  08/31/2021   \n",
       "5  A002-R051-02-00-00   59 ST  09/02/2021   Thursday  7628533  09/01/2021   \n",
       "\n",
       "   PREV_ENTRIES  DAILY_ENTRIES  \n",
       "1     7625998.0          448.0  \n",
       "2     7626446.0          368.0  \n",
       "3     7626814.0          580.0  \n",
       "4     7627394.0          636.0  \n",
       "5     7628030.0          503.0  "
      ]
     },
     "execution_count": 79,
     "metadata": {},
     "output_type": "execute_result"
    }
   ],
   "source": [
    "turnstiles_daily.head()"
   ]
  },
  {
   "cell_type": "code",
   "execution_count": null,
   "id": "fbd516c7",
   "metadata": {},
   "outputs": [],
   "source": []
  },
  {
   "cell_type": "code",
   "execution_count": 80,
   "id": "bf40f4c1",
   "metadata": {},
   "outputs": [
    {
     "data": {
      "text/html": [
       "<div>\n",
       "<style scoped>\n",
       "    .dataframe tbody tr th:only-of-type {\n",
       "        vertical-align: middle;\n",
       "    }\n",
       "\n",
       "    .dataframe tbody tr th {\n",
       "        vertical-align: top;\n",
       "    }\n",
       "\n",
       "    .dataframe thead th {\n",
       "        text-align: right;\n",
       "    }\n",
       "</style>\n",
       "<table border=\"1\" class=\"dataframe\">\n",
       "  <thead>\n",
       "    <tr style=\"text-align: right;\">\n",
       "      <th></th>\n",
       "      <th>TURNSTILE</th>\n",
       "      <th>STATION</th>\n",
       "      <th>DATE</th>\n",
       "      <th>DAY</th>\n",
       "      <th>DAILY_ENTRIES</th>\n",
       "    </tr>\n",
       "  </thead>\n",
       "  <tbody>\n",
       "    <tr>\n",
       "      <th>316910</th>\n",
       "      <td>PTH04-R551-00-01-01</td>\n",
       "      <td>GROVE STREET</td>\n",
       "      <td>11/17/2021</td>\n",
       "      <td>Wednesday</td>\n",
       "      <td>992031.0</td>\n",
       "    </tr>\n",
       "    <tr>\n",
       "      <th>464247</th>\n",
       "      <td>R307-R207-01-00-00</td>\n",
       "      <td>135 ST</td>\n",
       "      <td>10/30/2021</td>\n",
       "      <td>Saturday</td>\n",
       "      <td>983841.0</td>\n",
       "    </tr>\n",
       "    <tr>\n",
       "      <th>154295</th>\n",
       "      <td>N078-R175-01-00-00</td>\n",
       "      <td>14 ST</td>\n",
       "      <td>12/03/2021</td>\n",
       "      <td>Friday</td>\n",
       "      <td>972913.0</td>\n",
       "    </tr>\n",
       "    <tr>\n",
       "      <th>167801</th>\n",
       "      <td>N095A-R014-01-03-03</td>\n",
       "      <td>FULTON ST</td>\n",
       "      <td>11/02/2021</td>\n",
       "      <td>Tuesday</td>\n",
       "      <td>863597.0</td>\n",
       "    </tr>\n",
       "    <tr>\n",
       "      <th>464358</th>\n",
       "      <td>R307-R207-01-00-01</td>\n",
       "      <td>135 ST</td>\n",
       "      <td>10/30/2021</td>\n",
       "      <td>Saturday</td>\n",
       "      <td>857148.0</td>\n",
       "    </tr>\n",
       "    <tr>\n",
       "      <th>322323</th>\n",
       "      <td>PTH07-R550-00-00-07</td>\n",
       "      <td>CITY / BUS</td>\n",
       "      <td>10/19/2021</td>\n",
       "      <td>Tuesday</td>\n",
       "      <td>831247.0</td>\n",
       "    </tr>\n",
       "    <tr>\n",
       "      <th>473411</th>\n",
       "      <td>R327-R361-01-06-00</td>\n",
       "      <td>PELHAM PKWY</td>\n",
       "      <td>09/07/2021</td>\n",
       "      <td>Tuesday</td>\n",
       "      <td>798740.0</td>\n",
       "    </tr>\n",
       "    <tr>\n",
       "      <th>510025</th>\n",
       "      <td>R528-R097-00-00-02</td>\n",
       "      <td>JUNCTION BLVD</td>\n",
       "      <td>09/18/2021</td>\n",
       "      <td>Saturday</td>\n",
       "      <td>794786.0</td>\n",
       "    </tr>\n",
       "    <tr>\n",
       "      <th>510023</th>\n",
       "      <td>R528-R097-00-00-02</td>\n",
       "      <td>JUNCTION BLVD</td>\n",
       "      <td>09/16/2021</td>\n",
       "      <td>Thursday</td>\n",
       "      <td>788680.0</td>\n",
       "    </tr>\n",
       "    <tr>\n",
       "      <th>509914</th>\n",
       "      <td>R528-R097-00-00-01</td>\n",
       "      <td>JUNCTION BLVD</td>\n",
       "      <td>09/18/2021</td>\n",
       "      <td>Saturday</td>\n",
       "      <td>774463.0</td>\n",
       "    </tr>\n",
       "  </tbody>\n",
       "</table>\n",
       "</div>"
      ],
      "text/plain": [
       "                  TURNSTILE        STATION        DATE        DAY  \\\n",
       "316910  PTH04-R551-00-01-01   GROVE STREET  11/17/2021  Wednesday   \n",
       "464247   R307-R207-01-00-00         135 ST  10/30/2021   Saturday   \n",
       "154295   N078-R175-01-00-00          14 ST  12/03/2021     Friday   \n",
       "167801  N095A-R014-01-03-03      FULTON ST  11/02/2021    Tuesday   \n",
       "464358   R307-R207-01-00-01         135 ST  10/30/2021   Saturday   \n",
       "322323  PTH07-R550-00-00-07     CITY / BUS  10/19/2021    Tuesday   \n",
       "473411   R327-R361-01-06-00    PELHAM PKWY  09/07/2021    Tuesday   \n",
       "510025   R528-R097-00-00-02  JUNCTION BLVD  09/18/2021   Saturday   \n",
       "510023   R528-R097-00-00-02  JUNCTION BLVD  09/16/2021   Thursday   \n",
       "509914   R528-R097-00-00-01  JUNCTION BLVD  09/18/2021   Saturday   \n",
       "\n",
       "        DAILY_ENTRIES  \n",
       "316910       992031.0  \n",
       "464247       983841.0  \n",
       "154295       972913.0  \n",
       "167801       863597.0  \n",
       "464358       857148.0  \n",
       "322323       831247.0  \n",
       "473411       798740.0  \n",
       "510025       794786.0  \n",
       "510023       788680.0  \n",
       "509914       774463.0  "
      ]
     },
     "execution_count": 80,
     "metadata": {},
     "output_type": "execute_result"
    }
   ],
   "source": [
    "station_daily = turnstiles_daily.groupby([\"TURNSTILE\",\"STATION\", \"DATE\",\"DAY\"])[['DAILY_ENTRIES']].sum().reset_index()\n",
    "station_daily.sort_values('DAILY_ENTRIES', ascending=False).head(10)"
   ]
  },
  {
   "cell_type": "code",
   "execution_count": 145,
   "id": "9c9ffebd",
   "metadata": {
    "scrolled": true
   },
   "outputs": [],
   "source": [
    "m1 = station_daily[(station_daily[\"TURNSTILE\"]==\"PTH04-R551-00-01-01\")&(station_daily[\"STATION\"]=='GROVE STREET')&(station_daily[\"DATE\"]>=\"09/01/2021\")&(station_daily[\"DATE\"]<=\"10/01/2021\")]\n"
   ]
  },
  {
   "cell_type": "code",
   "execution_count": 85,
   "id": "d79e2be6",
   "metadata": {
    "scrolled": false
   },
   "outputs": [
    {
     "data": {
      "text/plain": [
       "Text(0.5, 1.0, 'Daily Entries for TURNSTILE PTH04/R551/00-01-01 at GROVE STREET Station in September')"
      ]
     },
     "execution_count": 85,
     "metadata": {},
     "output_type": "execute_result"
    },
    {
     "data": {
      "image/png": "[encoded data removed]",
      "text/plain": [
       "<Figure size 1080x360 with 1 Axes>"
      ]
     },
     "metadata": {
      "needs_background": "light"
     },
     "output_type": "display_data"
    }
   ],
   "source": [
    "\n",
    "plt.figure(figsize=(15,5))\n",
    "plt.plot(m1['DATE'], m1['DAILY_ENTRIES'])\n",
    "plt.ylabel('Entries')\n",
    "plt.xlabel('Date')\n",
    "plt.xticks(rotation=90)\n",
    "plt.title('Daily Entries for TURNSTILE PTH04/R551/00-01-01 at GROVE STREET Station in September')\n",
    "\n"
   ]
  },
  {
   "cell_type": "code",
   "execution_count": 89,
   "id": "320986e5",
   "metadata": {},
   "outputs": [
    {
     "data": {
      "text/html": [
       "<div>\n",
       "<style scoped>\n",
       "    .dataframe tbody tr th:only-of-type {\n",
       "        vertical-align: middle;\n",
       "    }\n",
       "\n",
       "    .dataframe tbody tr th {\n",
       "        vertical-align: top;\n",
       "    }\n",
       "\n",
       "    .dataframe thead th {\n",
       "        text-align: right;\n",
       "    }\n",
       "</style>\n",
       "<table border=\"1\" class=\"dataframe\">\n",
       "  <thead>\n",
       "    <tr style=\"text-align: right;\">\n",
       "      <th></th>\n",
       "      <th>STATION</th>\n",
       "      <th>DATE</th>\n",
       "      <th>DAY</th>\n",
       "      <th>DAILY_ENTRIES</th>\n",
       "    </tr>\n",
       "  </thead>\n",
       "  <tbody>\n",
       "    <tr>\n",
       "      <th>0</th>\n",
       "      <td>1 AV</td>\n",
       "      <td>08/29/2021</td>\n",
       "      <td>Sunday</td>\n",
       "      <td>6852.0</td>\n",
       "    </tr>\n",
       "    <tr>\n",
       "      <th>1</th>\n",
       "      <td>1 AV</td>\n",
       "      <td>08/30/2021</td>\n",
       "      <td>Monday</td>\n",
       "      <td>5903.0</td>\n",
       "    </tr>\n",
       "    <tr>\n",
       "      <th>2</th>\n",
       "      <td>1 AV</td>\n",
       "      <td>08/31/2021</td>\n",
       "      <td>Tuesday</td>\n",
       "      <td>7146.0</td>\n",
       "    </tr>\n",
       "    <tr>\n",
       "      <th>3</th>\n",
       "      <td>1 AV</td>\n",
       "      <td>09/01/2021</td>\n",
       "      <td>Wednesday</td>\n",
       "      <td>7887.0</td>\n",
       "    </tr>\n",
       "    <tr>\n",
       "      <th>4</th>\n",
       "      <td>1 AV</td>\n",
       "      <td>09/02/2021</td>\n",
       "      <td>Thursday</td>\n",
       "      <td>7311.0</td>\n",
       "    </tr>\n",
       "    <tr>\n",
       "      <th>5</th>\n",
       "      <td>1 AV</td>\n",
       "      <td>09/03/2021</td>\n",
       "      <td>Friday</td>\n",
       "      <td>6037.0</td>\n",
       "    </tr>\n",
       "    <tr>\n",
       "      <th>6</th>\n",
       "      <td>1 AV</td>\n",
       "      <td>09/04/2021</td>\n",
       "      <td>Saturday</td>\n",
       "      <td>8318.0</td>\n",
       "    </tr>\n",
       "  </tbody>\n",
       "</table>\n",
       "</div>"
      ],
      "text/plain": [
       "  STATION        DATE        DAY  DAILY_ENTRIES\n",
       "0    1 AV  08/29/2021     Sunday         6852.0\n",
       "1    1 AV  08/30/2021     Monday         5903.0\n",
       "2    1 AV  08/31/2021    Tuesday         7146.0\n",
       "3    1 AV  09/01/2021  Wednesday         7887.0\n",
       "4    1 AV  09/02/2021   Thursday         7311.0\n",
       "5    1 AV  09/03/2021     Friday         6037.0\n",
       "6    1 AV  09/04/2021   Saturday         8318.0"
      ]
     },
     "execution_count": 89,
     "metadata": {},
     "output_type": "execute_result"
    }
   ],
   "source": [
    "station_daily_entries = turnstiles_daily.groupby([\"STATION\", \"DATE\",\"DAY\"])[['DAILY_ENTRIES']].sum().reset_index()\n",
    "station_daily_entries.head(7)"
   ]
  },
  {
   "cell_type": "code",
   "execution_count": 90,
   "id": "b3ff5472",
   "metadata": {},
   "outputs": [
    {
     "name": "stderr",
     "output_type": "stream",
     "text": [
      "/anaconda3/lib/python3.7/site-packages/ipykernel_launcher.py:15: UserWarning: FixedFormatter should only be used together with FixedLocator\n",
      "  from ipykernel import kernelapp as app\n"
     ]
    },
    {
     "data": {
      "text/plain": [
       "([<matplotlib.axis.XTick at 0x16f3b7fd0>,\n",
       "  <matplotlib.axis.XTick at 0x16f3b72e8>,\n",
       "  <matplotlib.axis.XTick at 0x128d66ba8>,\n",
       "  <matplotlib.axis.XTick at 0x16f424f28>,\n",
       "  <matplotlib.axis.XTick at 0x16f34e550>,\n",
       "  <matplotlib.axis.XTick at 0x16f4019e8>,\n",
       "  <matplotlib.axis.XTick at 0x16f30f9b0>],\n",
       " [Text(0, 0, 'Mo'),\n",
       "  Text(1, 0, 'Tu'),\n",
       "  Text(2, 0, 'We'),\n",
       "  Text(3, 0, 'Th'),\n",
       "  Text(4, 0, 'Fr'),\n",
       "  Text(5, 0, 'St'),\n",
       "  Text(6, 0, 'Sn')])"
      ]
     },
     "execution_count": 90,
     "metadata": {},
     "output_type": "execute_result"
    },
    {
     "data": {
      "image/png": "[encoded data removed]",
      "text/plain": [
       "<Figure size 1440x720 with 1 Axes>"
      ]
     },
     "metadata": {
      "needs_background": "light"
     },
     "output_type": "display_data"
    }
   ],
   "source": [
    "fig, axs = plt.subplots(figsize=[20, 10])\n",
    "\n",
    "chart_weekday_entries = sns.lineplot(x = \"DAY\",\n",
    "                                     y = \"DAILY_ENTRIES\",\n",
    "                                     hue = \"STATION\",\n",
    "                                     data = station_daily_entries)\n",
    "\n",
    "chart_weekday_entries.set_title(\"Top 7 stations with the most entries during weekdays in June 2019\",\n",
    "                             fontname=\"Arial\",\n",
    "                             fontsize=20,\n",
    "                             fontweight='bold',\n",
    "                             pad=20)\n",
    "\n",
    "ylabels = [str(int(y)) + \"K\" for y in chart_weekday_entries.get_yticks()/100]\n",
    "chart_weekday_entries.set_yticklabels(ylabels)\n",
    "\n",
    "chart_weekday_entries.set_ylabel(\"Total Turnstile Entries\", \n",
    "                                 fontname='Arial', \n",
    "                                 fontsize=20, \n",
    "                                 labelpad=20)\n",
    "\n",
    "chart_weekday_entries.set_xlabel(\"Day of Week\", \n",
    "                                 fontname='Arial', \n",
    "                                 fontsize=20,\n",
    "                                 labelpad=20)\n",
    "\n",
    "chart_weekday_entries.tick_params(labelsize=16)\n",
    "\n",
    "\n",
    "legend = ['UNION SQ - 14 ST','HERALD SQ - 34 ST','PENN - 34 ST','PORT AUTH - 42 ST','FULTON ST','GRD CENTRL - 42 ST','TIMES SQ - 42 ST']\n",
    "chart_weekday_entries.legend(legend, title = \"Station\", fontsize=16, title_fontsize=20)\n",
    "plt.xticks(np.arange(7),['Mo','Tu','We','Th','Fr','St','Sn'])\n"
   ]
  },
  {
   "cell_type": "code",
   "execution_count": null,
   "id": "f44d9a89",
   "metadata": {},
   "outputs": [],
   "source": []
  },
  {
   "cell_type": "code",
   "execution_count": 147,
   "id": "e8c5238f",
   "metadata": {},
   "outputs": [
    {
     "data": {
      "text/html": [
       "<div>\n",
       "<style scoped>\n",
       "    .dataframe tbody tr th:only-of-type {\n",
       "        vertical-align: middle;\n",
       "    }\n",
       "\n",
       "    .dataframe tbody tr th {\n",
       "        vertical-align: top;\n",
       "    }\n",
       "\n",
       "    .dataframe thead th {\n",
       "        text-align: right;\n",
       "    }\n",
       "</style>\n",
       "<table border=\"1\" class=\"dataframe\">\n",
       "  <thead>\n",
       "    <tr style=\"text-align: right;\">\n",
       "      <th></th>\n",
       "      <th>TURNSTILE</th>\n",
       "      <th>STATION</th>\n",
       "      <th>DATE</th>\n",
       "      <th>DAY</th>\n",
       "      <th>ENTRIES</th>\n",
       "      <th>PREV_DATE</th>\n",
       "      <th>PREV_ENTRIES</th>\n",
       "      <th>DAILY_ENTRIES</th>\n",
       "    </tr>\n",
       "  </thead>\n",
       "  <tbody>\n",
       "    <tr>\n",
       "      <th>1</th>\n",
       "      <td>A002-R051-02-00-00</td>\n",
       "      <td>59 ST</td>\n",
       "      <td>08/29/2021</td>\n",
       "      <td>Sunday</td>\n",
       "      <td>7626446</td>\n",
       "      <td>08/28/2021</td>\n",
       "      <td>7625998.0</td>\n",
       "      <td>448.0</td>\n",
       "    </tr>\n",
       "    <tr>\n",
       "      <th>2</th>\n",
       "      <td>A002-R051-02-00-00</td>\n",
       "      <td>59 ST</td>\n",
       "      <td>08/30/2021</td>\n",
       "      <td>Monday</td>\n",
       "      <td>7626814</td>\n",
       "      <td>08/29/2021</td>\n",
       "      <td>7626446.0</td>\n",
       "      <td>368.0</td>\n",
       "    </tr>\n",
       "    <tr>\n",
       "      <th>3</th>\n",
       "      <td>A002-R051-02-00-00</td>\n",
       "      <td>59 ST</td>\n",
       "      <td>08/31/2021</td>\n",
       "      <td>Tuesday</td>\n",
       "      <td>7627394</td>\n",
       "      <td>08/30/2021</td>\n",
       "      <td>7626814.0</td>\n",
       "      <td>580.0</td>\n",
       "    </tr>\n",
       "    <tr>\n",
       "      <th>4</th>\n",
       "      <td>A002-R051-02-00-00</td>\n",
       "      <td>59 ST</td>\n",
       "      <td>09/01/2021</td>\n",
       "      <td>Wednesday</td>\n",
       "      <td>7628030</td>\n",
       "      <td>08/31/2021</td>\n",
       "      <td>7627394.0</td>\n",
       "      <td>636.0</td>\n",
       "    </tr>\n",
       "    <tr>\n",
       "      <th>5</th>\n",
       "      <td>A002-R051-02-00-00</td>\n",
       "      <td>59 ST</td>\n",
       "      <td>09/02/2021</td>\n",
       "      <td>Thursday</td>\n",
       "      <td>7628533</td>\n",
       "      <td>09/01/2021</td>\n",
       "      <td>7628030.0</td>\n",
       "      <td>503.0</td>\n",
       "    </tr>\n",
       "  </tbody>\n",
       "</table>\n",
       "</div>"
      ],
      "text/plain": [
       "            TURNSTILE STATION        DATE        DAY  ENTRIES   PREV_DATE  \\\n",
       "1  A002-R051-02-00-00   59 ST  08/29/2021     Sunday  7626446  08/28/2021   \n",
       "2  A002-R051-02-00-00   59 ST  08/30/2021     Monday  7626814  08/29/2021   \n",
       "3  A002-R051-02-00-00   59 ST  08/31/2021    Tuesday  7627394  08/30/2021   \n",
       "4  A002-R051-02-00-00   59 ST  09/01/2021  Wednesday  7628030  08/31/2021   \n",
       "5  A002-R051-02-00-00   59 ST  09/02/2021   Thursday  7628533  09/01/2021   \n",
       "\n",
       "   PREV_ENTRIES  DAILY_ENTRIES  \n",
       "1     7625998.0          448.0  \n",
       "2     7626446.0          368.0  \n",
       "3     7626814.0          580.0  \n",
       "4     7627394.0          636.0  \n",
       "5     7628030.0          503.0  "
      ]
     },
     "execution_count": 147,
     "metadata": {},
     "output_type": "execute_result"
    }
   ],
   "source": [
    "df_entries = turnstiles_daily[(turnstiles_daily.DAILY_ENTRIES > 0) & (turnstiles_daily.DAILY_ENTRIES < 200000)]\n",
    "\n",
    "df_entries.head()"
   ]
  },
  {
   "cell_type": "code",
   "execution_count": 452,
   "id": "b0c0fc00",
   "metadata": {},
   "outputs": [],
   "source": [
    "mta_1 = df_entries[(df_entries[\"TURNSTILE\"]==\"A002-R051-02-00-00\")&(df_entries[\"DATE\"]>=\"09/01/2021\")&(df_entries[\"DATE\"]<=\"10/01/2021\")]"
   ]
  },
  {
   "cell_type": "code",
   "execution_count": 326,
   "id": "6c8bf9cc",
   "metadata": {},
   "outputs": [
    {
     "data": {
      "image/png": "[encoded data removed]",
      "text/plain": [
       "<Figure size 432x288 with 1 Axes>"
      ]
     },
     "metadata": {
      "needs_background": "light"
     },
     "output_type": "display_data"
    }
   ],
   "source": [
    "#boxenplot for september\n",
    "\n",
    "ax = sns.boxenplot(x='ENTRIES', data=mta_1,palette=\"pastel\").set(xlabel='Entries',title=\"Entries Values for a month\")"
   ]
  },
  {
   "cell_type": "code",
   "execution_count": 149,
   "id": "30882023",
   "metadata": {},
   "outputs": [
    {
     "data": {
      "text/html": [
       "<div>\n",
       "<style scoped>\n",
       "    .dataframe tbody tr th:only-of-type {\n",
       "        vertical-align: middle;\n",
       "    }\n",
       "\n",
       "    .dataframe tbody tr th {\n",
       "        vertical-align: top;\n",
       "    }\n",
       "\n",
       "    .dataframe thead th {\n",
       "        text-align: right;\n",
       "    }\n",
       "</style>\n",
       "<table border=\"1\" class=\"dataframe\">\n",
       "  <thead>\n",
       "    <tr style=\"text-align: right;\">\n",
       "      <th></th>\n",
       "      <th>STATION</th>\n",
       "      <th>DATE</th>\n",
       "      <th>DAILY_ENTRIES</th>\n",
       "    </tr>\n",
       "  </thead>\n",
       "  <tbody>\n",
       "    <tr>\n",
       "      <th>0</th>\n",
       "      <td>1 AV</td>\n",
       "      <td>08/29/2021</td>\n",
       "      <td>6852.0</td>\n",
       "    </tr>\n",
       "    <tr>\n",
       "      <th>1</th>\n",
       "      <td>1 AV</td>\n",
       "      <td>08/30/2021</td>\n",
       "      <td>5903.0</td>\n",
       "    </tr>\n",
       "    <tr>\n",
       "      <th>2</th>\n",
       "      <td>1 AV</td>\n",
       "      <td>08/31/2021</td>\n",
       "      <td>7146.0</td>\n",
       "    </tr>\n",
       "    <tr>\n",
       "      <th>3</th>\n",
       "      <td>1 AV</td>\n",
       "      <td>09/01/2021</td>\n",
       "      <td>7887.0</td>\n",
       "    </tr>\n",
       "    <tr>\n",
       "      <th>4</th>\n",
       "      <td>1 AV</td>\n",
       "      <td>09/02/2021</td>\n",
       "      <td>7311.0</td>\n",
       "    </tr>\n",
       "  </tbody>\n",
       "</table>\n",
       "</div>"
      ],
      "text/plain": [
       "  STATION        DATE  DAILY_ENTRIES\n",
       "0    1 AV  08/29/2021         6852.0\n",
       "1    1 AV  08/30/2021         5903.0\n",
       "2    1 AV  08/31/2021         7146.0\n",
       "3    1 AV  09/01/2021         7887.0\n",
       "4    1 AV  09/02/2021         7311.0"
      ]
     },
     "execution_count": 149,
     "metadata": {},
     "output_type": "execute_result"
    }
   ],
   "source": [
    "station_daily = df_entries.groupby([\"STATION\", \"DATE\"])[['DAILY_ENTRIES']].sum().reset_index()\n",
    "station_daily.head()"
   ]
  },
  {
   "cell_type": "code",
   "execution_count": 162,
   "id": "3f3c296d",
   "metadata": {},
   "outputs": [
    {
     "data": {
      "text/html": [
       "<div>\n",
       "<style scoped>\n",
       "    .dataframe tbody tr th:only-of-type {\n",
       "        vertical-align: middle;\n",
       "    }\n",
       "\n",
       "    .dataframe tbody tr th {\n",
       "        vertical-align: top;\n",
       "    }\n",
       "\n",
       "    .dataframe thead th {\n",
       "        text-align: right;\n",
       "    }\n",
       "</style>\n",
       "<table border=\"1\" class=\"dataframe\">\n",
       "  <thead>\n",
       "    <tr style=\"text-align: right;\">\n",
       "      <th></th>\n",
       "      <th>STATION</th>\n",
       "      <th>DAILY_ENTRIES</th>\n",
       "    </tr>\n",
       "  </thead>\n",
       "  <tbody>\n",
       "    <tr>\n",
       "      <th>0</th>\n",
       "      <td>34 ST-PENN STA</td>\n",
       "      <td>6327458.0</td>\n",
       "    </tr>\n",
       "    <tr>\n",
       "      <th>1</th>\n",
       "      <td>34 ST-HERALD SQ</td>\n",
       "      <td>4625988.0</td>\n",
       "    </tr>\n",
       "    <tr>\n",
       "      <th>2</th>\n",
       "      <td>GRD CNTRL-42 ST</td>\n",
       "      <td>4578564.0</td>\n",
       "    </tr>\n",
       "    <tr>\n",
       "      <th>3</th>\n",
       "      <td>86 ST</td>\n",
       "      <td>4251720.0</td>\n",
       "    </tr>\n",
       "    <tr>\n",
       "      <th>4</th>\n",
       "      <td>23 ST</td>\n",
       "      <td>4159542.0</td>\n",
       "    </tr>\n",
       "    <tr>\n",
       "      <th>5</th>\n",
       "      <td>42 ST-PORT AUTH</td>\n",
       "      <td>4071304.0</td>\n",
       "    </tr>\n",
       "    <tr>\n",
       "      <th>6</th>\n",
       "      <td>14 ST-UNION SQ</td>\n",
       "      <td>3993667.0</td>\n",
       "    </tr>\n",
       "    <tr>\n",
       "      <th>7</th>\n",
       "      <td>125 ST</td>\n",
       "      <td>3917716.0</td>\n",
       "    </tr>\n",
       "    <tr>\n",
       "      <th>8</th>\n",
       "      <td>PATH NEW WTC</td>\n",
       "      <td>3755503.0</td>\n",
       "    </tr>\n",
       "    <tr>\n",
       "      <th>9</th>\n",
       "      <td>TIMES SQ-42 ST</td>\n",
       "      <td>3630290.0</td>\n",
       "    </tr>\n",
       "  </tbody>\n",
       "</table>\n",
       "</div>"
      ],
      "text/plain": [
       "           STATION  DAILY_ENTRIES\n",
       "0   34 ST-PENN STA      6327458.0\n",
       "1  34 ST-HERALD SQ      4625988.0\n",
       "2  GRD CNTRL-42 ST      4578564.0\n",
       "3            86 ST      4251720.0\n",
       "4            23 ST      4159542.0\n",
       "5  42 ST-PORT AUTH      4071304.0\n",
       "6   14 ST-UNION SQ      3993667.0\n",
       "7           125 ST      3917716.0\n",
       "8     PATH NEW WTC      3755503.0\n",
       "9   TIMES SQ-42 ST      3630290.0"
      ]
     },
     "execution_count": 162,
     "metadata": {},
     "output_type": "execute_result"
    }
   ],
   "source": [
    "top_stations = station_daily.groupby('STATION').sum()\\\n",
    "    .sort_values('DAILY_ENTRIES', ascending=False)\\\n",
    "    .reset_index()\n",
    "\n",
    "top_stations.head(10)"
   ]
  },
  {
   "cell_type": "code",
   "execution_count": 163,
   "id": "1d68b9b9",
   "metadata": {},
   "outputs": [
    {
     "data": {
      "image/png": "[encoded data removed]",
      "text/plain": [
       "<Figure size 432x288 with 1 Axes>"
      ]
     },
     "metadata": {
      "needs_background": "light"
     },
     "output_type": "display_data"
    }
   ],
   "source": [
    "# Barplot\n",
    "sns.barplot(x=\"DAILY_ENTRIES\", y=\"STATION\", data=top_stations.head(10),palette='crest')\n",
    "plt.title('Daily Entry Counts Per Station')\n",
    "plt.xlabel('ENTRY COUNT')\n",
    "plt.ylabel('STATION')\n",
    "plt.xticks(rotation='horizontal')\n",
    "plt.show()"
   ]
  },
  {
   "cell_type": "code",
   "execution_count": 171,
   "id": "ea969e2a",
   "metadata": {},
   "outputs": [
    {
     "name": "stderr",
     "output_type": "stream",
     "text": [
      "/anaconda3/lib/python3.7/site-packages/seaborn/distributions.py:2619: FutureWarning: `distplot` is a deprecated function and will be removed in a future version. Please adapt your code to use either `displot` (a figure-level function with similar flexibility) or `histplot` (an axes-level function for histograms).\n",
      "  warnings.warn(msg, FutureWarning)\n"
     ]
    },
    {
     "data": {
      "image/png": "[encoded data removed]",
      "text/plain": [
       "<Figure size 576x432 with 1 Axes>"
      ]
     },
     "metadata": {
      "needs_background": "light"
     },
     "output_type": "display_data"
    }
   ],
   "source": [
    "group_station11 = df_entries.groupby('STATION')['DAILY_ENTRIES'].sum().sort_values(ascending=False)\n",
    "\n",
    "fig1 = plt.figure(figsize=[8,6])\n",
    "ax1 = sns.distplot(group_station11,bins=50,kde=False)\n",
    "plt.xlim([0,410000])\n",
    "plt.ylabel('No. of Stations',fontsize=15, weight='bold')\n",
    "plt.xlabel('Total Traffic', fontsize=15, weight='bold')\n",
    "plt.title('Distribution of Traffic Across Stations',fontsize=15,weight='bold')\n",
    "sns.despine()"
   ]
  },
  {
   "cell_type": "code",
   "execution_count": 174,
   "id": "b68e8152",
   "metadata": {},
   "outputs": [
    {
     "data": {
      "image/png": "[encoded data removed]",
      "text/plain": [
       "<Figure size 576x360 with 1 Axes>"
      ]
     },
     "metadata": {
      "needs_background": "light"
     },
     "output_type": "display_data"
    }
   ],
   "source": [
    "plt.figure(figsize=[8,5])\n",
    "ax = sns.barplot(data=group_station11.head(10).reset_index(),x='DAILY_ENTRIES',y='STATION',palette='magma')\n",
    "plt.xlabel('Total Traffic',weight='bold',fontsize=15)\n",
    "plt.ylabel('Top 10 Stations',weight='bold',fontsize=15)\n",
    "\n",
    "\n",
    "plt.title('Busiest MTA Stations', weight='bold',fontsize='15')\n",
    "for p in ax.patches:\n",
    "        ax.annotate(str(int(p.get_width()/1000))+'k', (p.get_width(), p.get_y()+0.5))\n",
    "sns.despine()"
   ]
  },
  {
   "cell_type": "code",
   "execution_count": 182,
   "id": "11ffa904",
   "metadata": {
    "scrolled": true
   },
   "outputs": [
    {
     "data": {
      "image/png": "[encoded data removed]",
      "text/plain": [
       "<Figure size 864x360 with 1 Axes>"
      ]
     },
     "metadata": {
      "needs_background": "light"
     },
     "output_type": "display_data"
    }
   ],
   "source": [
    "plt.figure(figsize=[12,5])\n",
    "ax = sns.barplot(data=top_stations.head(10),x='STATION',y='DAILY_ENTRIES',palette='magma')\n",
    "plt.xlabel('Total Traffic',weight='bold',fontsize=15)\n",
    "plt.ylabel('Top 10 Stations',weight='bold',fontsize=15)\n",
    "#plt.xticks(range(0,400001,50000),[str(int(i/1000))+'k' for i in range(0,400001,50000)])\n",
    "plt.title('Busiest MTA Stations', weight='bold',fontsize='15')\n",
    "plt.xticks(rotation=90)\n",
    "for p in ax.patches:\n",
    "        ax.annotate(str(int(p.get_width()/1000))+'k', (p.get_width(), p.get_y()+0.5))\n",
    "sns.despine()"
   ]
  },
  {
   "cell_type": "code",
   "execution_count": 445,
   "id": "fd9ac3d3",
   "metadata": {},
   "outputs": [],
   "source": [
    "turnstiles_daily_evening = (my_data.groupby([\"TURNSTILE\", \"STATION\", \"DATE\",'TIME'],as_index=False).ENTRIES.first())\n",
    "\n"
   ]
  },
  {
   "cell_type": "code",
   "execution_count": 447,
   "id": "5779f2cb",
   "metadata": {},
   "outputs": [
    {
     "name": "stderr",
     "output_type": "stream",
     "text": [
      "/anaconda3/lib/python3.7/site-packages/ipykernel_launcher.py:2: FutureWarning: Indexing with multiple keys (implicitly converted to a tuple of keys) will be deprecated, use a list instead.\n",
      "  \n"
     ]
    }
   ],
   "source": [
    "turnstiles_daily_evening[[\"PREV_DATE\", \"PREV_ENTRIES\"]] = (turnstiles_daily_evening\n",
    "                                                       .groupby([\"TURNSTILE\", \"STATION\"])[\"DATE\",\"ENTRIES\"]\n",
    "                                                       .apply(lambda grp: grp.shift(1)))"
   ]
  },
  {
   "cell_type": "code",
   "execution_count": 448,
   "id": "9a18ea93",
   "metadata": {
    "scrolled": true
   },
   "outputs": [
    {
     "data": {
      "text/html": [
       "<div>\n",
       "<style scoped>\n",
       "    .dataframe tbody tr th:only-of-type {\n",
       "        vertical-align: middle;\n",
       "    }\n",
       "\n",
       "    .dataframe tbody tr th {\n",
       "        vertical-align: top;\n",
       "    }\n",
       "\n",
       "    .dataframe thead th {\n",
       "        text-align: right;\n",
       "    }\n",
       "</style>\n",
       "<table border=\"1\" class=\"dataframe\">\n",
       "  <thead>\n",
       "    <tr style=\"text-align: right;\">\n",
       "      <th></th>\n",
       "      <th>TURNSTILE</th>\n",
       "      <th>STATION</th>\n",
       "      <th>DATE</th>\n",
       "      <th>TIME</th>\n",
       "      <th>ENTRIES</th>\n",
       "      <th>PREV_DATE</th>\n",
       "      <th>PREV_ENTRIES</th>\n",
       "    </tr>\n",
       "  </thead>\n",
       "  <tbody>\n",
       "    <tr>\n",
       "      <th>0</th>\n",
       "      <td>A002-R051-02-00-00</td>\n",
       "      <td>59 ST</td>\n",
       "      <td>08/28/2021</td>\n",
       "      <td>00:00:00</td>\n",
       "      <td>7625998</td>\n",
       "      <td>NaN</td>\n",
       "      <td>NaN</td>\n",
       "    </tr>\n",
       "    <tr>\n",
       "      <th>1</th>\n",
       "      <td>A002-R051-02-00-00</td>\n",
       "      <td>59 ST</td>\n",
       "      <td>08/28/2021</td>\n",
       "      <td>04:00:00</td>\n",
       "      <td>7626014</td>\n",
       "      <td>08/28/2021</td>\n",
       "      <td>7625998.0</td>\n",
       "    </tr>\n",
       "    <tr>\n",
       "      <th>2</th>\n",
       "      <td>A002-R051-02-00-00</td>\n",
       "      <td>59 ST</td>\n",
       "      <td>08/28/2021</td>\n",
       "      <td>08:00:00</td>\n",
       "      <td>7626024</td>\n",
       "      <td>08/28/2021</td>\n",
       "      <td>7626014.0</td>\n",
       "    </tr>\n",
       "  </tbody>\n",
       "</table>\n",
       "</div>"
      ],
      "text/plain": [
       "            TURNSTILE STATION        DATE      TIME  ENTRIES   PREV_DATE  \\\n",
       "0  A002-R051-02-00-00   59 ST  08/28/2021  00:00:00  7625998         NaN   \n",
       "1  A002-R051-02-00-00   59 ST  08/28/2021  04:00:00  7626014  08/28/2021   \n",
       "2  A002-R051-02-00-00   59 ST  08/28/2021  08:00:00  7626024  08/28/2021   \n",
       "\n",
       "   PREV_ENTRIES  \n",
       "0           NaN  \n",
       "1     7625998.0  \n",
       "2     7626014.0  "
      ]
     },
     "execution_count": 448,
     "metadata": {},
     "output_type": "execute_result"
    }
   ],
   "source": [
    "turnstiles_daily_evening.head(3)"
   ]
  },
  {
   "cell_type": "code",
   "execution_count": 449,
   "id": "49387d74",
   "metadata": {},
   "outputs": [],
   "source": [
    "turnstiles_daily_evening.dropna(subset=[\"PREV_DATE\"], axis=0, inplace=True)"
   ]
  },
  {
   "cell_type": "code",
   "execution_count": 450,
   "id": "ea7357bc",
   "metadata": {
    "scrolled": true
   },
   "outputs": [
    {
     "name": "stdout",
     "output_type": "stream",
     "text": [
      "50 5264647.0\n",
      "6 5597948.0\n",
      "16 1951349.0\n",
      "19 1458405.0\n",
      "1996226560 649791.0\n",
      "649802 1996226560.0\n",
      "19 453053850.0\n",
      "1562968059 113672.0\n",
      "27 9631915.0\n",
      "151 5610355.0\n",
      "35 9769328.0\n",
      "35 3295646.0\n",
      "33565227 188201.0\n",
      "327709 1560335855.0\n",
      "117453575 459314.0\n",
      "66 3272795.0\n",
      "85 2548273.0\n",
      "15848006 2216515.0\n",
      "2216520 15848006.0\n",
      "10487784 2024.0\n",
      "2024 10487784.0\n",
      "67135623 290615.0\n",
      "1979658988 9048204.0\n",
      "587209328 2350595.0\n",
      "687929780 2705590.0\n",
      "863597 1979303.0\n",
      "369104536 1459204.0\n",
      "1966428 196562.0\n",
      "83942360 379281.0\n",
      "7 6114636.0\n",
      "6 7403757.0\n",
      "4824 9321838.0\n",
      "100704896 418210.0\n",
      "2 12553652.0\n",
      "5 23234554.0\n",
      "23234665 5.0\n",
      "45 557914846.0\n",
      "46006400 7828674.0\n",
      "4 67470015.0\n",
      "2150004 1043925813.0\n",
      "13 1132851.0\n",
      "393221 3680678.0\n",
      "2031657 4435939.0\n",
      "1636499479 2450105.0\n",
      "642372 2359165.0\n",
      "992215084 1896551.0\n",
      "444 2959133.0\n",
      "55 11194856.0\n",
      "38 8302412.0\n",
      "11 1617728.0\n",
      "9 2818429.0\n",
      "11123659 4624026.0\n",
      "5 11123659.0\n",
      "1891101745 1104755.0\n",
      "43 3154069.0\n",
      "3 10685559.0\n",
      "574 3502646.0\n",
      "393217 135403962.0\n",
      "50331648 262144.0\n",
      "19 2570919.0\n",
      "4278354 25672.0\n",
      "67 1040931990.0\n",
      "229 21944736.0\n",
      "94 3530461.0\n",
      "5 1309264042.0\n",
      "1309264152 5.0\n",
      "201331802 798740.0\n",
      "25 5768873.0\n",
      "34 3232067.0\n",
      "1089962288 146746691.0\n",
      "146743823 1089940447.0\n",
      "3538954 51735380.0\n",
      "393223 136995222.0\n",
      "188 4026667.0\n",
      "16741022 10842441.0\n",
      "10842928 16741022.0\n",
      "37 7682472.0\n",
      "69 9261341.0\n",
      "12 3478770.0\n",
      "1189019447 3740789.0\n",
      "346167 14045092.0\n",
      "14049774 346213.0\n",
      "774447 9475375.0\n",
      "9480674 774522.0\n",
      "7979566 789214.0\n",
      "794786 7979671.0\n",
      "1278449 8197329.0\n",
      "8204122 1278639.0\n",
      "635 4005927.0\n",
      "4006679 635.0\n",
      "8 1684120.0\n"
     ]
    }
   ],
   "source": [
    "\n",
    "def get_daily_counts(row, max_counter):\n",
    "    counter = row[\"ENTRIES\"] - row[\"PREV_ENTRIES\"]\n",
    "    if counter < 0:\n",
    "        # Maybe counter is reversed?\n",
    "        counter = -counter\n",
    "    if counter > max_counter:\n",
    "        # Maybe counter was reset to 0? \n",
    "        print(row[\"ENTRIES\"], row[\"PREV_ENTRIES\"])\n",
    "        counter = min(row[\"ENTRIES\"], row[\"PREV_ENTRIES\"])\n",
    "    if counter > max_counter:\n",
    "        # Check it again to make sure we're not still giving a counter that's too big\n",
    "        return 0\n",
    "    return counter\n",
    "\n",
    "# If counter is > 1Million, then the counter might have been reset.  \n",
    "# Just set it to zero as different counters have different cycle limits\n",
    "# It'd probably be a good idea to use a number even significantly smaller than 1 million as the limit!\n",
    "turnstiles_daily_evening[\"DAILY_ENTRIES\"] = turnstiles_daily_evening.apply(get_daily_counts, axis=1, max_counter=1000000)"
   ]
  },
  {
   "cell_type": "code",
   "execution_count": 452,
   "id": "879c940b",
   "metadata": {},
   "outputs": [
    {
     "data": {
      "text/html": [
       "<div>\n",
       "<style scoped>\n",
       "    .dataframe tbody tr th:only-of-type {\n",
       "        vertical-align: middle;\n",
       "    }\n",
       "\n",
       "    .dataframe tbody tr th {\n",
       "        vertical-align: top;\n",
       "    }\n",
       "\n",
       "    .dataframe thead th {\n",
       "        text-align: right;\n",
       "    }\n",
       "</style>\n",
       "<table border=\"1\" class=\"dataframe\">\n",
       "  <thead>\n",
       "    <tr style=\"text-align: right;\">\n",
       "      <th></th>\n",
       "      <th>TURNSTILE</th>\n",
       "      <th>STATION</th>\n",
       "      <th>DATE</th>\n",
       "      <th>TIME</th>\n",
       "      <th>DAILY_ENTRIES</th>\n",
       "    </tr>\n",
       "  </thead>\n",
       "  <tbody>\n",
       "    <tr>\n",
       "      <th>1918895</th>\n",
       "      <td>PTH04-R551-00-01-01</td>\n",
       "      <td>GROVE STREET</td>\n",
       "      <td>11/16/2021</td>\n",
       "      <td>10:30:47</td>\n",
       "      <td>992742.0</td>\n",
       "    </tr>\n",
       "    <tr>\n",
       "      <th>2802629</th>\n",
       "      <td>R307-R207-01-00-00</td>\n",
       "      <td>135 ST</td>\n",
       "      <td>10/30/2021</td>\n",
       "      <td>00:00:00</td>\n",
       "      <td>984596.0</td>\n",
       "    </tr>\n",
       "    <tr>\n",
       "      <th>936763</th>\n",
       "      <td>N078-R175-01-00-00</td>\n",
       "      <td>14 ST</td>\n",
       "      <td>12/03/2021</td>\n",
       "      <td>08:00:00</td>\n",
       "      <td>973154.0</td>\n",
       "    </tr>\n",
       "    <tr>\n",
       "      <th>1018460</th>\n",
       "      <td>N095A-R014-01-03-03</td>\n",
       "      <td>FULTON ST</td>\n",
       "      <td>11/02/2021</td>\n",
       "      <td>01:00:00</td>\n",
       "      <td>863597.0</td>\n",
       "    </tr>\n",
       "    <tr>\n",
       "      <th>2803300</th>\n",
       "      <td>R307-R207-01-00-01</td>\n",
       "      <td>135 ST</td>\n",
       "      <td>10/30/2021</td>\n",
       "      <td>00:00:00</td>\n",
       "      <td>857611.0</td>\n",
       "    </tr>\n",
       "    <tr>\n",
       "      <th>1987732</th>\n",
       "      <td>PTH13-R541-00-04-08</td>\n",
       "      <td>THIRTY ST</td>\n",
       "      <td>12/12/2021</td>\n",
       "      <td>00:07:37</td>\n",
       "      <td>848922.0</td>\n",
       "    </tr>\n",
       "    <tr>\n",
       "      <th>1987731</th>\n",
       "      <td>PTH13-R541-00-04-08</td>\n",
       "      <td>THIRTY ST</td>\n",
       "      <td>12/11/2021</td>\n",
       "      <td>21:06:11</td>\n",
       "      <td>848922.0</td>\n",
       "    </tr>\n",
       "    <tr>\n",
       "      <th>1949852</th>\n",
       "      <td>PTH07-R550-00-00-07</td>\n",
       "      <td>CITY / BUS</td>\n",
       "      <td>10/18/2021</td>\n",
       "      <td>08:05:47</td>\n",
       "      <td>831618.0</td>\n",
       "    </tr>\n",
       "    <tr>\n",
       "      <th>1987527</th>\n",
       "      <td>PTH13-R541-00-04-08</td>\n",
       "      <td>THIRTY ST</td>\n",
       "      <td>11/06/2021</td>\n",
       "      <td>13:28:11</td>\n",
       "      <td>820799.0</td>\n",
       "    </tr>\n",
       "    <tr>\n",
       "      <th>1987528</th>\n",
       "      <td>PTH13-R541-00-04-08</td>\n",
       "      <td>THIRTY ST</td>\n",
       "      <td>11/06/2021</td>\n",
       "      <td>16:15:37</td>\n",
       "      <td>820799.0</td>\n",
       "    </tr>\n",
       "  </tbody>\n",
       "</table>\n",
       "</div>"
      ],
      "text/plain": [
       "                   TURNSTILE       STATION        DATE      TIME  \\\n",
       "1918895  PTH04-R551-00-01-01  GROVE STREET  11/16/2021  10:30:47   \n",
       "2802629   R307-R207-01-00-00        135 ST  10/30/2021  00:00:00   \n",
       "936763    N078-R175-01-00-00         14 ST  12/03/2021  08:00:00   \n",
       "1018460  N095A-R014-01-03-03     FULTON ST  11/02/2021  01:00:00   \n",
       "2803300   R307-R207-01-00-01        135 ST  10/30/2021  00:00:00   \n",
       "1987732  PTH13-R541-00-04-08     THIRTY ST  12/12/2021  00:07:37   \n",
       "1987731  PTH13-R541-00-04-08     THIRTY ST  12/11/2021  21:06:11   \n",
       "1949852  PTH07-R550-00-00-07    CITY / BUS  10/18/2021  08:05:47   \n",
       "1987527  PTH13-R541-00-04-08     THIRTY ST  11/06/2021  13:28:11   \n",
       "1987528  PTH13-R541-00-04-08     THIRTY ST  11/06/2021  16:15:37   \n",
       "\n",
       "         DAILY_ENTRIES  \n",
       "1918895       992742.0  \n",
       "2802629       984596.0  \n",
       "936763        973154.0  \n",
       "1018460       863597.0  \n",
       "2803300       857611.0  \n",
       "1987732       848922.0  \n",
       "1987731       848922.0  \n",
       "1949852       831618.0  \n",
       "1987527       820799.0  \n",
       "1987528       820799.0  "
      ]
     },
     "execution_count": 452,
     "metadata": {},
     "output_type": "execute_result"
    }
   ],
   "source": [
    "station_daily_evening = turnstiles_daily_evening.groupby([\"TURNSTILE\",\"STATION\", \"DATE\",\"TIME\"])[['DAILY_ENTRIES']].sum().reset_index()\n",
    "station_daily_evening.sort_values('DAILY_ENTRIES', ascending=False).head(10)"
   ]
  },
  {
   "cell_type": "code",
   "execution_count": null,
   "id": "7910c223",
   "metadata": {},
   "outputs": [],
   "source": []
  },
  {
   "cell_type": "code",
   "execution_count": 457,
   "id": "6a3fecd8",
   "metadata": {},
   "outputs": [],
   "source": [
    "entry_evening = station_daily_evening[(station_daily_evening[\"DATE\"]>=\"09/01/2021\")&(station_daily_evening[\"DATE\"]<\"10/01/2021\")&(station_daily_evening[\"TIME\"]>=\"16:00:00\")&(station_daily_evening[\"TIME\"]<=\"19:00:00\")]\n"
   ]
  },
  {
   "cell_type": "code",
   "execution_count": 460,
   "id": "0a395ee6",
   "metadata": {},
   "outputs": [],
   "source": [
    "station_daily_entry = entry_evening.groupby([\"STATION\", \"DATE\"])[['DAILY_ENTRIES']].sum().reset_index()\n",
    "evening_entry = station_daily_entry.sort_values('DAILY_ENTRIES', ascending=False).head(10)"
   ]
  },
  {
   "cell_type": "code",
   "execution_count": 462,
   "id": "b5a5779b",
   "metadata": {},
   "outputs": [
    {
     "data": {
      "image/png": "[encoded data removed]",
      "text/plain": [
       "<Figure size 576x360 with 1 Axes>"
      ]
     },
     "metadata": {
      "needs_background": "light"
     },
     "output_type": "display_data"
    }
   ],
   "source": [
    "plt.figure(figsize=[8,5])\n",
    "ax = sns.barplot(data=evening_entry.reset_index(),x='DAILY_ENTRIES',y='STATION',palette='magma')\n",
    "\n",
    "plt.title('Busiest MTA ENTRIES between 4pm to 7pm', weight='bold',fontsize='15')\n",
    "for p in ax.patches:\n",
    "        ax.annotate(str(int(p.get_width()/1000))+'k', (p.get_width(), p.get_y()+0.5))\n",
    "sns.despine()"
   ]
  },
  {
   "cell_type": "code",
   "execution_count": null,
   "id": "befb1339",
   "metadata": {},
   "outputs": [],
   "source": []
  },
  {
   "cell_type": "code",
   "execution_count": null,
   "id": "76187a22",
   "metadata": {},
   "outputs": [],
   "source": []
  },
  {
   "cell_type": "markdown",
   "id": "51599105",
   "metadata": {},
   "source": [
    "### Daily EXIT Explores: "
   ]
  },
  {
   "cell_type": "markdown",
   "id": "8c0030fc",
   "metadata": {},
   "source": [
    "- In order to find number of people that exit each day, I first sort the columns in the data frame, then I take the difference between consecutive rows for ‘EXITS’ and ‘NEXT_DAY_EXITS’ respectively to make new column 'EXIT_COUNT'. The new columns (named as ‘EXIT_COUNT’) will then represent the actual number of EXITS through each day."
   ]
  },
  {
   "cell_type": "code",
   "execution_count": 294,
   "id": "84ee196e",
   "metadata": {},
   "outputs": [],
   "source": [
    "df_exits = my_data.groupby(['STATION','TURNSTILE','DATE','TIME','DATETIME','DAY'], as_index=False)['EXITS'].min()\n",
    "df_exits['NEXT_DAY_EXITS'] = df_exits['EXITS']\n",
    "df_exits.NEXT_DAY_EXITS = df_exits.NEXT_DAY_EXITS.shift(-1)\n",
    "df_exits['EXIT_COUNT'] = df_exits['NEXT_DAY_EXITS'] - df_exits['EXITS']"
   ]
  },
  {
   "cell_type": "code",
   "execution_count": 295,
   "id": "0ffabc3e",
   "metadata": {
    "scrolled": true
   },
   "outputs": [
    {
     "data": {
      "text/html": [
       "<div>\n",
       "<style scoped>\n",
       "    .dataframe tbody tr th:only-of-type {\n",
       "        vertical-align: middle;\n",
       "    }\n",
       "\n",
       "    .dataframe tbody tr th {\n",
       "        vertical-align: top;\n",
       "    }\n",
       "\n",
       "    .dataframe thead th {\n",
       "        text-align: right;\n",
       "    }\n",
       "</style>\n",
       "<table border=\"1\" class=\"dataframe\">\n",
       "  <thead>\n",
       "    <tr style=\"text-align: right;\">\n",
       "      <th></th>\n",
       "      <th>STATION</th>\n",
       "      <th>TURNSTILE</th>\n",
       "      <th>DATE</th>\n",
       "      <th>TIME</th>\n",
       "      <th>DATETIME</th>\n",
       "      <th>DAY</th>\n",
       "      <th>EXITS</th>\n",
       "      <th>NEXT_DAY_EXITS</th>\n",
       "      <th>EXIT_COUNT</th>\n",
       "    </tr>\n",
       "  </thead>\n",
       "  <tbody>\n",
       "    <tr>\n",
       "      <th>0</th>\n",
       "      <td>1 AV</td>\n",
       "      <td>H007-R248-00-00-00</td>\n",
       "      <td>08/28/2021</td>\n",
       "      <td>00:00:00</td>\n",
       "      <td>2021-08-28 00:00:00</td>\n",
       "      <td>Saturday</td>\n",
       "      <td>18021900</td>\n",
       "      <td>18022048.0</td>\n",
       "      <td>148.0</td>\n",
       "    </tr>\n",
       "    <tr>\n",
       "      <th>1</th>\n",
       "      <td>1 AV</td>\n",
       "      <td>H007-R248-00-00-00</td>\n",
       "      <td>08/28/2021</td>\n",
       "      <td>04:00:00</td>\n",
       "      <td>2021-08-28 04:00:00</td>\n",
       "      <td>Saturday</td>\n",
       "      <td>18022048</td>\n",
       "      <td>18022234.0</td>\n",
       "      <td>186.0</td>\n",
       "    </tr>\n",
       "    <tr>\n",
       "      <th>2</th>\n",
       "      <td>1 AV</td>\n",
       "      <td>H007-R248-00-00-00</td>\n",
       "      <td>08/28/2021</td>\n",
       "      <td>08:00:00</td>\n",
       "      <td>2021-08-28 08:00:00</td>\n",
       "      <td>Saturday</td>\n",
       "      <td>18022234</td>\n",
       "      <td>18022538.0</td>\n",
       "      <td>304.0</td>\n",
       "    </tr>\n",
       "    <tr>\n",
       "      <th>3</th>\n",
       "      <td>1 AV</td>\n",
       "      <td>H007-R248-00-00-00</td>\n",
       "      <td>08/28/2021</td>\n",
       "      <td>12:00:00</td>\n",
       "      <td>2021-08-28 12:00:00</td>\n",
       "      <td>Saturday</td>\n",
       "      <td>18022538</td>\n",
       "      <td>18023101.0</td>\n",
       "      <td>563.0</td>\n",
       "    </tr>\n",
       "    <tr>\n",
       "      <th>4</th>\n",
       "      <td>1 AV</td>\n",
       "      <td>H007-R248-00-00-00</td>\n",
       "      <td>08/28/2021</td>\n",
       "      <td>16:00:00</td>\n",
       "      <td>2021-08-28 16:00:00</td>\n",
       "      <td>Saturday</td>\n",
       "      <td>18023101</td>\n",
       "      <td>18023715.0</td>\n",
       "      <td>614.0</td>\n",
       "    </tr>\n",
       "  </tbody>\n",
       "</table>\n",
       "</div>"
      ],
      "text/plain": [
       "  STATION           TURNSTILE        DATE      TIME            DATETIME  \\\n",
       "0    1 AV  H007-R248-00-00-00  08/28/2021  00:00:00 2021-08-28 00:00:00   \n",
       "1    1 AV  H007-R248-00-00-00  08/28/2021  04:00:00 2021-08-28 04:00:00   \n",
       "2    1 AV  H007-R248-00-00-00  08/28/2021  08:00:00 2021-08-28 08:00:00   \n",
       "3    1 AV  H007-R248-00-00-00  08/28/2021  12:00:00 2021-08-28 12:00:00   \n",
       "4    1 AV  H007-R248-00-00-00  08/28/2021  16:00:00 2021-08-28 16:00:00   \n",
       "\n",
       "        DAY     EXITS  NEXT_DAY_EXITS  EXIT_COUNT  \n",
       "0  Saturday  18021900      18022048.0       148.0  \n",
       "1  Saturday  18022048      18022234.0       186.0  \n",
       "2  Saturday  18022234      18022538.0       304.0  \n",
       "3  Saturday  18022538      18023101.0       563.0  \n",
       "4  Saturday  18023101      18023715.0       614.0  "
      ]
     },
     "execution_count": 295,
     "metadata": {},
     "output_type": "execute_result"
    }
   ],
   "source": [
    "df_exits.head()"
   ]
  },
  {
   "cell_type": "code",
   "execution_count": 296,
   "id": "66335d4f",
   "metadata": {},
   "outputs": [
    {
     "data": {
      "text/html": [
       "<div>\n",
       "<style scoped>\n",
       "    .dataframe tbody tr th:only-of-type {\n",
       "        vertical-align: middle;\n",
       "    }\n",
       "\n",
       "    .dataframe tbody tr th {\n",
       "        vertical-align: top;\n",
       "    }\n",
       "\n",
       "    .dataframe thead th {\n",
       "        text-align: right;\n",
       "    }\n",
       "</style>\n",
       "<table border=\"1\" class=\"dataframe\">\n",
       "  <thead>\n",
       "    <tr style=\"text-align: right;\">\n",
       "      <th></th>\n",
       "      <th>STATION</th>\n",
       "      <th>TURNSTILE</th>\n",
       "      <th>DATE</th>\n",
       "      <th>TIME</th>\n",
       "      <th>DATETIME</th>\n",
       "      <th>DAY</th>\n",
       "      <th>EXITS</th>\n",
       "      <th>NEXT_DAY_EXITS</th>\n",
       "      <th>EXIT_COUNT</th>\n",
       "    </tr>\n",
       "  </thead>\n",
       "  <tbody>\n",
       "    <tr>\n",
       "      <th>0</th>\n",
       "      <td>1 AV</td>\n",
       "      <td>H007-R248-00-00-00</td>\n",
       "      <td>08/28/2021</td>\n",
       "      <td>00:00:00</td>\n",
       "      <td>2021-08-28 00:00:00</td>\n",
       "      <td>Saturday</td>\n",
       "      <td>18021900</td>\n",
       "      <td>18022048.0</td>\n",
       "      <td>148.0</td>\n",
       "    </tr>\n",
       "    <tr>\n",
       "      <th>1</th>\n",
       "      <td>1 AV</td>\n",
       "      <td>H007-R248-00-00-00</td>\n",
       "      <td>08/28/2021</td>\n",
       "      <td>04:00:00</td>\n",
       "      <td>2021-08-28 04:00:00</td>\n",
       "      <td>Saturday</td>\n",
       "      <td>18022048</td>\n",
       "      <td>18022234.0</td>\n",
       "      <td>186.0</td>\n",
       "    </tr>\n",
       "    <tr>\n",
       "      <th>2</th>\n",
       "      <td>1 AV</td>\n",
       "      <td>H007-R248-00-00-00</td>\n",
       "      <td>08/28/2021</td>\n",
       "      <td>08:00:00</td>\n",
       "      <td>2021-08-28 08:00:00</td>\n",
       "      <td>Saturday</td>\n",
       "      <td>18022234</td>\n",
       "      <td>18022538.0</td>\n",
       "      <td>304.0</td>\n",
       "    </tr>\n",
       "    <tr>\n",
       "      <th>3</th>\n",
       "      <td>1 AV</td>\n",
       "      <td>H007-R248-00-00-00</td>\n",
       "      <td>08/28/2021</td>\n",
       "      <td>12:00:00</td>\n",
       "      <td>2021-08-28 12:00:00</td>\n",
       "      <td>Saturday</td>\n",
       "      <td>18022538</td>\n",
       "      <td>18023101.0</td>\n",
       "      <td>563.0</td>\n",
       "    </tr>\n",
       "    <tr>\n",
       "      <th>4</th>\n",
       "      <td>1 AV</td>\n",
       "      <td>H007-R248-00-00-00</td>\n",
       "      <td>08/28/2021</td>\n",
       "      <td>16:00:00</td>\n",
       "      <td>2021-08-28 16:00:00</td>\n",
       "      <td>Saturday</td>\n",
       "      <td>18023101</td>\n",
       "      <td>18023715.0</td>\n",
       "      <td>614.0</td>\n",
       "    </tr>\n",
       "  </tbody>\n",
       "</table>\n",
       "</div>"
      ],
      "text/plain": [
       "  STATION           TURNSTILE        DATE      TIME            DATETIME  \\\n",
       "0    1 AV  H007-R248-00-00-00  08/28/2021  00:00:00 2021-08-28 00:00:00   \n",
       "1    1 AV  H007-R248-00-00-00  08/28/2021  04:00:00 2021-08-28 04:00:00   \n",
       "2    1 AV  H007-R248-00-00-00  08/28/2021  08:00:00 2021-08-28 08:00:00   \n",
       "3    1 AV  H007-R248-00-00-00  08/28/2021  12:00:00 2021-08-28 12:00:00   \n",
       "4    1 AV  H007-R248-00-00-00  08/28/2021  16:00:00 2021-08-28 16:00:00   \n",
       "\n",
       "        DAY     EXITS  NEXT_DAY_EXITS  EXIT_COUNT  \n",
       "0  Saturday  18021900      18022048.0       148.0  \n",
       "1  Saturday  18022048      18022234.0       186.0  \n",
       "2  Saturday  18022234      18022538.0       304.0  \n",
       "3  Saturday  18022538      18023101.0       563.0  \n",
       "4  Saturday  18023101      18023715.0       614.0  "
      ]
     },
     "execution_count": 296,
     "metadata": {},
     "output_type": "execute_result"
    }
   ],
   "source": [
    "df_exits = df_exits[(df_exits.EXIT_COUNT > 0) & (df_exits.EXIT_COUNT < 200000)]\n",
    "\n",
    "df_exits.head()"
   ]
  },
  {
   "cell_type": "code",
   "execution_count": 297,
   "id": "2f02ac16",
   "metadata": {},
   "outputs": [
    {
     "data": {
      "text/plain": [
       "(2857776, 9)"
      ]
     },
     "execution_count": 297,
     "metadata": {},
     "output_type": "execute_result"
    }
   ],
   "source": [
    "df_exits.shape"
   ]
  },
  {
   "cell_type": "code",
   "execution_count": 301,
   "id": "2d4c948a",
   "metadata": {
    "scrolled": true
   },
   "outputs": [
    {
     "data": {
      "image/png": "[encoded data removed]",
      "text/plain": [
       "<Figure size 576x360 with 1 Axes>"
      ]
     },
     "metadata": {
      "needs_background": "light"
     },
     "output_type": "display_data"
    }
   ],
   "source": [
    "plt.figure(figsize=[8,5])\n",
    "ax = sns.barplot(data=top_exit_station.reset_index(),x='EXIT_COUNT',y='STATION',palette='magma')\n",
    "plt.xlabel('Total EXIT',weight='bold',fontsize=15)\n",
    "plt.ylabel('Top 10 Stations by Number of Exits',weight='bold',fontsize=15)\n",
    "\n",
    "plt.title('Busiest MTA EXITS', weight='bold',fontsize='15')\n",
    "for p in ax.patches:\n",
    "        ax.annotate(str(int(p.get_width()/1000))+'k', (p.get_width(), p.get_y()+0.5))\n",
    "sns.despine()"
   ]
  },
  {
   "cell_type": "code",
   "execution_count": 437,
   "id": "3914c5ab",
   "metadata": {},
   "outputs": [],
   "source": [
    "top_exit_morning = df_exits[(df_exits[\"DATE\"]>=\"09/01/2021\")&(df_exits[\"DATE\"]<\"10/01/2021\")&(df_exits[\"TIME\"]>=\"07:00:00\")&(df_exits[\"TIME\"]<=\"10:00:00\")]\n"
   ]
  },
  {
   "cell_type": "code",
   "execution_count": null,
   "id": "fdbd00c8",
   "metadata": {},
   "outputs": [],
   "source": [
    "station_daily_exit_ = top_exit_morning.groupby([\"STATION\", \"DATE\"])[['EXIT_COUNT']].sum().reset_index()\n",
    "morning_exit = station_daily_exit_.sort_values('EXIT_COUNT', ascending=False).head(20)"
   ]
  },
  {
   "cell_type": "code",
   "execution_count": 434,
   "id": "f9e0a577",
   "metadata": {},
   "outputs": [
    {
     "data": {
      "image/png": "[encoded data removed]",
      "text/plain": [
       "<Figure size 576x360 with 1 Axes>"
      ]
     },
     "metadata": {
      "needs_background": "light"
     },
     "output_type": "display_data"
    }
   ],
   "source": [
    "plt.figure(figsize=[8,5])\n",
    "ax = sns.barplot(data=morning_exit,y='EXIT_COUNT',x='STATION',palette='magma')\n",
    "\n",
    "plt.title('Busiest MTA EXITS between 7am to 10am ', weight='bold',fontsize='15')\n",
    "for p in ax.patches:\n",
    "        ax.annotate(str(int(p.get_width()/1000))+'k', (p.get_width(), p.get_y()+0.5))\n",
    "sns.despine()"
   ]
  },
  {
   "cell_type": "code",
   "execution_count": 442,
   "id": "e68c714b",
   "metadata": {},
   "outputs": [
    {
     "data": {
      "image/png": "[encoded data removed]",
      "text/plain": [
       "<Figure size 576x360 with 1 Axes>"
      ]
     },
     "metadata": {
      "needs_background": "light"
     },
     "output_type": "display_data"
    }
   ],
   "source": [
    "plt.figure(figsize=[8,5])\n",
    "ax = sns.barplot(data=morning_exit.reset_index(),x='EXIT_COUNT',y='STATION',palette='magma')\n",
    "\n",
    "plt.title('Busiest MTA EXITS between 7am to 10am', weight='bold',fontsize='15')\n",
    "for p in ax.patches:\n",
    "        ax.annotate(str(int(p.get_width()/1000))+'k', (p.get_width(), p.get_y()+0.5))\n",
    "sns.despine()"
   ]
  },
  {
   "cell_type": "code",
   "execution_count": null,
   "id": "3b011f00",
   "metadata": {},
   "outputs": [],
   "source": []
  },
  {
   "cell_type": "code",
   "execution_count": 302,
   "id": "c12cf3b7",
   "metadata": {},
   "outputs": [],
   "source": [
    "df1 = df_exits.groupby('DATE')['EXIT_COUNT'].sum().reset_index()"
   ]
  },
  {
   "cell_type": "code",
   "execution_count": 303,
   "id": "0f733914",
   "metadata": {},
   "outputs": [],
   "source": [
    "df1['datetime'] = pd.to_datetime(df1['DATE'], infer_datetime_format=True)"
   ]
  },
  {
   "cell_type": "code",
   "execution_count": 304,
   "id": "e559da2f",
   "metadata": {},
   "outputs": [],
   "source": [
    "df1['weekday'] = df1['datetime'].dt.dayofweek"
   ]
  },
  {
   "cell_type": "code",
   "execution_count": 305,
   "id": "ce76a934",
   "metadata": {},
   "outputs": [
    {
     "data": {
      "text/html": [
       "<div>\n",
       "<style scoped>\n",
       "    .dataframe tbody tr th:only-of-type {\n",
       "        vertical-align: middle;\n",
       "    }\n",
       "\n",
       "    .dataframe tbody tr th {\n",
       "        vertical-align: top;\n",
       "    }\n",
       "\n",
       "    .dataframe thead th {\n",
       "        text-align: right;\n",
       "    }\n",
       "</style>\n",
       "<table border=\"1\" class=\"dataframe\">\n",
       "  <thead>\n",
       "    <tr style=\"text-align: right;\">\n",
       "      <th></th>\n",
       "      <th>weekday</th>\n",
       "      <th>EXIT_COUNT</th>\n",
       "    </tr>\n",
       "  </thead>\n",
       "  <tbody>\n",
       "    <tr>\n",
       "      <th>0</th>\n",
       "      <td>0</td>\n",
       "      <td>2.662784e+06</td>\n",
       "    </tr>\n",
       "    <tr>\n",
       "      <th>1</th>\n",
       "      <td>1</td>\n",
       "      <td>2.880872e+06</td>\n",
       "    </tr>\n",
       "    <tr>\n",
       "      <th>2</th>\n",
       "      <td>2</td>\n",
       "      <td>2.903160e+06</td>\n",
       "    </tr>\n",
       "    <tr>\n",
       "      <th>3</th>\n",
       "      <td>3</td>\n",
       "      <td>2.736392e+06</td>\n",
       "    </tr>\n",
       "    <tr>\n",
       "      <th>4</th>\n",
       "      <td>4</td>\n",
       "      <td>6.000471e+06</td>\n",
       "    </tr>\n",
       "    <tr>\n",
       "      <th>5</th>\n",
       "      <td>5</td>\n",
       "      <td>2.058938e+06</td>\n",
       "    </tr>\n",
       "    <tr>\n",
       "      <th>6</th>\n",
       "      <td>6</td>\n",
       "      <td>1.638582e+06</td>\n",
       "    </tr>\n",
       "  </tbody>\n",
       "</table>\n",
       "</div>"
      ],
      "text/plain": [
       "   weekday    EXIT_COUNT\n",
       "0        0  2.662784e+06\n",
       "1        1  2.880872e+06\n",
       "2        2  2.903160e+06\n",
       "3        3  2.736392e+06\n",
       "4        4  6.000471e+06\n",
       "5        5  2.058938e+06\n",
       "6        6  1.638582e+06"
      ]
     },
     "execution_count": 305,
     "metadata": {},
     "output_type": "execute_result"
    }
   ],
   "source": [
    "df1.groupby('weekday')['EXIT_COUNT'].mean().reset_index().sort_values('weekday')\n"
   ]
  },
  {
   "cell_type": "code",
   "execution_count": 306,
   "id": "493cb9f2",
   "metadata": {},
   "outputs": [
    {
     "data": {
      "text/html": [
       "<div>\n",
       "<style scoped>\n",
       "    .dataframe tbody tr th:only-of-type {\n",
       "        vertical-align: middle;\n",
       "    }\n",
       "\n",
       "    .dataframe tbody tr th {\n",
       "        vertical-align: top;\n",
       "    }\n",
       "\n",
       "    .dataframe thead th {\n",
       "        text-align: right;\n",
       "    }\n",
       "</style>\n",
       "<table border=\"1\" class=\"dataframe\">\n",
       "  <thead>\n",
       "    <tr style=\"text-align: right;\">\n",
       "      <th></th>\n",
       "      <th>DATE</th>\n",
       "      <th>EXIT_COUNT</th>\n",
       "      <th>datetime</th>\n",
       "      <th>weekday</th>\n",
       "    </tr>\n",
       "  </thead>\n",
       "  <tbody>\n",
       "    <tr>\n",
       "      <th>0</th>\n",
       "      <td>08/28/2021</td>\n",
       "      <td>1660301.0</td>\n",
       "      <td>2021-08-28</td>\n",
       "      <td>5</td>\n",
       "    </tr>\n",
       "    <tr>\n",
       "      <th>1</th>\n",
       "      <td>08/29/2021</td>\n",
       "      <td>1526462.0</td>\n",
       "      <td>2021-08-29</td>\n",
       "      <td>6</td>\n",
       "    </tr>\n",
       "    <tr>\n",
       "      <th>2</th>\n",
       "      <td>08/30/2021</td>\n",
       "      <td>2252531.0</td>\n",
       "      <td>2021-08-30</td>\n",
       "      <td>0</td>\n",
       "    </tr>\n",
       "    <tr>\n",
       "      <th>3</th>\n",
       "      <td>08/31/2021</td>\n",
       "      <td>2418800.0</td>\n",
       "      <td>2021-08-31</td>\n",
       "      <td>1</td>\n",
       "    </tr>\n",
       "    <tr>\n",
       "      <th>4</th>\n",
       "      <td>09/01/2021</td>\n",
       "      <td>2291115.0</td>\n",
       "      <td>2021-09-01</td>\n",
       "      <td>2</td>\n",
       "    </tr>\n",
       "  </tbody>\n",
       "</table>\n",
       "</div>"
      ],
      "text/plain": [
       "         DATE  EXIT_COUNT   datetime  weekday\n",
       "0  08/28/2021   1660301.0 2021-08-28        5\n",
       "1  08/29/2021   1526462.0 2021-08-29        6\n",
       "2  08/30/2021   2252531.0 2021-08-30        0\n",
       "3  08/31/2021   2418800.0 2021-08-31        1\n",
       "4  09/01/2021   2291115.0 2021-09-01        2"
      ]
     },
     "execution_count": 306,
     "metadata": {},
     "output_type": "execute_result"
    }
   ],
   "source": [
    "df1.head()"
   ]
  },
  {
   "cell_type": "code",
   "execution_count": 307,
   "id": "704193bc",
   "metadata": {
    "scrolled": false
   },
   "outputs": [
    {
     "data": {
      "image/png": "[encoded data removed]",
      "text/plain": [
       "<Figure size 648x288 with 1 Axes>"
      ]
     },
     "metadata": {
      "needs_background": "light"
     },
     "output_type": "display_data"
    }
   ],
   "source": [
    "Days =['Monday', 'Tuesday', 'Wednesday', 'Thursday', 'Friday', 'Saturday', 'Sunday']\n",
    "\n",
    "plt.figure(figsize=[9,4])\n",
    "plt.ylabel('Number of people per Day', fontsize = 10)\n",
    "plt.title('Number of people exiting each Day of Week', fontsize = 20)\n",
    "plt.bar(Days, df1.groupby('weekday')['EXIT_COUNT'].mean());\n",
    "plt.savefig('weekly.png')\n"
   ]
  },
  {
   "cell_type": "code",
   "execution_count": null,
   "id": "b25d593f",
   "metadata": {},
   "outputs": [],
   "source": []
  },
  {
   "cell_type": "markdown",
   "id": "3ed9e598",
   "metadata": {},
   "source": [
    "### Extract Data from SQLite Database and Inspect"
   ]
  },
  {
   "cell_type": "markdown",
   "id": "e4155334",
   "metadata": {},
   "source": [
    "Creating Table with SQL:\n",
    "\n",
    "CREATE TABLE IF NOT EXISTS mta_data (\n",
    "ca TEXT,\n",
    "unit TEXT,\n",
    "scp TEXT,\n",
    "station TEXT,\n",
    "linename TEXT,\n",
    "division TEXT,\n",
    "date TEXT,\n",
    "time TEXT,\n",
    "desc TEXT,\n",
    "entries INTEGER,\n",
    "exits INTEGER,\n",
    "PRIMARY KEY (ca, unit, scp, station, linename, division, date, time, desc, entries, exits)\n",
    ")\n"
   ]
  },
  {
   "cell_type": "markdown",
   "id": "5c8a4408",
   "metadata": {},
   "source": [
    "SELECT EXTRACT(month FROM DATE) AS MONTH, \n",
    "       COUNT(DISTINCT(ENTRIES)) AS num_entries\n",
    "FROM `mta_data`\n",
    "GROUP BY MONTH\n",
    "ORDER BY MONTH;"
   ]
  },
  {
   "cell_type": "markdown",
   "id": "68654980",
   "metadata": {},
   "source": [
    "SELECT STATION, num_station\n",
    "FROM \n",
    "  (SELECT STATION, COUNT(STATION) AS       \n",
    "   num_station, EXTRACT(MONTH FROM starttime) AS month\n",
    "   FROM `mta_data`\n",
    "   GROUP BY STATION,month\n",
    "   ORDER BY month)\n",
    "WHERE month = 9\n",
    "ORDER BY num_station DESC\n",
    "LIMIT 10\n"
   ]
  },
  {
   "cell_type": "code",
   "execution_count": 443,
   "id": "9f5c9c8f",
   "metadata": {},
   "outputs": [],
   "source": [
    "from sqlalchemy import create_engine"
   ]
  },
  {
   "cell_type": "code",
   "execution_count": 444,
   "id": "2e335cf3",
   "metadata": {},
   "outputs": [],
   "source": [
    "engine = create_engine(\"sqlite:///mta_data.db\")"
   ]
  },
  {
   "cell_type": "code",
   "execution_count": 445,
   "id": "17bb53f8",
   "metadata": {
    "scrolled": true
   },
   "outputs": [
    {
     "name": "stderr",
     "output_type": "stream",
     "text": [
      "/anaconda3/lib/python3.7/site-packages/ipykernel_launcher.py:1: SADeprecationWarning: The Engine.table_names() method is deprecated and will be removed in a future release.  Please refer to Inspector.get_table_names(). (deprecated since: 1.4)\n",
      "  \"\"\"Entry point for launching an IPython kernel.\n"
     ]
    },
    {
     "data": {
      "text/plain": [
       "['mta_data']"
      ]
     },
     "execution_count": 445,
     "metadata": {},
     "output_type": "execute_result"
    }
   ],
   "source": [
    "engine.table_names()"
   ]
  },
  {
   "cell_type": "code",
   "execution_count": 438,
   "id": "77974701",
   "metadata": {},
   "outputs": [
    {
     "data": {
      "text/html": [
       "<div>\n",
       "<style scoped>\n",
       "    .dataframe tbody tr th:only-of-type {\n",
       "        vertical-align: middle;\n",
       "    }\n",
       "\n",
       "    .dataframe tbody tr th {\n",
       "        vertical-align: top;\n",
       "    }\n",
       "\n",
       "    .dataframe thead th {\n",
       "        text-align: right;\n",
       "    }\n",
       "</style>\n",
       "<table border=\"1\" class=\"dataframe\">\n",
       "  <thead>\n",
       "    <tr style=\"text-align: right;\">\n",
       "      <th></th>\n",
       "      <th>STATION</th>\n",
       "      <th>turnstiles</th>\n",
       "    </tr>\n",
       "  </thead>\n",
       "  <tbody>\n",
       "    <tr>\n",
       "      <th>0</th>\n",
       "      <td>59 ST</td>\n",
       "      <td>2920793</td>\n",
       "    </tr>\n",
       "  </tbody>\n",
       "</table>\n",
       "</div>"
      ],
      "text/plain": [
       "  STATION  turnstiles\n",
       "0   59 ST     2920793"
      ]
     },
     "execution_count": 438,
     "metadata": {},
     "output_type": "execute_result"
    }
   ],
   "source": [
    "station_turnstile_count = pd.read_sql('''SELECT station, COUNT(*) AS turnstiles\n",
    "                                                                            \n",
    "                                         FROM mta_data\n",
    "                                         ORDER BY turnstiles DESC;\n",
    "                                         ''', engine)\n",
    "\n",
    "station_turnstile_count.head(10)"
   ]
  },
  {
   "cell_type": "code",
   "execution_count": null,
   "id": "072a7ac3",
   "metadata": {},
   "outputs": [],
   "source": []
  },
  {
   "cell_type": "code",
   "execution_count": 110,
   "id": "06cdef2d",
   "metadata": {},
   "outputs": [],
   "source": [
    "df = pd.read_sql('select * from mta_data;', engine)"
   ]
  },
  {
   "cell_type": "code",
   "execution_count": 112,
   "id": "6769cc05",
   "metadata": {},
   "outputs": [
    {
     "data": {
      "text/html": [
       "<div>\n",
       "<style scoped>\n",
       "    .dataframe tbody tr th:only-of-type {\n",
       "        vertical-align: middle;\n",
       "    }\n",
       "\n",
       "    .dataframe tbody tr th {\n",
       "        vertical-align: top;\n",
       "    }\n",
       "\n",
       "    .dataframe thead th {\n",
       "        text-align: right;\n",
       "    }\n",
       "</style>\n",
       "<table border=\"1\" class=\"dataframe\">\n",
       "  <thead>\n",
       "    <tr style=\"text-align: right;\">\n",
       "      <th></th>\n",
       "      <th>C/A</th>\n",
       "      <th>UNIT</th>\n",
       "      <th>SCP</th>\n",
       "      <th>STATION</th>\n",
       "      <th>LINENAME</th>\n",
       "      <th>DIVISION</th>\n",
       "      <th>DATE</th>\n",
       "      <th>TIME</th>\n",
       "      <th>DESC</th>\n",
       "      <th>ENTRIES</th>\n",
       "      <th>EXITS</th>\n",
       "    </tr>\n",
       "  </thead>\n",
       "  <tbody>\n",
       "    <tr>\n",
       "      <th>0</th>\n",
       "      <td>A002</td>\n",
       "      <td>R051</td>\n",
       "      <td>02-00-00</td>\n",
       "      <td>59 ST</td>\n",
       "      <td>NQR456W</td>\n",
       "      <td>BMT</td>\n",
       "      <td>01/22/2022</td>\n",
       "      <td>03:00:00</td>\n",
       "      <td>REGULAR</td>\n",
       "      <td>7680606</td>\n",
       "      <td>2656954</td>\n",
       "    </tr>\n",
       "    <tr>\n",
       "      <th>1</th>\n",
       "      <td>A002</td>\n",
       "      <td>R051</td>\n",
       "      <td>02-00-00</td>\n",
       "      <td>59 ST</td>\n",
       "      <td>NQR456W</td>\n",
       "      <td>BMT</td>\n",
       "      <td>01/22/2022</td>\n",
       "      <td>07:00:00</td>\n",
       "      <td>REGULAR</td>\n",
       "      <td>7680608</td>\n",
       "      <td>2656967</td>\n",
       "    </tr>\n",
       "    <tr>\n",
       "      <th>2</th>\n",
       "      <td>A002</td>\n",
       "      <td>R051</td>\n",
       "      <td>02-00-00</td>\n",
       "      <td>59 ST</td>\n",
       "      <td>NQR456W</td>\n",
       "      <td>BMT</td>\n",
       "      <td>01/22/2022</td>\n",
       "      <td>11:00:00</td>\n",
       "      <td>REGULAR</td>\n",
       "      <td>7680620</td>\n",
       "      <td>2657068</td>\n",
       "    </tr>\n",
       "    <tr>\n",
       "      <th>3</th>\n",
       "      <td>A002</td>\n",
       "      <td>R051</td>\n",
       "      <td>02-00-00</td>\n",
       "      <td>59 ST</td>\n",
       "      <td>NQR456W</td>\n",
       "      <td>BMT</td>\n",
       "      <td>01/22/2022</td>\n",
       "      <td>15:00:00</td>\n",
       "      <td>REGULAR</td>\n",
       "      <td>7680671</td>\n",
       "      <td>2657118</td>\n",
       "    </tr>\n",
       "    <tr>\n",
       "      <th>4</th>\n",
       "      <td>A002</td>\n",
       "      <td>R051</td>\n",
       "      <td>02-00-00</td>\n",
       "      <td>59 ST</td>\n",
       "      <td>NQR456W</td>\n",
       "      <td>BMT</td>\n",
       "      <td>01/22/2022</td>\n",
       "      <td>19:00:00</td>\n",
       "      <td>REGULAR</td>\n",
       "      <td>7680734</td>\n",
       "      <td>2657163</td>\n",
       "    </tr>\n",
       "  </tbody>\n",
       "</table>\n",
       "</div>"
      ],
      "text/plain": [
       "    C/A  UNIT       SCP STATION LINENAME DIVISION        DATE      TIME  \\\n",
       "0  A002  R051  02-00-00   59 ST  NQR456W      BMT  01/22/2022  03:00:00   \n",
       "1  A002  R051  02-00-00   59 ST  NQR456W      BMT  01/22/2022  07:00:00   \n",
       "2  A002  R051  02-00-00   59 ST  NQR456W      BMT  01/22/2022  11:00:00   \n",
       "3  A002  R051  02-00-00   59 ST  NQR456W      BMT  01/22/2022  15:00:00   \n",
       "4  A002  R051  02-00-00   59 ST  NQR456W      BMT  01/22/2022  19:00:00   \n",
       "\n",
       "      DESC  ENTRIES    EXITS  \n",
       "0  REGULAR  7680606  2656954  \n",
       "1  REGULAR  7680608  2656967  \n",
       "2  REGULAR  7680620  2657068  \n",
       "3  REGULAR  7680671  2657118  \n",
       "4  REGULAR  7680734  2657163  "
      ]
     },
     "execution_count": 112,
     "metadata": {},
     "output_type": "execute_result"
    }
   ],
   "source": [
    "df.head()"
   ]
  },
  {
   "cell_type": "code",
   "execution_count": 114,
   "id": "2a5e3720",
   "metadata": {
    "scrolled": true
   },
   "outputs": [
    {
     "data": {
      "text/plain": [
       "C/A         object\n",
       "UNIT        object\n",
       "SCP         object\n",
       "STATION     object\n",
       "LINENAME    object\n",
       "DIVISION    object\n",
       "DATE        object\n",
       "TIME        object\n",
       "DESC        object\n",
       "ENTRIES      int64\n",
       "EXITS        int64\n",
       "dtype: object"
      ]
     },
     "execution_count": 114,
     "metadata": {},
     "output_type": "execute_result"
    }
   ],
   "source": [
    "df.dtypes"
   ]
  }
 ],
 "metadata": {
  "kernelspec": {
   "display_name": "Python 3 (ipykernel)",
   "language": "python",
   "name": "python3"
  },
  "language_info": {
   "codemirror_mode": {
    "name": "ipython",
    "version": 3
   },
   "file_extension": ".py",
   "mimetype": "text/x-python",
   "name": "python",
   "nbconvert_exporter": "python",
   "pygments_lexer": "ipython3",
   "version": "3.7.3"
  }
 },
 "nbformat": 4,
 "nbformat_minor": 5
}
