{
 "cells": [
  {
   "cell_type": "markdown",
   "id": "4646c021",
   "metadata": {},
   "source": [
    "# EXPLORATORY DATA ANALYSIS\n"
   ]
  },
  {
   "cell_type": "markdown",
   "id": "bbea161d",
   "metadata": {},
   "source": [
    "## MVP"
   ]
  },
  {
   "cell_type": "markdown",
   "id": "8ea29d8d",
   "metadata": {},
   "source": [
    "#### Marjan Rezvani\n",
    "- Rezvani.mrb@gmail.com"
   ]
  },
  {
   "cell_type": "markdown",
   "id": "23051284",
   "metadata": {},
   "source": [
    "#### Goal: comparing the same month in several years to identify differences between them such as population of people who commute from a specefic station."
   ]
  },
  {
   "cell_type": "markdown",
   "id": "0054bc11",
   "metadata": {},
   "source": [
    "- I Downloaded MTA turnstile data files for all days of september days for following three years: 19/09.., 20/09.., 21/09.."
   ]
  },
  {
   "cell_type": "markdown",
   "id": "f33b5385",
   "metadata": {},
   "source": [
    "#### In this work I will preprocess the dataset and do Data wrangling and manipulation:\n",
    "\n",
    "- I will first clean up data then convert some data to datetime.\n",
    "- I will make some subsets of data to work with.\n",
    "- Also I will do some viasual analytics on data.\n",
    "- And in continue I will do more explority data analysis."
   ]
  },
  {
   "cell_type": "markdown",
   "id": "a39bcd8d",
   "metadata": {},
   "source": [
    "### Data: \n",
    "- C/A : Control Area name/Booth name. This is the internal identification of a booth at a given station.\n",
    "- UNIT : Remote unit ID of station.\n",
    "- SCP : Subunit/Channel/position represents a specific address for a given device. \n",
    "- STATION : Name assigned to the subway station by operations planning. This name is used in all references to stations, as well as in debit/credit purchase receipts, and customer’s bank activity statements.\n",
    "- LINENAME : Train lines stopping at this location. Can contain up to 20 single character identifier. When more than one train line appears, it is usually intercepting train lines, in major stations where the passenger can transfer between any one of the lines.\n",
    "- DIVISION : Represents the Line originally the station belonged to BMT, IRT, or IND. Each section of the system is assigned a unique line name, usually paired with its original operating company or division (Brooklyn–Manhattan Transit Corporation (BMT), Interborough Rapid Transit Company (IRT), and Independent Subway System (IND).\n",
    "- DATE : Represents the date of the audit data.\n",
    "- TIME : Represents the date of the audit data.\n",
    "- DESC\n",
    "- ENTRIES\n",
    "- EXITS"
   ]
  },
  {
   "cell_type": "code",
   "execution_count": 18,
   "id": "3fdbdd7f",
   "metadata": {},
   "outputs": [],
   "source": [
    "import pandas as pd\n",
    "import matplotlib.pyplot as plt\n",
    "import numpy as np\n",
    "import seaborn as sns\n",
    "import datetime\n",
    "\n",
    "%matplotlib inline"
   ]
  },
  {
   "cell_type": "code",
   "execution_count": 19,
   "id": "be03a797",
   "metadata": {},
   "outputs": [],
   "source": [
    "def get_data(week_nums):\n",
    "    url = \"http://web.mta.info/developers/data/nyct/turnstile/turnstile_{}.txt\"\n",
    "    dfs = []\n",
    "    for week_num in week_nums:\n",
    "        file_url = url.format(week_num)\n",
    "        dfs.append(pd.read_csv(file_url))\n",
    "    return pd.concat(dfs)\n",
    "        \n",
    "week_nums = [190907, 190914, 190921, 190928]\n",
    "turnstiles_df1 = get_data(week_nums)"
   ]
  },
  {
   "cell_type": "code",
   "execution_count": 20,
   "id": "f4d1c159",
   "metadata": {},
   "outputs": [],
   "source": [
    "sep_2019 = turnstiles_df1"
   ]
  },
  {
   "cell_type": "code",
   "execution_count": 22,
   "id": "7880dad4",
   "metadata": {},
   "outputs": [
    {
     "data": {
      "text/plain": [
       "Index(['C/A', 'UNIT', 'SCP', 'STATION', 'LINENAME', 'DIVISION', 'DATE', 'TIME',\n",
       "       'DESC', 'ENTRIES', 'EXITS'],\n",
       "      dtype='object')"
      ]
     },
     "execution_count": 22,
     "metadata": {},
     "output_type": "execute_result"
    }
   ],
   "source": [
    "sep_2019.columns = [column.strip() for column in sep_2019.columns]\n",
    "sep_2019.columns"
   ]
  },
  {
   "cell_type": "code",
   "execution_count": 23,
   "id": "8ff569ce",
   "metadata": {},
   "outputs": [],
   "source": [
    "sep_2019[\"DATE_TIME\"] = pd.to_datetime(sep_2019.DATE + \" \" + sep_2019.TIME, format=\"%m/%d/%Y %H:%M:%S\")"
   ]
  },
  {
   "cell_type": "code",
   "execution_count": 24,
   "id": "9a61aed2",
   "metadata": {},
   "outputs": [],
   "source": [
    "sep_2019.sort_values([\"C/A\", \"UNIT\", \"SCP\", \"STATION\", \"DATE_TIME\"], inplace=True,  ascending=False)\n",
    "                         \n",
    "sep_2019.drop_duplicates(subset=[\"C/A\", \"UNIT\", \"SCP\", \"STATION\", \"DATE_TIME\"], inplace=True)"
   ]
  },
  {
   "cell_type": "code",
   "execution_count": 25,
   "id": "7de1a188",
   "metadata": {},
   "outputs": [
    {
     "data": {
      "text/html": [
       "<div>\n",
       "<style scoped>\n",
       "    .dataframe tbody tr th:only-of-type {\n",
       "        vertical-align: middle;\n",
       "    }\n",
       "\n",
       "    .dataframe tbody tr th {\n",
       "        vertical-align: top;\n",
       "    }\n",
       "\n",
       "    .dataframe thead th {\n",
       "        text-align: right;\n",
       "    }\n",
       "</style>\n",
       "<table border=\"1\" class=\"dataframe\">\n",
       "  <thead>\n",
       "    <tr style=\"text-align: right;\">\n",
       "      <th></th>\n",
       "      <th>C/A</th>\n",
       "      <th>UNIT</th>\n",
       "      <th>SCP</th>\n",
       "      <th>STATION</th>\n",
       "      <th>DATE_TIME</th>\n",
       "      <th>ENTRIES</th>\n",
       "    </tr>\n",
       "  </thead>\n",
       "  <tbody>\n",
       "    <tr>\n",
       "      <th>0</th>\n",
       "      <td>A002</td>\n",
       "      <td>R051</td>\n",
       "      <td>02-00-00</td>\n",
       "      <td>59 ST</td>\n",
       "      <td>2019-08-31 00:00:00</td>\n",
       "      <td>1</td>\n",
       "    </tr>\n",
       "    <tr>\n",
       "      <th>547097</th>\n",
       "      <td>R138</td>\n",
       "      <td>R293</td>\n",
       "      <td>00-03-01</td>\n",
       "      <td>34 ST-PENN STA</td>\n",
       "      <td>2019-09-16 14:00:00</td>\n",
       "      <td>1</td>\n",
       "    </tr>\n",
       "    <tr>\n",
       "      <th>547087</th>\n",
       "      <td>R138</td>\n",
       "      <td>R293</td>\n",
       "      <td>00-03-01</td>\n",
       "      <td>34 ST-PENN STA</td>\n",
       "      <td>2019-09-14 22:00:00</td>\n",
       "      <td>1</td>\n",
       "    </tr>\n",
       "    <tr>\n",
       "      <th>547088</th>\n",
       "      <td>R138</td>\n",
       "      <td>R293</td>\n",
       "      <td>00-03-01</td>\n",
       "      <td>34 ST-PENN STA</td>\n",
       "      <td>2019-09-15 02:00:00</td>\n",
       "      <td>1</td>\n",
       "    </tr>\n",
       "    <tr>\n",
       "      <th>547089</th>\n",
       "      <td>R138</td>\n",
       "      <td>R293</td>\n",
       "      <td>00-03-01</td>\n",
       "      <td>34 ST-PENN STA</td>\n",
       "      <td>2019-09-15 06:00:00</td>\n",
       "      <td>1</td>\n",
       "    </tr>\n",
       "    <tr>\n",
       "      <th>547090</th>\n",
       "      <td>R138</td>\n",
       "      <td>R293</td>\n",
       "      <td>00-03-01</td>\n",
       "      <td>34 ST-PENN STA</td>\n",
       "      <td>2019-09-15 10:00:00</td>\n",
       "      <td>1</td>\n",
       "    </tr>\n",
       "  </tbody>\n",
       "</table>\n",
       "</div>"
      ],
      "text/plain": [
       "         C/A  UNIT       SCP         STATION           DATE_TIME  ENTRIES\n",
       "0       A002  R051  02-00-00           59 ST 2019-08-31 00:00:00        1\n",
       "547097  R138  R293  00-03-01  34 ST-PENN STA 2019-09-16 14:00:00        1\n",
       "547087  R138  R293  00-03-01  34 ST-PENN STA 2019-09-14 22:00:00        1\n",
       "547088  R138  R293  00-03-01  34 ST-PENN STA 2019-09-15 02:00:00        1\n",
       "547089  R138  R293  00-03-01  34 ST-PENN STA 2019-09-15 06:00:00        1\n",
       "547090  R138  R293  00-03-01  34 ST-PENN STA 2019-09-15 10:00:00        1"
      ]
     },
     "execution_count": 25,
     "metadata": {},
     "output_type": "execute_result"
    }
   ],
   "source": [
    "(sep_2019\n",
    " .groupby([\"C/A\", \"UNIT\", \"SCP\", \"STATION\", \"DATE_TIME\"])  \n",
    " .ENTRIES.count()\n",
    " .reset_index()  \n",
    " .sort_values(\"ENTRIES\", ascending=False)).head(6)"
   ]
  },
  {
   "cell_type": "code",
   "execution_count": 26,
   "id": "50b9ebcc",
   "metadata": {},
   "outputs": [],
   "source": [
    "sep_2019 = sep_2019.drop([\"EXITS\", \"DESC\"], axis=1, errors=\"ignore\")"
   ]
  },
  {
   "cell_type": "markdown",
   "id": "4e3b9a31",
   "metadata": {},
   "source": [
    "#### I want to remove the rows of date which is including August. because I would like to compare single month September in several years."
   ]
  },
  {
   "cell_type": "code",
   "execution_count": 27,
   "id": "ee004ad4",
   "metadata": {},
   "outputs": [],
   "source": [
    "sep_2019 = sep_2019.drop(sep_2019[sep_2019['DATE'] == '08/31/2019'].index)"
   ]
  },
  {
   "cell_type": "code",
   "execution_count": 28,
   "id": "105b56fa",
   "metadata": {},
   "outputs": [
    {
     "data": {
      "text/plain": [
       "09/01/2019    29243\n",
       "09/02/2019    29283\n",
       "09/03/2019    29290\n",
       "09/04/2019    29366\n",
       "09/05/2019    29132\n",
       "09/06/2019    29106\n",
       "09/07/2019    25863\n",
       "09/08/2019    25754\n",
       "09/09/2019    24806\n",
       "09/10/2019    25933\n",
       "09/11/2019    25286\n",
       "09/12/2019    24289\n",
       "09/13/2019    24277\n",
       "09/14/2019    25244\n",
       "09/15/2019    25235\n",
       "09/16/2019    24971\n",
       "09/17/2019    24674\n",
       "09/18/2019    25159\n",
       "09/19/2019    24633\n",
       "09/20/2019    25635\n",
       "09/21/2019    23499\n",
       "09/22/2019    24916\n",
       "09/23/2019    26154\n",
       "09/24/2019    26110\n",
       "09/25/2019    25887\n",
       "09/26/2019    24080\n",
       "09/27/2019    25315\n",
       "Name: DATE, dtype: int64"
      ]
     },
     "execution_count": 28,
     "metadata": {},
     "output_type": "execute_result"
    }
   ],
   "source": [
    "sep_2019.DATE.value_counts().sort_index()"
   ]
  },
  {
   "cell_type": "code",
   "execution_count": 29,
   "id": "0f56c0d1",
   "metadata": {},
   "outputs": [],
   "source": [
    "date = sep_2019.groupby('DATE').sum('ENTRIES').sort_values('DATE')"
   ]
  },
  {
   "cell_type": "markdown",
   "id": "bff02540",
   "metadata": {},
   "source": [
    "- I would like to show the sum of entries during the september. "
   ]
  },
  {
   "cell_type": "code",
   "execution_count": 30,
   "id": "de0d796f",
   "metadata": {
    "scrolled": false
   },
   "outputs": [
    {
     "data": {
      "text/plain": [
       "[<matplotlib.lines.Line2D at 0x125c14b38>]"
      ]
     },
     "execution_count": 30,
     "metadata": {},
     "output_type": "execute_result"
    },
    {
     "data": {
      "image/png": "[encoded data removed]",
      "text/plain": [
       "<Figure size 576x360 with 1 Axes>"
      ]
     },
     "metadata": {
      "needs_background": "light"
     },
     "output_type": "display_data"
    }
   ],
   "source": [
    "plt.figure(figsize=[8,5])\n",
    "plt.plot(date)"
   ]
  },
  {
   "cell_type": "code",
   "execution_count": 20,
   "id": "4381ba0a",
   "metadata": {},
   "outputs": [
    {
     "data": {
      "text/plain": [
       "<AxesSubplot:xlabel='DATE', ylabel='Density'>"
      ]
     },
     "execution_count": 20,
     "metadata": {},
     "output_type": "execute_result"
    },
    {
     "data": {
      "image/png": "[encoded data removed]",
      "text/plain": [
       "<Figure size 720x360 with 1 Axes>"
      ]
     },
     "metadata": {
      "needs_background": "light"
     },
     "output_type": "display_data"
    }
   ],
   "source": [
    "plt.figure(figsize=[10,5])\n",
    "sns.histplot(sep_2019['DATE'], stat='density')"
   ]
  },
  {
   "cell_type": "code",
   "execution_count": 19,
   "id": "e8afb6c6",
   "metadata": {
    "scrolled": true
   },
   "outputs": [
    {
     "data": {
      "text/plain": [
       "<AxesSubplot:xlabel='DATE', ylabel='ENTRIES'>"
      ]
     },
     "execution_count": 19,
     "metadata": {},
     "output_type": "execute_result"
    },
    {
     "data": {
      "image/png": "[encoded data removed]",
      "text/plain": [
       "<Figure size 1080x360 with 1 Axes>"
      ]
     },
     "metadata": {
      "needs_background": "light"
     },
     "output_type": "display_data"
    }
   ],
   "source": [
    "plt.figure(figsize=[15,5])\n",
    "sns.barplot(x='DATE', y='ENTRIES', data=sep_2019)"
   ]
  },
  {
   "cell_type": "markdown",
   "id": "b8500186",
   "metadata": {},
   "source": [
    "- I am going to set a subset of my dataset, and make a mask for using in next plots. I just want to explore different approaches and results for this dataset. It doesn't necessarily look reasonable."
   ]
  },
  {
   "cell_type": "code",
   "execution_count": 28,
   "id": "deadbb06",
   "metadata": {},
   "outputs": [],
   "source": [
    "mask = ((sep_2019[\"C/A\"] == \"A002\") & \n",
    "(sep_2019[\"UNIT\"] == \"R051\") & \n",
    "(sep_2019[\"SCP\"] == \"02-00-00\") & \n",
    "(sep_2019[\"STATION\"] == \"59 ST\") &\n",
    "(sep_2019[\"DATE_TIME\"].dt.date == datetime.datetime(2019, 9, 1).date())) "
   ]
  },
  {
   "cell_type": "code",
   "execution_count": 31,
   "id": "bf5e8028",
   "metadata": {},
   "outputs": [
    {
     "data": {
      "text/html": [
       "<div>\n",
       "<style scoped>\n",
       "    .dataframe tbody tr th:only-of-type {\n",
       "        vertical-align: middle;\n",
       "    }\n",
       "\n",
       "    .dataframe tbody tr th {\n",
       "        vertical-align: top;\n",
       "    }\n",
       "\n",
       "    .dataframe thead th {\n",
       "        text-align: right;\n",
       "    }\n",
       "</style>\n",
       "<table border=\"1\" class=\"dataframe\">\n",
       "  <thead>\n",
       "    <tr style=\"text-align: right;\">\n",
       "      <th></th>\n",
       "      <th>C/A</th>\n",
       "      <th>UNIT</th>\n",
       "      <th>SCP</th>\n",
       "      <th>STATION</th>\n",
       "      <th>LINENAME</th>\n",
       "      <th>DIVISION</th>\n",
       "      <th>DATE</th>\n",
       "      <th>TIME</th>\n",
       "      <th>ENTRIES</th>\n",
       "      <th>DATE_TIME</th>\n",
       "    </tr>\n",
       "  </thead>\n",
       "  <tbody>\n",
       "    <tr>\n",
       "      <th>11</th>\n",
       "      <td>A002</td>\n",
       "      <td>R051</td>\n",
       "      <td>02-00-00</td>\n",
       "      <td>59 ST</td>\n",
       "      <td>NQR456W</td>\n",
       "      <td>BMT</td>\n",
       "      <td>09/01/2019</td>\n",
       "      <td>20:00:00</td>\n",
       "      <td>7184559</td>\n",
       "      <td>2019-09-01 20:00:00</td>\n",
       "    </tr>\n",
       "    <tr>\n",
       "      <th>10</th>\n",
       "      <td>A002</td>\n",
       "      <td>R051</td>\n",
       "      <td>02-00-00</td>\n",
       "      <td>59 ST</td>\n",
       "      <td>NQR456W</td>\n",
       "      <td>BMT</td>\n",
       "      <td>09/01/2019</td>\n",
       "      <td>16:00:00</td>\n",
       "      <td>7184345</td>\n",
       "      <td>2019-09-01 16:00:00</td>\n",
       "    </tr>\n",
       "    <tr>\n",
       "      <th>9</th>\n",
       "      <td>A002</td>\n",
       "      <td>R051</td>\n",
       "      <td>02-00-00</td>\n",
       "      <td>59 ST</td>\n",
       "      <td>NQR456W</td>\n",
       "      <td>BMT</td>\n",
       "      <td>09/01/2019</td>\n",
       "      <td>12:00:00</td>\n",
       "      <td>7184137</td>\n",
       "      <td>2019-09-01 12:00:00</td>\n",
       "    </tr>\n",
       "    <tr>\n",
       "      <th>8</th>\n",
       "      <td>A002</td>\n",
       "      <td>R051</td>\n",
       "      <td>02-00-00</td>\n",
       "      <td>59 ST</td>\n",
       "      <td>NQR456W</td>\n",
       "      <td>BMT</td>\n",
       "      <td>09/01/2019</td>\n",
       "      <td>08:00:00</td>\n",
       "      <td>7184042</td>\n",
       "      <td>2019-09-01 08:00:00</td>\n",
       "    </tr>\n",
       "    <tr>\n",
       "      <th>7</th>\n",
       "      <td>A002</td>\n",
       "      <td>R051</td>\n",
       "      <td>02-00-00</td>\n",
       "      <td>59 ST</td>\n",
       "      <td>NQR456W</td>\n",
       "      <td>BMT</td>\n",
       "      <td>09/01/2019</td>\n",
       "      <td>04:00:00</td>\n",
       "      <td>7184025</td>\n",
       "      <td>2019-09-01 04:00:00</td>\n",
       "    </tr>\n",
       "    <tr>\n",
       "      <th>6</th>\n",
       "      <td>A002</td>\n",
       "      <td>R051</td>\n",
       "      <td>02-00-00</td>\n",
       "      <td>59 ST</td>\n",
       "      <td>NQR456W</td>\n",
       "      <td>BMT</td>\n",
       "      <td>09/01/2019</td>\n",
       "      <td>00:00:00</td>\n",
       "      <td>7184008</td>\n",
       "      <td>2019-09-01 00:00:00</td>\n",
       "    </tr>\n",
       "  </tbody>\n",
       "</table>\n",
       "</div>"
      ],
      "text/plain": [
       "     C/A  UNIT       SCP STATION LINENAME DIVISION        DATE      TIME  \\\n",
       "11  A002  R051  02-00-00   59 ST  NQR456W      BMT  09/01/2019  20:00:00   \n",
       "10  A002  R051  02-00-00   59 ST  NQR456W      BMT  09/01/2019  16:00:00   \n",
       "9   A002  R051  02-00-00   59 ST  NQR456W      BMT  09/01/2019  12:00:00   \n",
       "8   A002  R051  02-00-00   59 ST  NQR456W      BMT  09/01/2019  08:00:00   \n",
       "7   A002  R051  02-00-00   59 ST  NQR456W      BMT  09/01/2019  04:00:00   \n",
       "6   A002  R051  02-00-00   59 ST  NQR456W      BMT  09/01/2019  00:00:00   \n",
       "\n",
       "    ENTRIES           DATE_TIME  \n",
       "11  7184559 2019-09-01 20:00:00  \n",
       "10  7184345 2019-09-01 16:00:00  \n",
       "9   7184137 2019-09-01 12:00:00  \n",
       "8   7184042 2019-09-01 08:00:00  \n",
       "7   7184025 2019-09-01 04:00:00  \n",
       "6   7184008 2019-09-01 00:00:00  "
      ]
     },
     "execution_count": 31,
     "metadata": {},
     "output_type": "execute_result"
    }
   ],
   "source": [
    "sep_2019[mask]"
   ]
  },
  {
   "cell_type": "markdown",
   "id": "bea83082",
   "metadata": {},
   "source": [
    "population in defferent times: (e.g. in 24 hours)"
   ]
  },
  {
   "cell_type": "code",
   "execution_count": 33,
   "id": "886065f4",
   "metadata": {},
   "outputs": [
    {
     "data": {
      "text/plain": [
       "<AxesSubplot:xlabel='TIME', ylabel='ENTRIES'>"
      ]
     },
     "execution_count": 33,
     "metadata": {},
     "output_type": "execute_result"
    },
    {
     "data": {
      "image/png": "[encoded data removed]",
      "text/plain": [
       "<Figure size 1080x360 with 1 Axes>"
      ]
     },
     "metadata": {
      "needs_background": "light"
     },
     "output_type": "display_data"
    }
   ],
   "source": [
    "plt.figure(figsize=[15,5])\n",
    "sns.barplot(x='TIME', y='ENTRIES', data=sep_2019[mask])"
   ]
  },
  {
   "cell_type": "code",
   "execution_count": 59,
   "id": "cf2e5c9a",
   "metadata": {
    "scrolled": true
   },
   "outputs": [
    {
     "data": {
      "image/png": "[encoded data removed]",
      "text/plain": [
       "<Figure size 432x288 with 1 Axes>"
      ]
     },
     "metadata": {
      "needs_background": "light"
     },
     "output_type": "display_data"
    }
   ],
   "source": [
    "sns.barplot(x = 'TIME',y='ENTRIES',data=sep_2019[mask],palette = sns.color_palette(\"husl\", 6));\n",
    "sns.despine()"
   ]
  },
  {
   "cell_type": "code",
   "execution_count": 186,
   "id": "af074bb0",
   "metadata": {},
   "outputs": [],
   "source": [
    "sep_2019.sort_values([\"C/A\", \"UNIT\", \"SCP\", \"STATION\", \"DATE_TIME\"], inplace=True,  ascending=False)\n",
    "                         \n",
    "sep_2019.drop_duplicates(subset=[\"C/A\", \"UNIT\", \"SCP\", \"STATION\", \"DATE_TIME\"], inplace=True)"
   ]
  },
  {
   "cell_type": "code",
   "execution_count": 187,
   "id": "73255d3d",
   "metadata": {},
   "outputs": [
    {
     "data": {
      "text/html": [
       "<div>\n",
       "<style scoped>\n",
       "    .dataframe tbody tr th:only-of-type {\n",
       "        vertical-align: middle;\n",
       "    }\n",
       "\n",
       "    .dataframe tbody tr th {\n",
       "        vertical-align: top;\n",
       "    }\n",
       "\n",
       "    .dataframe thead th {\n",
       "        text-align: right;\n",
       "    }\n",
       "</style>\n",
       "<table border=\"1\" class=\"dataframe\">\n",
       "  <thead>\n",
       "    <tr style=\"text-align: right;\">\n",
       "      <th></th>\n",
       "      <th>C/A</th>\n",
       "      <th>UNIT</th>\n",
       "      <th>SCP</th>\n",
       "      <th>STATION</th>\n",
       "      <th>DATE_TIME</th>\n",
       "      <th>ENTRIES</th>\n",
       "    </tr>\n",
       "  </thead>\n",
       "  <tbody>\n",
       "    <tr>\n",
       "      <th>0</th>\n",
       "      <td>A002</td>\n",
       "      <td>R051</td>\n",
       "      <td>02-00-00</td>\n",
       "      <td>59 ST</td>\n",
       "      <td>2019-09-01 00:00:00</td>\n",
       "      <td>1</td>\n",
       "    </tr>\n",
       "    <tr>\n",
       "      <th>468762</th>\n",
       "      <td>R138</td>\n",
       "      <td>R293</td>\n",
       "      <td>00-03-04</td>\n",
       "      <td>34 ST-PENN STA</td>\n",
       "      <td>2019-09-17 02:00:00</td>\n",
       "      <td>1</td>\n",
       "    </tr>\n",
       "    <tr>\n",
       "      <th>468754</th>\n",
       "      <td>R138</td>\n",
       "      <td>R293</td>\n",
       "      <td>00-03-04</td>\n",
       "      <td>34 ST-PENN STA</td>\n",
       "      <td>2019-09-15 18:00:00</td>\n",
       "      <td>1</td>\n",
       "    </tr>\n",
       "    <tr>\n",
       "      <th>468755</th>\n",
       "      <td>R138</td>\n",
       "      <td>R293</td>\n",
       "      <td>00-03-04</td>\n",
       "      <td>34 ST-PENN STA</td>\n",
       "      <td>2019-09-15 22:00:00</td>\n",
       "      <td>1</td>\n",
       "    </tr>\n",
       "    <tr>\n",
       "      <th>468756</th>\n",
       "      <td>R138</td>\n",
       "      <td>R293</td>\n",
       "      <td>00-03-04</td>\n",
       "      <td>34 ST-PENN STA</td>\n",
       "      <td>2019-09-16 02:00:00</td>\n",
       "      <td>1</td>\n",
       "    </tr>\n",
       "    <tr>\n",
       "      <th>468757</th>\n",
       "      <td>R138</td>\n",
       "      <td>R293</td>\n",
       "      <td>00-03-04</td>\n",
       "      <td>34 ST-PENN STA</td>\n",
       "      <td>2019-09-16 06:00:00</td>\n",
       "      <td>1</td>\n",
       "    </tr>\n",
       "  </tbody>\n",
       "</table>\n",
       "</div>"
      ],
      "text/plain": [
       "         C/A  UNIT       SCP         STATION           DATE_TIME  ENTRIES\n",
       "0       A002  R051  02-00-00           59 ST 2019-09-01 00:00:00        1\n",
       "468762  R138  R293  00-03-04  34 ST-PENN STA 2019-09-17 02:00:00        1\n",
       "468754  R138  R293  00-03-04  34 ST-PENN STA 2019-09-15 18:00:00        1\n",
       "468755  R138  R293  00-03-04  34 ST-PENN STA 2019-09-15 22:00:00        1\n",
       "468756  R138  R293  00-03-04  34 ST-PENN STA 2019-09-16 02:00:00        1\n",
       "468757  R138  R293  00-03-04  34 ST-PENN STA 2019-09-16 06:00:00        1"
      ]
     },
     "execution_count": 187,
     "metadata": {},
     "output_type": "execute_result"
    }
   ],
   "source": [
    "(sep_2019\n",
    " .groupby([\"C/A\", \"UNIT\", \"SCP\", \"STATION\", \"DATE_TIME\"])  \n",
    " .ENTRIES.count()\n",
    " .reset_index()  \n",
    " .sort_values(\"ENTRIES\", ascending=False)).head(6)"
   ]
  },
  {
   "cell_type": "code",
   "execution_count": 188,
   "id": "83d168e1",
   "metadata": {},
   "outputs": [],
   "source": [
    "sep_2019 = sep_2019.drop([\"EXITS\", \"DESC\"], axis=1, errors=\"ignore\")"
   ]
  },
  {
   "cell_type": "code",
   "execution_count": 195,
   "id": "fa732abd",
   "metadata": {},
   "outputs": [
    {
     "data": {
      "text/plain": [
       "09/01/2019    29243\n",
       "09/02/2019    29283\n",
       "09/03/2019    29290\n",
       "09/04/2019    29366\n",
       "09/05/2019    29132\n",
       "09/06/2019    29106\n",
       "09/07/2019    25863\n",
       "09/08/2019    25754\n",
       "09/09/2019    24806\n",
       "09/10/2019    25933\n",
       "09/11/2019    25286\n",
       "09/12/2019    24289\n",
       "09/13/2019    24277\n",
       "09/14/2019    25244\n",
       "09/15/2019    25235\n",
       "09/16/2019    24971\n",
       "09/17/2019    24674\n",
       "09/18/2019    25159\n",
       "09/19/2019    24633\n",
       "09/20/2019    25635\n",
       "09/21/2019    23499\n",
       "09/22/2019    24916\n",
       "09/23/2019    26154\n",
       "09/24/2019    26110\n",
       "09/25/2019    25887\n",
       "09/26/2019    24080\n",
       "09/27/2019    25315\n",
       "Name: DATE, dtype: int64"
      ]
     },
     "execution_count": 195,
     "metadata": {},
     "output_type": "execute_result"
    }
   ],
   "source": [
    "sep_2019.DATE.value_counts().sort_index()"
   ]
  },
  {
   "cell_type": "code",
   "execution_count": 197,
   "id": "c6b62c75",
   "metadata": {},
   "outputs": [],
   "source": [
    "daily_sum_entries = sep_2019.groupby('DATE').sum('ENTRIES').sort_values('DATE')"
   ]
  },
  {
   "cell_type": "code",
   "execution_count": 198,
   "id": "8393e507",
   "metadata": {},
   "outputs": [],
   "source": [
    "# Get rid of the duplicate entry\n",
    "sep_2019.sort_values([\"C/A\", \"UNIT\", \"SCP\", \"STATION\", \"DATE_TIME\"], inplace=True, \\\n",
    "                          ascending=False)\n",
    "sep_2019.drop_duplicates(subset=[\"C/A\", \"UNIT\", \"SCP\", \"STATION\", \"DATE_TIME\"], inplace=True)\n",
    "\n"
   ]
  },
  {
   "cell_type": "code",
   "execution_count": 199,
   "id": "f000c3e9",
   "metadata": {},
   "outputs": [
    {
     "data": {
      "text/html": [
       "<div>\n",
       "<style scoped>\n",
       "    .dataframe tbody tr th:only-of-type {\n",
       "        vertical-align: middle;\n",
       "    }\n",
       "\n",
       "    .dataframe tbody tr th {\n",
       "        vertical-align: top;\n",
       "    }\n",
       "\n",
       "    .dataframe thead th {\n",
       "        text-align: right;\n",
       "    }\n",
       "</style>\n",
       "<table border=\"1\" class=\"dataframe\">\n",
       "  <thead>\n",
       "    <tr style=\"text-align: right;\">\n",
       "      <th></th>\n",
       "      <th>C/A</th>\n",
       "      <th>UNIT</th>\n",
       "      <th>SCP</th>\n",
       "      <th>STATION</th>\n",
       "      <th>DATE_TIME</th>\n",
       "      <th>ENTRIES</th>\n",
       "    </tr>\n",
       "  </thead>\n",
       "  <tbody>\n",
       "    <tr>\n",
       "      <th>0</th>\n",
       "      <td>A002</td>\n",
       "      <td>R051</td>\n",
       "      <td>02-00-00</td>\n",
       "      <td>59 ST</td>\n",
       "      <td>2019-09-01 00:00:00</td>\n",
       "      <td>1</td>\n",
       "    </tr>\n",
       "    <tr>\n",
       "      <th>468762</th>\n",
       "      <td>R138</td>\n",
       "      <td>R293</td>\n",
       "      <td>00-03-04</td>\n",
       "      <td>34 ST-PENN STA</td>\n",
       "      <td>2019-09-17 02:00:00</td>\n",
       "      <td>1</td>\n",
       "    </tr>\n",
       "    <tr>\n",
       "      <th>468754</th>\n",
       "      <td>R138</td>\n",
       "      <td>R293</td>\n",
       "      <td>00-03-04</td>\n",
       "      <td>34 ST-PENN STA</td>\n",
       "      <td>2019-09-15 18:00:00</td>\n",
       "      <td>1</td>\n",
       "    </tr>\n",
       "    <tr>\n",
       "      <th>468755</th>\n",
       "      <td>R138</td>\n",
       "      <td>R293</td>\n",
       "      <td>00-03-04</td>\n",
       "      <td>34 ST-PENN STA</td>\n",
       "      <td>2019-09-15 22:00:00</td>\n",
       "      <td>1</td>\n",
       "    </tr>\n",
       "    <tr>\n",
       "      <th>468756</th>\n",
       "      <td>R138</td>\n",
       "      <td>R293</td>\n",
       "      <td>00-03-04</td>\n",
       "      <td>34 ST-PENN STA</td>\n",
       "      <td>2019-09-16 02:00:00</td>\n",
       "      <td>1</td>\n",
       "    </tr>\n",
       "  </tbody>\n",
       "</table>\n",
       "</div>"
      ],
      "text/plain": [
       "         C/A  UNIT       SCP         STATION           DATE_TIME  ENTRIES\n",
       "0       A002  R051  02-00-00           59 ST 2019-09-01 00:00:00        1\n",
       "468762  R138  R293  00-03-04  34 ST-PENN STA 2019-09-17 02:00:00        1\n",
       "468754  R138  R293  00-03-04  34 ST-PENN STA 2019-09-15 18:00:00        1\n",
       "468755  R138  R293  00-03-04  34 ST-PENN STA 2019-09-15 22:00:00        1\n",
       "468756  R138  R293  00-03-04  34 ST-PENN STA 2019-09-16 02:00:00        1"
      ]
     },
     "execution_count": 199,
     "metadata": {},
     "output_type": "execute_result"
    }
   ],
   "source": [
    "(sep_2019\n",
    " .groupby([\"C/A\", \"UNIT\", \"SCP\", \"STATION\", \"DATE_TIME\"])\n",
    " .ENTRIES.count()\n",
    " .reset_index()\n",
    " .sort_values(\"ENTRIES\", ascending=False)).head(5)"
   ]
  },
  {
   "cell_type": "code",
   "execution_count": 202,
   "id": "7774a01e",
   "metadata": {},
   "outputs": [],
   "source": [
    "sep_2019 = sep_2019.drop([\"EXITS\", \"DESC\"], axis=1, errors=\"ignore\")"
   ]
  },
  {
   "cell_type": "code",
   "execution_count": 203,
   "id": "477a33a2",
   "metadata": {},
   "outputs": [
    {
     "data": {
      "text/html": [
       "<div>\n",
       "<style scoped>\n",
       "    .dataframe tbody tr th:only-of-type {\n",
       "        vertical-align: middle;\n",
       "    }\n",
       "\n",
       "    .dataframe tbody tr th {\n",
       "        vertical-align: top;\n",
       "    }\n",
       "\n",
       "    .dataframe thead th {\n",
       "        text-align: right;\n",
       "    }\n",
       "</style>\n",
       "<table border=\"1\" class=\"dataframe\">\n",
       "  <thead>\n",
       "    <tr style=\"text-align: right;\">\n",
       "      <th></th>\n",
       "      <th>C/A</th>\n",
       "      <th>UNIT</th>\n",
       "      <th>SCP</th>\n",
       "      <th>STATION</th>\n",
       "      <th>LINENAME</th>\n",
       "      <th>DIVISION</th>\n",
       "      <th>DATE</th>\n",
       "      <th>TIME</th>\n",
       "      <th>ENTRIES</th>\n",
       "      <th>DATE_TIME</th>\n",
       "    </tr>\n",
       "  </thead>\n",
       "  <tbody>\n",
       "    <tr>\n",
       "      <th>205335</th>\n",
       "      <td>TRAM2</td>\n",
       "      <td>R469</td>\n",
       "      <td>00-05-01</td>\n",
       "      <td>RIT-ROOSEVELT</td>\n",
       "      <td>R</td>\n",
       "      <td>RIT</td>\n",
       "      <td>09/27/2019</td>\n",
       "      <td>21:00:00</td>\n",
       "      <td>5554</td>\n",
       "      <td>2019-09-27 21:00:00</td>\n",
       "    </tr>\n",
       "    <tr>\n",
       "      <th>205334</th>\n",
       "      <td>TRAM2</td>\n",
       "      <td>R469</td>\n",
       "      <td>00-05-01</td>\n",
       "      <td>RIT-ROOSEVELT</td>\n",
       "      <td>R</td>\n",
       "      <td>RIT</td>\n",
       "      <td>09/27/2019</td>\n",
       "      <td>17:00:00</td>\n",
       "      <td>5554</td>\n",
       "      <td>2019-09-27 17:00:00</td>\n",
       "    </tr>\n",
       "    <tr>\n",
       "      <th>205333</th>\n",
       "      <td>TRAM2</td>\n",
       "      <td>R469</td>\n",
       "      <td>00-05-01</td>\n",
       "      <td>RIT-ROOSEVELT</td>\n",
       "      <td>R</td>\n",
       "      <td>RIT</td>\n",
       "      <td>09/27/2019</td>\n",
       "      <td>13:00:00</td>\n",
       "      <td>5554</td>\n",
       "      <td>2019-09-27 13:00:00</td>\n",
       "    </tr>\n",
       "    <tr>\n",
       "      <th>205332</th>\n",
       "      <td>TRAM2</td>\n",
       "      <td>R469</td>\n",
       "      <td>00-05-01</td>\n",
       "      <td>RIT-ROOSEVELT</td>\n",
       "      <td>R</td>\n",
       "      <td>RIT</td>\n",
       "      <td>09/27/2019</td>\n",
       "      <td>09:00:00</td>\n",
       "      <td>5554</td>\n",
       "      <td>2019-09-27 09:00:00</td>\n",
       "    </tr>\n",
       "    <tr>\n",
       "      <th>205331</th>\n",
       "      <td>TRAM2</td>\n",
       "      <td>R469</td>\n",
       "      <td>00-05-01</td>\n",
       "      <td>RIT-ROOSEVELT</td>\n",
       "      <td>R</td>\n",
       "      <td>RIT</td>\n",
       "      <td>09/27/2019</td>\n",
       "      <td>05:00:00</td>\n",
       "      <td>5554</td>\n",
       "      <td>2019-09-27 05:00:00</td>\n",
       "    </tr>\n",
       "  </tbody>\n",
       "</table>\n",
       "</div>"
      ],
      "text/plain": [
       "          C/A  UNIT       SCP        STATION LINENAME DIVISION        DATE  \\\n",
       "205335  TRAM2  R469  00-05-01  RIT-ROOSEVELT        R      RIT  09/27/2019   \n",
       "205334  TRAM2  R469  00-05-01  RIT-ROOSEVELT        R      RIT  09/27/2019   \n",
       "205333  TRAM2  R469  00-05-01  RIT-ROOSEVELT        R      RIT  09/27/2019   \n",
       "205332  TRAM2  R469  00-05-01  RIT-ROOSEVELT        R      RIT  09/27/2019   \n",
       "205331  TRAM2  R469  00-05-01  RIT-ROOSEVELT        R      RIT  09/27/2019   \n",
       "\n",
       "            TIME  ENTRIES           DATE_TIME  \n",
       "205335  21:00:00     5554 2019-09-27 21:00:00  \n",
       "205334  17:00:00     5554 2019-09-27 17:00:00  \n",
       "205333  13:00:00     5554 2019-09-27 13:00:00  \n",
       "205332  09:00:00     5554 2019-09-27 09:00:00  \n",
       "205331  05:00:00     5554 2019-09-27 05:00:00  "
      ]
     },
     "execution_count": 203,
     "metadata": {},
     "output_type": "execute_result"
    }
   ],
   "source": [
    "sep_2019.head()"
   ]
  },
  {
   "cell_type": "code",
   "execution_count": 204,
   "id": "3d35fbc7",
   "metadata": {},
   "outputs": [],
   "source": [
    "sep_2019_daily = sep_2019.groupby([\"C/A\", \"UNIT\", \"SCP\", \"STATION\", \"DATE\"])\\\n",
    ".ENTRIES.first().reset_index()"
   ]
  },
  {
   "cell_type": "code",
   "execution_count": 205,
   "id": "41be7a49",
   "metadata": {},
   "outputs": [
    {
     "data": {
      "text/html": [
       "<div>\n",
       "<style scoped>\n",
       "    .dataframe tbody tr th:only-of-type {\n",
       "        vertical-align: middle;\n",
       "    }\n",
       "\n",
       "    .dataframe tbody tr th {\n",
       "        vertical-align: top;\n",
       "    }\n",
       "\n",
       "    .dataframe thead th {\n",
       "        text-align: right;\n",
       "    }\n",
       "</style>\n",
       "<table border=\"1\" class=\"dataframe\">\n",
       "  <thead>\n",
       "    <tr style=\"text-align: right;\">\n",
       "      <th></th>\n",
       "      <th>C/A</th>\n",
       "      <th>UNIT</th>\n",
       "      <th>SCP</th>\n",
       "      <th>STATION</th>\n",
       "      <th>DATE</th>\n",
       "      <th>ENTRIES</th>\n",
       "    </tr>\n",
       "  </thead>\n",
       "  <tbody>\n",
       "    <tr>\n",
       "      <th>0</th>\n",
       "      <td>A002</td>\n",
       "      <td>R051</td>\n",
       "      <td>02-00-00</td>\n",
       "      <td>59 ST</td>\n",
       "      <td>09/01/2019</td>\n",
       "      <td>7184559</td>\n",
       "    </tr>\n",
       "    <tr>\n",
       "      <th>1</th>\n",
       "      <td>A002</td>\n",
       "      <td>R051</td>\n",
       "      <td>02-00-00</td>\n",
       "      <td>59 ST</td>\n",
       "      <td>09/02/2019</td>\n",
       "      <td>7185132</td>\n",
       "    </tr>\n",
       "    <tr>\n",
       "      <th>2</th>\n",
       "      <td>A002</td>\n",
       "      <td>R051</td>\n",
       "      <td>02-00-00</td>\n",
       "      <td>59 ST</td>\n",
       "      <td>09/03/2019</td>\n",
       "      <td>7186355</td>\n",
       "    </tr>\n",
       "    <tr>\n",
       "      <th>3</th>\n",
       "      <td>A002</td>\n",
       "      <td>R051</td>\n",
       "      <td>02-00-00</td>\n",
       "      <td>59 ST</td>\n",
       "      <td>09/04/2019</td>\n",
       "      <td>7187672</td>\n",
       "    </tr>\n",
       "    <tr>\n",
       "      <th>4</th>\n",
       "      <td>A002</td>\n",
       "      <td>R051</td>\n",
       "      <td>02-00-00</td>\n",
       "      <td>59 ST</td>\n",
       "      <td>09/05/2019</td>\n",
       "      <td>7189025</td>\n",
       "    </tr>\n",
       "  </tbody>\n",
       "</table>\n",
       "</div>"
      ],
      "text/plain": [
       "    C/A  UNIT       SCP STATION        DATE  ENTRIES\n",
       "0  A002  R051  02-00-00   59 ST  09/01/2019  7184559\n",
       "1  A002  R051  02-00-00   59 ST  09/02/2019  7185132\n",
       "2  A002  R051  02-00-00   59 ST  09/03/2019  7186355\n",
       "3  A002  R051  02-00-00   59 ST  09/04/2019  7187672\n",
       "4  A002  R051  02-00-00   59 ST  09/05/2019  7189025"
      ]
     },
     "execution_count": 205,
     "metadata": {},
     "output_type": "execute_result"
    }
   ],
   "source": [
    "sep_2019_daily.head()"
   ]
  },
  {
   "cell_type": "code",
   "execution_count": 206,
   "id": "33b44ba4",
   "metadata": {},
   "outputs": [
    {
     "name": "stderr",
     "output_type": "stream",
     "text": [
      "/anaconda3/lib/python3.7/site-packages/ipykernel_launcher.py:2: FutureWarning: Indexing with multiple keys (implicitly converted to a tuple of keys) will be deprecated, use a list instead.\n",
      "  \n"
     ]
    }
   ],
   "source": [
    "sep_2019_daily[[\"PREV_DATE\", \"PREV_ENTRIES\"]] = (sep_2019_daily\n",
    "                                                       .groupby([\"C/A\", \"UNIT\", \"SCP\", \"STATION\"])[\"DATE\", \"ENTRIES\"]\n",
    "                                                       .transform(lambda grp: grp.shift(1)))"
   ]
  },
  {
   "cell_type": "code",
   "execution_count": 207,
   "id": "3c616af9",
   "metadata": {},
   "outputs": [],
   "source": [
    "# Drop the rows for first date\n",
    "sep_2019_daily.dropna(subset=[\"PREV_DATE\"], axis=0, inplace=True)"
   ]
  },
  {
   "cell_type": "code",
   "execution_count": 208,
   "id": "4951d2c1",
   "metadata": {},
   "outputs": [
    {
     "name": "stdout",
     "output_type": "stream",
     "text": [
      "12 6170034.0\n",
      "111 1599317.0\n",
      "460501 6804909.0\n",
      "73 6697765.0\n",
      "875478837 775219651.0\n",
      "590597 9156558.0\n",
      "40 2728627.0\n",
      "94 4283110.0\n",
      "98 1478936.0\n",
      "126 6053205.0\n",
      "24 2781046.0\n",
      "721441460 2880424.0\n",
      "14 4584512.0\n",
      "6817688 3602382.0\n",
      "401 3071806.0\n",
      "1508505 4084.0\n",
      "483 4777140.0\n",
      "102459350 210849.0\n",
      "6293 22554699.0\n",
      "190 1449873.0\n",
      "569320809 778114.0\n",
      "33601225 187583.0\n",
      "8 3318401.0\n",
      "5 2013355755.0\n",
      "4450 3673993.0\n",
      "1534 991539550.0\n"
     ]
    }
   ],
   "source": [
    "def get_daily_counts(row, max_counter):\n",
    "    counter = row[\"ENTRIES\"] - row[\"PREV_ENTRIES\"]\n",
    "    if counter < 0:\n",
    "        counter = -counter\n",
    "    if counter > max_counter:\n",
    "        print(row[\"ENTRIES\"], row[\"PREV_ENTRIES\"])\n",
    "        return 0\n",
    "    return counter\n",
    "\n",
    "# If counter is > 1 million, then the counter might have been reset.  \n",
    "# Just set it to zero as different counters have different cycle limits\n",
    "sep_2019_daily[\"DAILY_ENTRIES\"] = sep_2019_daily.apply(get_daily_counts, axis=1, max_counter=1000000) "
   ]
  },
  {
   "cell_type": "code",
   "execution_count": 209,
   "id": "cde580c3",
   "metadata": {
    "scrolled": true
   },
   "outputs": [
    {
     "data": {
      "text/plain": [
       "<AxesSubplot:xlabel='DATE', ylabel='DAILY_ENTRIES'>"
      ]
     },
     "execution_count": 209,
     "metadata": {},
     "output_type": "execute_result"
    },
    {
     "data": {
      "image/png": "[encoded data removed]",
      "text/plain": [
       "<Figure size 2160x288 with 1 Axes>"
      ]
     },
     "metadata": {},
     "output_type": "display_data"
    }
   ],
   "source": [
    "plt.figure(figsize=[30,4])\n",
    "sns.barplot(x='DATE', y='DAILY_ENTRIES', data=sep_2019_daily)"
   ]
  },
  {
   "cell_type": "code",
   "execution_count": null,
   "id": "9b3a44ed",
   "metadata": {},
   "outputs": [],
   "source": []
  },
  {
   "cell_type": "code",
   "execution_count": 211,
   "id": "719e97e3",
   "metadata": {},
   "outputs": [
    {
     "data": {
      "text/html": [
       "<div>\n",
       "<style scoped>\n",
       "    .dataframe tbody tr th:only-of-type {\n",
       "        vertical-align: middle;\n",
       "    }\n",
       "\n",
       "    .dataframe tbody tr th {\n",
       "        vertical-align: top;\n",
       "    }\n",
       "\n",
       "    .dataframe thead th {\n",
       "        text-align: right;\n",
       "    }\n",
       "</style>\n",
       "<table border=\"1\" class=\"dataframe\">\n",
       "  <thead>\n",
       "    <tr style=\"text-align: right;\">\n",
       "      <th></th>\n",
       "      <th>STATION</th>\n",
       "      <th>DATE</th>\n",
       "      <th>DAILY_ENTRIES</th>\n",
       "    </tr>\n",
       "  </thead>\n",
       "  <tbody>\n",
       "    <tr>\n",
       "      <th>0</th>\n",
       "      <td>1 AV</td>\n",
       "      <td>09/02/2019</td>\n",
       "      <td>3733.0</td>\n",
       "    </tr>\n",
       "    <tr>\n",
       "      <th>1</th>\n",
       "      <td>1 AV</td>\n",
       "      <td>09/03/2019</td>\n",
       "      <td>14574.0</td>\n",
       "    </tr>\n",
       "    <tr>\n",
       "      <th>2</th>\n",
       "      <td>1 AV</td>\n",
       "      <td>09/04/2019</td>\n",
       "      <td>16428.0</td>\n",
       "    </tr>\n",
       "    <tr>\n",
       "      <th>3</th>\n",
       "      <td>1 AV</td>\n",
       "      <td>09/05/2019</td>\n",
       "      <td>18734.0</td>\n",
       "    </tr>\n",
       "    <tr>\n",
       "      <th>4</th>\n",
       "      <td>1 AV</td>\n",
       "      <td>09/06/2019</td>\n",
       "      <td>19451.0</td>\n",
       "    </tr>\n",
       "  </tbody>\n",
       "</table>\n",
       "</div>"
      ],
      "text/plain": [
       "  STATION        DATE  DAILY_ENTRIES\n",
       "0    1 AV  09/02/2019         3733.0\n",
       "1    1 AV  09/03/2019        14574.0\n",
       "2    1 AV  09/04/2019        16428.0\n",
       "3    1 AV  09/05/2019        18734.0\n",
       "4    1 AV  09/06/2019        19451.0"
      ]
     },
     "execution_count": 211,
     "metadata": {},
     "output_type": "execute_result"
    }
   ],
   "source": [
    "station_daily_2019 = sep_2019_daily.groupby([\"STATION\", \"DATE\"])[['DAILY_ENTRIES']].sum().reset_index()\n",
    "station_daily_2019.head()"
   ]
  },
  {
   "cell_type": "code",
   "execution_count": 212,
   "id": "1d5db2d9",
   "metadata": {},
   "outputs": [
    {
     "data": {
      "text/html": [
       "<div>\n",
       "<style scoped>\n",
       "    .dataframe tbody tr th:only-of-type {\n",
       "        vertical-align: middle;\n",
       "    }\n",
       "\n",
       "    .dataframe tbody tr th {\n",
       "        vertical-align: top;\n",
       "    }\n",
       "\n",
       "    .dataframe thead th {\n",
       "        text-align: right;\n",
       "    }\n",
       "</style>\n",
       "<table border=\"1\" class=\"dataframe\">\n",
       "  <thead>\n",
       "    <tr style=\"text-align: right;\">\n",
       "      <th></th>\n",
       "      <th>STATION</th>\n",
       "      <th>DATE</th>\n",
       "      <th>DAILY_ENTRIES</th>\n",
       "    </tr>\n",
       "  </thead>\n",
       "  <tbody>\n",
       "    <tr>\n",
       "      <th>6113</th>\n",
       "      <td>HARLEM 148 ST</td>\n",
       "      <td>09/02/2019</td>\n",
       "      <td>1628.0</td>\n",
       "    </tr>\n",
       "    <tr>\n",
       "      <th>6114</th>\n",
       "      <td>HARLEM 148 ST</td>\n",
       "      <td>09/03/2019</td>\n",
       "      <td>3393.0</td>\n",
       "    </tr>\n",
       "    <tr>\n",
       "      <th>6115</th>\n",
       "      <td>HARLEM 148 ST</td>\n",
       "      <td>09/04/2019</td>\n",
       "      <td>3551.0</td>\n",
       "    </tr>\n",
       "    <tr>\n",
       "      <th>6116</th>\n",
       "      <td>HARLEM 148 ST</td>\n",
       "      <td>09/05/2019</td>\n",
       "      <td>3709.0</td>\n",
       "    </tr>\n",
       "    <tr>\n",
       "      <th>6117</th>\n",
       "      <td>HARLEM 148 ST</td>\n",
       "      <td>09/06/2019</td>\n",
       "      <td>3912.0</td>\n",
       "    </tr>\n",
       "  </tbody>\n",
       "</table>\n",
       "</div>"
      ],
      "text/plain": [
       "            STATION        DATE  DAILY_ENTRIES\n",
       "6113  HARLEM 148 ST  09/02/2019         1628.0\n",
       "6114  HARLEM 148 ST  09/03/2019         3393.0\n",
       "6115  HARLEM 148 ST  09/04/2019         3551.0\n",
       "6116  HARLEM 148 ST  09/05/2019         3709.0\n",
       "6117  HARLEM 148 ST  09/06/2019         3912.0"
      ]
     },
     "execution_count": 212,
     "metadata": {},
     "output_type": "execute_result"
    }
   ],
   "source": [
    "station_daily_harlem_2019 = station_daily_2019[station_daily_2019['STATION'] == 'HARLEM 148 ST']\n",
    "station_daily_harlem_2019.head()"
   ]
  },
  {
   "cell_type": "code",
   "execution_count": 213,
   "id": "ebc2b048",
   "metadata": {},
   "outputs": [
    {
     "data": {
      "text/plain": [
       "Text(0.5, 1.0, 'Daily Entries for HARLEM 148 ST Station')"
      ]
     },
     "execution_count": 213,
     "metadata": {},
     "output_type": "execute_result"
    },
    {
     "data": {
      "image/png": "[encoded data removed]",
      "text/plain": [
       "<Figure size 1080x360 with 1 Axes>"
      ]
     },
     "metadata": {},
     "output_type": "display_data"
    }
   ],
   "source": [
    "plt.figure(figsize=(15,5))\n",
    "plt.plot(station_daily_harlem_2019['DATE'], station_daily_harlem_2019['DAILY_ENTRIES'])\n",
    "plt.ylabel('# of Entries')\n",
    "plt.xlabel('Date')\n",
    "plt.xticks(rotation=45)\n",
    "plt.title('Daily Entries for HARLEM 148 ST Station')"
   ]
  },
  {
   "cell_type": "code",
   "execution_count": 251,
   "id": "7b3143ef",
   "metadata": {},
   "outputs": [
    {
     "data": {
      "image/png": "[encoded data removed]",
      "text/plain": [
       "<Figure size 1152x288 with 1 Axes>"
      ]
     },
     "metadata": {},
     "output_type": "display_data"
    }
   ],
   "source": [
    "plt.figure(figsize=[16,4])\n",
    "sns.barplot(x='DATE', y='DAILY_ENTRIES', data=station_daily_harlem_2019)\n",
    "\n",
    "#plt.ylabel('# of Entries')\n",
    "#plt.xlabel('Date')\n",
    "plt.xticks(rotation=45)\n",
    "plt.title('Daily Entries for HARLEM 148 ST Station')\n",
    "plt.savefig('Daily_Entries_HARLEM_Station_2019.png')\n"
   ]
  },
  {
   "cell_type": "code",
   "execution_count": null,
   "id": "99889e9c",
   "metadata": {},
   "outputs": [],
   "source": []
  },
  {
   "cell_type": "code",
   "execution_count": null,
   "id": "981c119a",
   "metadata": {},
   "outputs": [],
   "source": []
  },
  {
   "cell_type": "code",
   "execution_count": null,
   "id": "b30ab601",
   "metadata": {},
   "outputs": [],
   "source": []
  },
  {
   "cell_type": "code",
   "execution_count": null,
   "id": "eaa883d7",
   "metadata": {},
   "outputs": [],
   "source": []
  },
  {
   "cell_type": "code",
   "execution_count": null,
   "id": "a446f5d4",
   "metadata": {},
   "outputs": [],
   "source": []
  },
  {
   "cell_type": "markdown",
   "id": "422db4f5",
   "metadata": {},
   "source": [
    "### September 2020"
   ]
  },
  {
   "cell_type": "code",
   "execution_count": 31,
   "id": "7622ec24",
   "metadata": {},
   "outputs": [],
   "source": [
    "# Source: http://web.mta.info/developers/turnstile.html\n",
    "def get_data(week_nums):\n",
    "    url = \"http://web.mta.info/developers/data/nyct/turnstile/turnstile_{}.txt\"\n",
    "    dfs = []\n",
    "    for week_num in week_nums:\n",
    "        file_url = url.format(week_num)\n",
    "        dfs.append(pd.read_csv(file_url))\n",
    "    return pd.concat(dfs)\n",
    "        \n",
    "week_nums = [200905, 200912, 200919, 200926]\n",
    "turnstiles_df2 = get_data(week_nums)"
   ]
  },
  {
   "cell_type": "code",
   "execution_count": 32,
   "id": "5fb01877",
   "metadata": {},
   "outputs": [],
   "source": [
    "sep_2020 = turnstiles_df2"
   ]
  },
  {
   "cell_type": "code",
   "execution_count": 33,
   "id": "96d093c6",
   "metadata": {},
   "outputs": [
    {
     "data": {
      "text/plain": [
       "(838127, 11)"
      ]
     },
     "execution_count": 33,
     "metadata": {},
     "output_type": "execute_result"
    }
   ],
   "source": [
    "sep_2020.shape"
   ]
  },
  {
   "cell_type": "code",
   "execution_count": 34,
   "id": "a8d29f89",
   "metadata": {},
   "outputs": [
    {
     "data": {
      "text/plain": [
       "Index(['C/A', 'UNIT', 'SCP', 'STATION', 'LINENAME', 'DIVISION', 'DATE', 'TIME',\n",
       "       'DESC', 'ENTRIES', 'EXITS'],\n",
       "      dtype='object')"
      ]
     },
     "execution_count": 34,
     "metadata": {},
     "output_type": "execute_result"
    }
   ],
   "source": [
    "sep_2020.columns = [column.strip() for column in sep_2020.columns]\n",
    "sep_2020.columns"
   ]
  },
  {
   "cell_type": "code",
   "execution_count": 35,
   "id": "2fba81cd",
   "metadata": {},
   "outputs": [
    {
     "data": {
      "text/html": [
       "<div>\n",
       "<style scoped>\n",
       "    .dataframe tbody tr th:only-of-type {\n",
       "        vertical-align: middle;\n",
       "    }\n",
       "\n",
       "    .dataframe tbody tr th {\n",
       "        vertical-align: top;\n",
       "    }\n",
       "\n",
       "    .dataframe thead th {\n",
       "        text-align: right;\n",
       "    }\n",
       "</style>\n",
       "<table border=\"1\" class=\"dataframe\">\n",
       "  <thead>\n",
       "    <tr style=\"text-align: right;\">\n",
       "      <th></th>\n",
       "      <th>C/A</th>\n",
       "      <th>UNIT</th>\n",
       "      <th>SCP</th>\n",
       "      <th>STATION</th>\n",
       "      <th>LINENAME</th>\n",
       "      <th>DIVISION</th>\n",
       "      <th>DATE</th>\n",
       "      <th>TIME</th>\n",
       "      <th>DESC</th>\n",
       "      <th>ENTRIES</th>\n",
       "      <th>EXITS</th>\n",
       "    </tr>\n",
       "  </thead>\n",
       "  <tbody>\n",
       "    <tr>\n",
       "      <th>0</th>\n",
       "      <td>A002</td>\n",
       "      <td>R051</td>\n",
       "      <td>02-00-00</td>\n",
       "      <td>59 ST</td>\n",
       "      <td>NQR456W</td>\n",
       "      <td>BMT</td>\n",
       "      <td>08/29/2020</td>\n",
       "      <td>00:00:00</td>\n",
       "      <td>REGULAR</td>\n",
       "      <td>7450785</td>\n",
       "      <td>2533372</td>\n",
       "    </tr>\n",
       "    <tr>\n",
       "      <th>1</th>\n",
       "      <td>A002</td>\n",
       "      <td>R051</td>\n",
       "      <td>02-00-00</td>\n",
       "      <td>59 ST</td>\n",
       "      <td>NQR456W</td>\n",
       "      <td>BMT</td>\n",
       "      <td>08/29/2020</td>\n",
       "      <td>04:00:00</td>\n",
       "      <td>REGULAR</td>\n",
       "      <td>7450788</td>\n",
       "      <td>2533375</td>\n",
       "    </tr>\n",
       "    <tr>\n",
       "      <th>2</th>\n",
       "      <td>A002</td>\n",
       "      <td>R051</td>\n",
       "      <td>02-00-00</td>\n",
       "      <td>59 ST</td>\n",
       "      <td>NQR456W</td>\n",
       "      <td>BMT</td>\n",
       "      <td>08/29/2020</td>\n",
       "      <td>08:00:00</td>\n",
       "      <td>REGULAR</td>\n",
       "      <td>7450798</td>\n",
       "      <td>2533391</td>\n",
       "    </tr>\n",
       "  </tbody>\n",
       "</table>\n",
       "</div>"
      ],
      "text/plain": [
       "    C/A  UNIT       SCP STATION LINENAME DIVISION        DATE      TIME  \\\n",
       "0  A002  R051  02-00-00   59 ST  NQR456W      BMT  08/29/2020  00:00:00   \n",
       "1  A002  R051  02-00-00   59 ST  NQR456W      BMT  08/29/2020  04:00:00   \n",
       "2  A002  R051  02-00-00   59 ST  NQR456W      BMT  08/29/2020  08:00:00   \n",
       "\n",
       "      DESC  ENTRIES    EXITS  \n",
       "0  REGULAR  7450785  2533372  \n",
       "1  REGULAR  7450788  2533375  \n",
       "2  REGULAR  7450798  2533391  "
      ]
     },
     "execution_count": 35,
     "metadata": {},
     "output_type": "execute_result"
    }
   ],
   "source": [
    "sep_2020.head(3)"
   ]
  },
  {
   "cell_type": "code",
   "execution_count": 41,
   "id": "57ccf372",
   "metadata": {},
   "outputs": [],
   "source": [
    "sep_2020[\"DATE_TIME\"] = pd.to_datetime(sep_2020.DATE + \" \" + sep_2020.TIME, format=\"%m/%d/%Y %H:%M:%S\")"
   ]
  },
  {
   "cell_type": "code",
   "execution_count": 42,
   "id": "3286c5e1",
   "metadata": {},
   "outputs": [],
   "source": [
    "sep_2020.sort_values([\"C/A\", \"UNIT\", \"SCP\", \"STATION\", \"DATE_TIME\"], inplace=True,  ascending=False)\n",
    "                         \n",
    "sep_2020.drop_duplicates(subset=[\"C/A\", \"UNIT\", \"SCP\", \"STATION\", \"DATE_TIME\"], inplace=True)"
   ]
  },
  {
   "cell_type": "code",
   "execution_count": 43,
   "id": "11787dff",
   "metadata": {},
   "outputs": [
    {
     "data": {
      "text/html": [
       "<div>\n",
       "<style scoped>\n",
       "    .dataframe tbody tr th:only-of-type {\n",
       "        vertical-align: middle;\n",
       "    }\n",
       "\n",
       "    .dataframe tbody tr th {\n",
       "        vertical-align: top;\n",
       "    }\n",
       "\n",
       "    .dataframe thead th {\n",
       "        text-align: right;\n",
       "    }\n",
       "</style>\n",
       "<table border=\"1\" class=\"dataframe\">\n",
       "  <thead>\n",
       "    <tr style=\"text-align: right;\">\n",
       "      <th></th>\n",
       "      <th>C/A</th>\n",
       "      <th>UNIT</th>\n",
       "      <th>SCP</th>\n",
       "      <th>STATION</th>\n",
       "      <th>DATE_TIME</th>\n",
       "      <th>ENTRIES</th>\n",
       "    </tr>\n",
       "  </thead>\n",
       "  <tbody>\n",
       "    <tr>\n",
       "      <th>0</th>\n",
       "      <td>A002</td>\n",
       "      <td>R051</td>\n",
       "      <td>02-00-00</td>\n",
       "      <td>59 ST</td>\n",
       "      <td>2020-08-29 00:00:00</td>\n",
       "      <td>1</td>\n",
       "    </tr>\n",
       "    <tr>\n",
       "      <th>558745</th>\n",
       "      <td>R135</td>\n",
       "      <td>R031</td>\n",
       "      <td>01-00-03</td>\n",
       "      <td>34 ST-PENN STA</td>\n",
       "      <td>2020-08-31 16:00:00</td>\n",
       "      <td>1</td>\n",
       "    </tr>\n",
       "    <tr>\n",
       "      <th>558735</th>\n",
       "      <td>R135</td>\n",
       "      <td>R031</td>\n",
       "      <td>01-00-03</td>\n",
       "      <td>34 ST-PENN STA</td>\n",
       "      <td>2020-08-30 00:00:00</td>\n",
       "      <td>1</td>\n",
       "    </tr>\n",
       "    <tr>\n",
       "      <th>558736</th>\n",
       "      <td>R135</td>\n",
       "      <td>R031</td>\n",
       "      <td>01-00-03</td>\n",
       "      <td>34 ST-PENN STA</td>\n",
       "      <td>2020-08-30 04:00:00</td>\n",
       "      <td>1</td>\n",
       "    </tr>\n",
       "    <tr>\n",
       "      <th>558737</th>\n",
       "      <td>R135</td>\n",
       "      <td>R031</td>\n",
       "      <td>01-00-03</td>\n",
       "      <td>34 ST-PENN STA</td>\n",
       "      <td>2020-08-30 08:00:00</td>\n",
       "      <td>1</td>\n",
       "    </tr>\n",
       "    <tr>\n",
       "      <th>558738</th>\n",
       "      <td>R135</td>\n",
       "      <td>R031</td>\n",
       "      <td>01-00-03</td>\n",
       "      <td>34 ST-PENN STA</td>\n",
       "      <td>2020-08-30 12:00:00</td>\n",
       "      <td>1</td>\n",
       "    </tr>\n",
       "  </tbody>\n",
       "</table>\n",
       "</div>"
      ],
      "text/plain": [
       "         C/A  UNIT       SCP         STATION           DATE_TIME  ENTRIES\n",
       "0       A002  R051  02-00-00           59 ST 2020-08-29 00:00:00        1\n",
       "558745  R135  R031  01-00-03  34 ST-PENN STA 2020-08-31 16:00:00        1\n",
       "558735  R135  R031  01-00-03  34 ST-PENN STA 2020-08-30 00:00:00        1\n",
       "558736  R135  R031  01-00-03  34 ST-PENN STA 2020-08-30 04:00:00        1\n",
       "558737  R135  R031  01-00-03  34 ST-PENN STA 2020-08-30 08:00:00        1\n",
       "558738  R135  R031  01-00-03  34 ST-PENN STA 2020-08-30 12:00:00        1"
      ]
     },
     "execution_count": 43,
     "metadata": {},
     "output_type": "execute_result"
    }
   ],
   "source": [
    "(sep_2020\n",
    " .groupby([\"C/A\", \"UNIT\", \"SCP\", \"STATION\", \"DATE_TIME\"])  \n",
    " .ENTRIES.count()\n",
    " .reset_index()  \n",
    " .sort_values(\"ENTRIES\", ascending=False)).head(6)"
   ]
  },
  {
   "cell_type": "code",
   "execution_count": 44,
   "id": "debb2c75",
   "metadata": {},
   "outputs": [],
   "source": [
    "sep_2020 = sep_2020.drop([\"EXITS\", \"DESC\"], axis=1, errors=\"ignore\")"
   ]
  },
  {
   "cell_type": "code",
   "execution_count": 62,
   "id": "bef58578",
   "metadata": {},
   "outputs": [],
   "source": [
    "sep_2020 = sep_2020.drop(sep_2020[sep_2020['DATE'] == '08/31/2020'].index)"
   ]
  },
  {
   "cell_type": "code",
   "execution_count": 65,
   "id": "238be0af",
   "metadata": {},
   "outputs": [],
   "source": [
    "sep_2020 = sep_2020.drop(sep_2020[sep_2020['DATE'] == '08/30/2020'].index)"
   ]
  },
  {
   "cell_type": "code",
   "execution_count": 66,
   "id": "5717ca44",
   "metadata": {},
   "outputs": [],
   "source": [
    "sep_2020 = sep_2020.drop(sep_2020[sep_2020['DATE'] == '08/29/2020'].index)"
   ]
  },
  {
   "cell_type": "code",
   "execution_count": 67,
   "id": "8bf551da",
   "metadata": {},
   "outputs": [
    {
     "data": {
      "text/html": [
       "<div>\n",
       "<style scoped>\n",
       "    .dataframe tbody tr th:only-of-type {\n",
       "        vertical-align: middle;\n",
       "    }\n",
       "\n",
       "    .dataframe tbody tr th {\n",
       "        vertical-align: top;\n",
       "    }\n",
       "\n",
       "    .dataframe thead th {\n",
       "        text-align: right;\n",
       "    }\n",
       "</style>\n",
       "<table border=\"1\" class=\"dataframe\">\n",
       "  <thead>\n",
       "    <tr style=\"text-align: right;\">\n",
       "      <th></th>\n",
       "      <th>C/A</th>\n",
       "      <th>UNIT</th>\n",
       "      <th>SCP</th>\n",
       "      <th>STATION</th>\n",
       "      <th>LINENAME</th>\n",
       "      <th>DIVISION</th>\n",
       "      <th>DATE</th>\n",
       "      <th>TIME</th>\n",
       "      <th>ENTRIES</th>\n",
       "      <th>DATE_TIME</th>\n",
       "    </tr>\n",
       "  </thead>\n",
       "  <tbody>\n",
       "    <tr>\n",
       "      <th>209829</th>\n",
       "      <td>TRAM2</td>\n",
       "      <td>R469</td>\n",
       "      <td>00-05-01</td>\n",
       "      <td>RIT-ROOSEVELT</td>\n",
       "      <td>R</td>\n",
       "      <td>RIT</td>\n",
       "      <td>09/25/2020</td>\n",
       "      <td>21:00:00</td>\n",
       "      <td>5554</td>\n",
       "      <td>2020-09-25 21:00:00</td>\n",
       "    </tr>\n",
       "    <tr>\n",
       "      <th>209828</th>\n",
       "      <td>TRAM2</td>\n",
       "      <td>R469</td>\n",
       "      <td>00-05-01</td>\n",
       "      <td>RIT-ROOSEVELT</td>\n",
       "      <td>R</td>\n",
       "      <td>RIT</td>\n",
       "      <td>09/25/2020</td>\n",
       "      <td>17:00:00</td>\n",
       "      <td>5554</td>\n",
       "      <td>2020-09-25 17:00:00</td>\n",
       "    </tr>\n",
       "    <tr>\n",
       "      <th>209827</th>\n",
       "      <td>TRAM2</td>\n",
       "      <td>R469</td>\n",
       "      <td>00-05-01</td>\n",
       "      <td>RIT-ROOSEVELT</td>\n",
       "      <td>R</td>\n",
       "      <td>RIT</td>\n",
       "      <td>09/25/2020</td>\n",
       "      <td>13:00:00</td>\n",
       "      <td>5554</td>\n",
       "      <td>2020-09-25 13:00:00</td>\n",
       "    </tr>\n",
       "    <tr>\n",
       "      <th>209826</th>\n",
       "      <td>TRAM2</td>\n",
       "      <td>R469</td>\n",
       "      <td>00-05-01</td>\n",
       "      <td>RIT-ROOSEVELT</td>\n",
       "      <td>R</td>\n",
       "      <td>RIT</td>\n",
       "      <td>09/25/2020</td>\n",
       "      <td>09:00:00</td>\n",
       "      <td>5554</td>\n",
       "      <td>2020-09-25 09:00:00</td>\n",
       "    </tr>\n",
       "    <tr>\n",
       "      <th>209825</th>\n",
       "      <td>TRAM2</td>\n",
       "      <td>R469</td>\n",
       "      <td>00-05-01</td>\n",
       "      <td>RIT-ROOSEVELT</td>\n",
       "      <td>R</td>\n",
       "      <td>RIT</td>\n",
       "      <td>09/25/2020</td>\n",
       "      <td>05:00:00</td>\n",
       "      <td>5554</td>\n",
       "      <td>2020-09-25 05:00:00</td>\n",
       "    </tr>\n",
       "  </tbody>\n",
       "</table>\n",
       "</div>"
      ],
      "text/plain": [
       "          C/A  UNIT       SCP        STATION LINENAME DIVISION        DATE  \\\n",
       "209829  TRAM2  R469  00-05-01  RIT-ROOSEVELT        R      RIT  09/25/2020   \n",
       "209828  TRAM2  R469  00-05-01  RIT-ROOSEVELT        R      RIT  09/25/2020   \n",
       "209827  TRAM2  R469  00-05-01  RIT-ROOSEVELT        R      RIT  09/25/2020   \n",
       "209826  TRAM2  R469  00-05-01  RIT-ROOSEVELT        R      RIT  09/25/2020   \n",
       "209825  TRAM2  R469  00-05-01  RIT-ROOSEVELT        R      RIT  09/25/2020   \n",
       "\n",
       "            TIME  ENTRIES           DATE_TIME  \n",
       "209829  21:00:00     5554 2020-09-25 21:00:00  \n",
       "209828  17:00:00     5554 2020-09-25 17:00:00  \n",
       "209827  13:00:00     5554 2020-09-25 13:00:00  \n",
       "209826  09:00:00     5554 2020-09-25 09:00:00  \n",
       "209825  05:00:00     5554 2020-09-25 05:00:00  "
      ]
     },
     "execution_count": 67,
     "metadata": {},
     "output_type": "execute_result"
    }
   ],
   "source": [
    "sep_2020.head()"
   ]
  },
  {
   "cell_type": "code",
   "execution_count": 68,
   "id": "7ce92d1b",
   "metadata": {},
   "outputs": [
    {
     "data": {
      "text/plain": [
       "09/01/2020    29422\n",
       "09/02/2020    29499\n",
       "09/03/2020    29420\n",
       "09/04/2020    30632\n",
       "09/05/2020    16720\n",
       "09/06/2020    17419\n",
       "09/07/2020    18242\n",
       "09/08/2020    17887\n",
       "09/09/2020    17210\n",
       "09/10/2020    16468\n",
       "09/11/2020    17559\n",
       "09/12/2020    22965\n",
       "09/13/2020    21616\n",
       "09/14/2020    17676\n",
       "09/15/2020    12867\n",
       "09/16/2020    12546\n",
       "09/17/2020    14042\n",
       "09/18/2020    18870\n",
       "09/19/2020    18850\n",
       "09/20/2020    18443\n",
       "09/21/2020    17485\n",
       "09/22/2020    16120\n",
       "09/23/2020    15132\n",
       "09/24/2020    16518\n",
       "09/25/2020    18202\n",
       "Name: DATE, dtype: int64"
      ]
     },
     "execution_count": 68,
     "metadata": {},
     "output_type": "execute_result"
    }
   ],
   "source": [
    "sep_2020.DATE.value_counts().sort_index()"
   ]
  },
  {
   "cell_type": "code",
   "execution_count": 71,
   "id": "cc974521",
   "metadata": {},
   "outputs": [],
   "source": [
    "daily_sum_entries = sep_2020.groupby('DATE').sum('ENTRIES').sort_values('DATE')"
   ]
  },
  {
   "cell_type": "code",
   "execution_count": 72,
   "id": "7082ede6",
   "metadata": {
    "collapsed": true
   },
   "outputs": [
    {
     "data": {
      "text/html": [
       "<div>\n",
       "<style scoped>\n",
       "    .dataframe tbody tr th:only-of-type {\n",
       "        vertical-align: middle;\n",
       "    }\n",
       "\n",
       "    .dataframe tbody tr th {\n",
       "        vertical-align: top;\n",
       "    }\n",
       "\n",
       "    .dataframe thead th {\n",
       "        text-align: right;\n",
       "    }\n",
       "</style>\n",
       "<table border=\"1\" class=\"dataframe\">\n",
       "  <thead>\n",
       "    <tr style=\"text-align: right;\">\n",
       "      <th></th>\n",
       "      <th>ENTRIES</th>\n",
       "    </tr>\n",
       "    <tr>\n",
       "      <th>DATE</th>\n",
       "      <th></th>\n",
       "    </tr>\n",
       "  </thead>\n",
       "  <tbody>\n",
       "    <tr>\n",
       "      <th>09/01/2020</th>\n",
       "      <td>1251285421962</td>\n",
       "    </tr>\n",
       "    <tr>\n",
       "      <th>09/02/2020</th>\n",
       "      <td>1256018278849</td>\n",
       "    </tr>\n",
       "    <tr>\n",
       "      <th>09/03/2020</th>\n",
       "      <td>1259388852636</td>\n",
       "    </tr>\n",
       "    <tr>\n",
       "      <th>09/04/2020</th>\n",
       "      <td>1270128246799</td>\n",
       "    </tr>\n",
       "    <tr>\n",
       "      <th>09/05/2020</th>\n",
       "      <td>798846101869</td>\n",
       "    </tr>\n",
       "    <tr>\n",
       "      <th>09/06/2020</th>\n",
       "      <td>890665632402</td>\n",
       "    </tr>\n",
       "    <tr>\n",
       "      <th>09/07/2020</th>\n",
       "      <td>825244522644</td>\n",
       "    </tr>\n",
       "    <tr>\n",
       "      <th>09/08/2020</th>\n",
       "      <td>708864407945</td>\n",
       "    </tr>\n",
       "    <tr>\n",
       "      <th>09/09/2020</th>\n",
       "      <td>625099080372</td>\n",
       "    </tr>\n",
       "    <tr>\n",
       "      <th>09/10/2020</th>\n",
       "      <td>625212243485</td>\n",
       "    </tr>\n",
       "    <tr>\n",
       "      <th>09/11/2020</th>\n",
       "      <td>728802006597</td>\n",
       "    </tr>\n",
       "    <tr>\n",
       "      <th>09/12/2020</th>\n",
       "      <td>1054101006775</td>\n",
       "    </tr>\n",
       "    <tr>\n",
       "      <th>09/13/2020</th>\n",
       "      <td>963785142865</td>\n",
       "    </tr>\n",
       "    <tr>\n",
       "      <th>09/14/2020</th>\n",
       "      <td>759631494347</td>\n",
       "    </tr>\n",
       "    <tr>\n",
       "      <th>09/15/2020</th>\n",
       "      <td>408649662211</td>\n",
       "    </tr>\n",
       "    <tr>\n",
       "      <th>09/16/2020</th>\n",
       "      <td>429878962300</td>\n",
       "    </tr>\n",
       "    <tr>\n",
       "      <th>09/17/2020</th>\n",
       "      <td>573188200985</td>\n",
       "    </tr>\n",
       "    <tr>\n",
       "      <th>09/18/2020</th>\n",
       "      <td>908234742049</td>\n",
       "    </tr>\n",
       "    <tr>\n",
       "      <th>09/19/2020</th>\n",
       "      <td>863825506084</td>\n",
       "    </tr>\n",
       "    <tr>\n",
       "      <th>09/20/2020</th>\n",
       "      <td>760198814283</td>\n",
       "    </tr>\n",
       "    <tr>\n",
       "      <th>09/21/2020</th>\n",
       "      <td>707216488485</td>\n",
       "    </tr>\n",
       "    <tr>\n",
       "      <th>09/22/2020</th>\n",
       "      <td>590248968345</td>\n",
       "    </tr>\n",
       "    <tr>\n",
       "      <th>09/23/2020</th>\n",
       "      <td>621133134003</td>\n",
       "    </tr>\n",
       "    <tr>\n",
       "      <th>09/24/2020</th>\n",
       "      <td>735121842726</td>\n",
       "    </tr>\n",
       "    <tr>\n",
       "      <th>09/25/2020</th>\n",
       "      <td>838889123827</td>\n",
       "    </tr>\n",
       "  </tbody>\n",
       "</table>\n",
       "</div>"
      ],
      "text/plain": [
       "                  ENTRIES\n",
       "DATE                     \n",
       "09/01/2020  1251285421962\n",
       "09/02/2020  1256018278849\n",
       "09/03/2020  1259388852636\n",
       "09/04/2020  1270128246799\n",
       "09/05/2020   798846101869\n",
       "09/06/2020   890665632402\n",
       "09/07/2020   825244522644\n",
       "09/08/2020   708864407945\n",
       "09/09/2020   625099080372\n",
       "09/10/2020   625212243485\n",
       "09/11/2020   728802006597\n",
       "09/12/2020  1054101006775\n",
       "09/13/2020   963785142865\n",
       "09/14/2020   759631494347\n",
       "09/15/2020   408649662211\n",
       "09/16/2020   429878962300\n",
       "09/17/2020   573188200985\n",
       "09/18/2020   908234742049\n",
       "09/19/2020   863825506084\n",
       "09/20/2020   760198814283\n",
       "09/21/2020   707216488485\n",
       "09/22/2020   590248968345\n",
       "09/23/2020   621133134003\n",
       "09/24/2020   735121842726\n",
       "09/25/2020   838889123827"
      ]
     },
     "execution_count": 72,
     "metadata": {},
     "output_type": "execute_result"
    }
   ],
   "source": [
    "daily_sum_entries"
   ]
  },
  {
   "cell_type": "code",
   "execution_count": 103,
   "id": "9581cc04",
   "metadata": {
    "scrolled": true
   },
   "outputs": [
    {
     "data": {
      "image/png": "[encoded data removed]",
      "text/plain": [
       "<Figure size 720x360 with 1 Axes>"
      ]
     },
     "metadata": {
      "needs_background": "light"
     },
     "output_type": "display_data"
    }
   ],
   "source": [
    "plt.figure(figsize=[10,5])\n",
    "plt.plot(daily_sum_entries)\n",
    "plt.show()"
   ]
  },
  {
   "cell_type": "code",
   "execution_count": 102,
   "id": "62e167c4",
   "metadata": {
    "scrolled": true
   },
   "outputs": [
    {
     "data": {
      "image/png": "[encoded data removed]",
      "text/plain": [
       "<Figure size 432x288 with 1 Axes>"
      ]
     },
     "metadata": {
      "needs_background": "light"
     },
     "output_type": "display_data"
    }
   ],
   "source": [
    "import matplotlib.pyplot as plt\n",
    "%matplotlib inline \n",
    "\n",
    "daily_sum_entries.plot(kind='bar',y='ENTRIES')\n",
    "plt.title('sum of people')\n",
    "plt.savefig('firstplot.png')\n",
    "plt.show()"
   ]
  },
  {
   "cell_type": "code",
   "execution_count": 101,
   "id": "2943d36b",
   "metadata": {},
   "outputs": [],
   "source": [
    "# Get rid of the duplicate entry\n",
    "sep_2020.sort_values([\"C/A\", \"UNIT\", \"SCP\", \"STATION\", \"DATE_TIME\"], inplace=True, \\\n",
    "                          ascending=False)\n",
    "sep_2020.drop_duplicates(subset=[\"C/A\", \"UNIT\", \"SCP\", \"STATION\", \"DATE_TIME\"], inplace=True)\n"
   ]
  },
  {
   "cell_type": "code",
   "execution_count": 104,
   "id": "e12e1132",
   "metadata": {
    "scrolled": true
   },
   "outputs": [
    {
     "data": {
      "text/html": [
       "<div>\n",
       "<style scoped>\n",
       "    .dataframe tbody tr th:only-of-type {\n",
       "        vertical-align: middle;\n",
       "    }\n",
       "\n",
       "    .dataframe tbody tr th {\n",
       "        vertical-align: top;\n",
       "    }\n",
       "\n",
       "    .dataframe thead th {\n",
       "        text-align: right;\n",
       "    }\n",
       "</style>\n",
       "<table border=\"1\" class=\"dataframe\">\n",
       "  <thead>\n",
       "    <tr style=\"text-align: right;\">\n",
       "      <th></th>\n",
       "      <th>C/A</th>\n",
       "      <th>UNIT</th>\n",
       "      <th>SCP</th>\n",
       "      <th>STATION</th>\n",
       "      <th>DATE_TIME</th>\n",
       "      <th>ENTRIES</th>\n",
       "    </tr>\n",
       "  </thead>\n",
       "  <tbody>\n",
       "    <tr>\n",
       "      <th>0</th>\n",
       "      <td>A002</td>\n",
       "      <td>R051</td>\n",
       "      <td>02-00-00</td>\n",
       "      <td>59 ST</td>\n",
       "      <td>2020-09-01 00:00:00</td>\n",
       "      <td>1</td>\n",
       "    </tr>\n",
       "    <tr>\n",
       "      <th>321202</th>\n",
       "      <td>R138</td>\n",
       "      <td>R293</td>\n",
       "      <td>00-02-01</td>\n",
       "      <td>34 ST-PENN STA</td>\n",
       "      <td>2020-09-01 22:00:00</td>\n",
       "      <td>1</td>\n",
       "    </tr>\n",
       "    <tr>\n",
       "      <th>321214</th>\n",
       "      <td>R138</td>\n",
       "      <td>R293</td>\n",
       "      <td>00-02-01</td>\n",
       "      <td>34 ST-PENN STA</td>\n",
       "      <td>2020-09-03 22:00:00</td>\n",
       "      <td>1</td>\n",
       "    </tr>\n",
       "    <tr>\n",
       "      <th>321213</th>\n",
       "      <td>R138</td>\n",
       "      <td>R293</td>\n",
       "      <td>00-02-01</td>\n",
       "      <td>34 ST-PENN STA</td>\n",
       "      <td>2020-09-03 18:00:00</td>\n",
       "      <td>1</td>\n",
       "    </tr>\n",
       "    <tr>\n",
       "      <th>321212</th>\n",
       "      <td>R138</td>\n",
       "      <td>R293</td>\n",
       "      <td>00-02-01</td>\n",
       "      <td>34 ST-PENN STA</td>\n",
       "      <td>2020-09-03 14:00:00</td>\n",
       "      <td>1</td>\n",
       "    </tr>\n",
       "  </tbody>\n",
       "</table>\n",
       "</div>"
      ],
      "text/plain": [
       "         C/A  UNIT       SCP         STATION           DATE_TIME  ENTRIES\n",
       "0       A002  R051  02-00-00           59 ST 2020-09-01 00:00:00        1\n",
       "321202  R138  R293  00-02-01  34 ST-PENN STA 2020-09-01 22:00:00        1\n",
       "321214  R138  R293  00-02-01  34 ST-PENN STA 2020-09-03 22:00:00        1\n",
       "321213  R138  R293  00-02-01  34 ST-PENN STA 2020-09-03 18:00:00        1\n",
       "321212  R138  R293  00-02-01  34 ST-PENN STA 2020-09-03 14:00:00        1"
      ]
     },
     "execution_count": 104,
     "metadata": {},
     "output_type": "execute_result"
    }
   ],
   "source": [
    "(sep_2020\n",
    " .groupby([\"C/A\", \"UNIT\", \"SCP\", \"STATION\", \"DATE_TIME\"])\n",
    " .ENTRIES.count()\n",
    " .reset_index()\n",
    " .sort_values(\"ENTRIES\", ascending=False)).head(5)"
   ]
  },
  {
   "cell_type": "code",
   "execution_count": 105,
   "id": "de3deffa",
   "metadata": {},
   "outputs": [],
   "source": [
    "sep_2020 = sep_2020.drop([\"EXITS\", \"DESC\"], axis=1, errors=\"ignore\")"
   ]
  },
  {
   "cell_type": "code",
   "execution_count": 106,
   "id": "e389e598",
   "metadata": {},
   "outputs": [
    {
     "data": {
      "text/html": [
       "<div>\n",
       "<style scoped>\n",
       "    .dataframe tbody tr th:only-of-type {\n",
       "        vertical-align: middle;\n",
       "    }\n",
       "\n",
       "    .dataframe tbody tr th {\n",
       "        vertical-align: top;\n",
       "    }\n",
       "\n",
       "    .dataframe thead th {\n",
       "        text-align: right;\n",
       "    }\n",
       "</style>\n",
       "<table border=\"1\" class=\"dataframe\">\n",
       "  <thead>\n",
       "    <tr style=\"text-align: right;\">\n",
       "      <th></th>\n",
       "      <th>C/A</th>\n",
       "      <th>UNIT</th>\n",
       "      <th>SCP</th>\n",
       "      <th>STATION</th>\n",
       "      <th>LINENAME</th>\n",
       "      <th>DIVISION</th>\n",
       "      <th>DATE</th>\n",
       "      <th>TIME</th>\n",
       "      <th>ENTRIES</th>\n",
       "      <th>DATE_TIME</th>\n",
       "    </tr>\n",
       "  </thead>\n",
       "  <tbody>\n",
       "    <tr>\n",
       "      <th>209829</th>\n",
       "      <td>TRAM2</td>\n",
       "      <td>R469</td>\n",
       "      <td>00-05-01</td>\n",
       "      <td>RIT-ROOSEVELT</td>\n",
       "      <td>R</td>\n",
       "      <td>RIT</td>\n",
       "      <td>09/25/2020</td>\n",
       "      <td>21:00:00</td>\n",
       "      <td>5554</td>\n",
       "      <td>2020-09-25 21:00:00</td>\n",
       "    </tr>\n",
       "    <tr>\n",
       "      <th>209828</th>\n",
       "      <td>TRAM2</td>\n",
       "      <td>R469</td>\n",
       "      <td>00-05-01</td>\n",
       "      <td>RIT-ROOSEVELT</td>\n",
       "      <td>R</td>\n",
       "      <td>RIT</td>\n",
       "      <td>09/25/2020</td>\n",
       "      <td>17:00:00</td>\n",
       "      <td>5554</td>\n",
       "      <td>2020-09-25 17:00:00</td>\n",
       "    </tr>\n",
       "    <tr>\n",
       "      <th>209827</th>\n",
       "      <td>TRAM2</td>\n",
       "      <td>R469</td>\n",
       "      <td>00-05-01</td>\n",
       "      <td>RIT-ROOSEVELT</td>\n",
       "      <td>R</td>\n",
       "      <td>RIT</td>\n",
       "      <td>09/25/2020</td>\n",
       "      <td>13:00:00</td>\n",
       "      <td>5554</td>\n",
       "      <td>2020-09-25 13:00:00</td>\n",
       "    </tr>\n",
       "    <tr>\n",
       "      <th>209826</th>\n",
       "      <td>TRAM2</td>\n",
       "      <td>R469</td>\n",
       "      <td>00-05-01</td>\n",
       "      <td>RIT-ROOSEVELT</td>\n",
       "      <td>R</td>\n",
       "      <td>RIT</td>\n",
       "      <td>09/25/2020</td>\n",
       "      <td>09:00:00</td>\n",
       "      <td>5554</td>\n",
       "      <td>2020-09-25 09:00:00</td>\n",
       "    </tr>\n",
       "    <tr>\n",
       "      <th>209825</th>\n",
       "      <td>TRAM2</td>\n",
       "      <td>R469</td>\n",
       "      <td>00-05-01</td>\n",
       "      <td>RIT-ROOSEVELT</td>\n",
       "      <td>R</td>\n",
       "      <td>RIT</td>\n",
       "      <td>09/25/2020</td>\n",
       "      <td>05:00:00</td>\n",
       "      <td>5554</td>\n",
       "      <td>2020-09-25 05:00:00</td>\n",
       "    </tr>\n",
       "  </tbody>\n",
       "</table>\n",
       "</div>"
      ],
      "text/plain": [
       "          C/A  UNIT       SCP        STATION LINENAME DIVISION        DATE  \\\n",
       "209829  TRAM2  R469  00-05-01  RIT-ROOSEVELT        R      RIT  09/25/2020   \n",
       "209828  TRAM2  R469  00-05-01  RIT-ROOSEVELT        R      RIT  09/25/2020   \n",
       "209827  TRAM2  R469  00-05-01  RIT-ROOSEVELT        R      RIT  09/25/2020   \n",
       "209826  TRAM2  R469  00-05-01  RIT-ROOSEVELT        R      RIT  09/25/2020   \n",
       "209825  TRAM2  R469  00-05-01  RIT-ROOSEVELT        R      RIT  09/25/2020   \n",
       "\n",
       "            TIME  ENTRIES           DATE_TIME  \n",
       "209829  21:00:00     5554 2020-09-25 21:00:00  \n",
       "209828  17:00:00     5554 2020-09-25 17:00:00  \n",
       "209827  13:00:00     5554 2020-09-25 13:00:00  \n",
       "209826  09:00:00     5554 2020-09-25 09:00:00  \n",
       "209825  05:00:00     5554 2020-09-25 05:00:00  "
      ]
     },
     "execution_count": 106,
     "metadata": {},
     "output_type": "execute_result"
    }
   ],
   "source": [
    "sep_2020.head()"
   ]
  },
  {
   "cell_type": "code",
   "execution_count": 107,
   "id": "6a4450cd",
   "metadata": {},
   "outputs": [],
   "source": [
    "sep_2020_daily = sep_2020.groupby([\"C/A\", \"UNIT\", \"SCP\", \"STATION\", \"DATE\"])\\\n",
    ".ENTRIES.first().reset_index()"
   ]
  },
  {
   "cell_type": "code",
   "execution_count": 108,
   "id": "af3ae869",
   "metadata": {},
   "outputs": [
    {
     "data": {
      "text/html": [
       "<div>\n",
       "<style scoped>\n",
       "    .dataframe tbody tr th:only-of-type {\n",
       "        vertical-align: middle;\n",
       "    }\n",
       "\n",
       "    .dataframe tbody tr th {\n",
       "        vertical-align: top;\n",
       "    }\n",
       "\n",
       "    .dataframe thead th {\n",
       "        text-align: right;\n",
       "    }\n",
       "</style>\n",
       "<table border=\"1\" class=\"dataframe\">\n",
       "  <thead>\n",
       "    <tr style=\"text-align: right;\">\n",
       "      <th></th>\n",
       "      <th>C/A</th>\n",
       "      <th>UNIT</th>\n",
       "      <th>SCP</th>\n",
       "      <th>STATION</th>\n",
       "      <th>DATE</th>\n",
       "      <th>ENTRIES</th>\n",
       "    </tr>\n",
       "  </thead>\n",
       "  <tbody>\n",
       "    <tr>\n",
       "      <th>0</th>\n",
       "      <td>A002</td>\n",
       "      <td>R051</td>\n",
       "      <td>02-00-00</td>\n",
       "      <td>59 ST</td>\n",
       "      <td>09/01/2020</td>\n",
       "      <td>7452243</td>\n",
       "    </tr>\n",
       "    <tr>\n",
       "      <th>1</th>\n",
       "      <td>A002</td>\n",
       "      <td>R051</td>\n",
       "      <td>02-00-00</td>\n",
       "      <td>59 ST</td>\n",
       "      <td>09/02/2020</td>\n",
       "      <td>7452782</td>\n",
       "    </tr>\n",
       "    <tr>\n",
       "      <th>2</th>\n",
       "      <td>A002</td>\n",
       "      <td>R051</td>\n",
       "      <td>02-00-00</td>\n",
       "      <td>59 ST</td>\n",
       "      <td>09/03/2020</td>\n",
       "      <td>7453307</td>\n",
       "    </tr>\n",
       "    <tr>\n",
       "      <th>3</th>\n",
       "      <td>A002</td>\n",
       "      <td>R051</td>\n",
       "      <td>02-00-00</td>\n",
       "      <td>59 ST</td>\n",
       "      <td>09/04/2020</td>\n",
       "      <td>7453841</td>\n",
       "    </tr>\n",
       "    <tr>\n",
       "      <th>4</th>\n",
       "      <td>A002</td>\n",
       "      <td>R051</td>\n",
       "      <td>02-00-00</td>\n",
       "      <td>59 ST</td>\n",
       "      <td>09/08/2020</td>\n",
       "      <td>7455427</td>\n",
       "    </tr>\n",
       "  </tbody>\n",
       "</table>\n",
       "</div>"
      ],
      "text/plain": [
       "    C/A  UNIT       SCP STATION        DATE  ENTRIES\n",
       "0  A002  R051  02-00-00   59 ST  09/01/2020  7452243\n",
       "1  A002  R051  02-00-00   59 ST  09/02/2020  7452782\n",
       "2  A002  R051  02-00-00   59 ST  09/03/2020  7453307\n",
       "3  A002  R051  02-00-00   59 ST  09/04/2020  7453841\n",
       "4  A002  R051  02-00-00   59 ST  09/08/2020  7455427"
      ]
     },
     "execution_count": 108,
     "metadata": {},
     "output_type": "execute_result"
    }
   ],
   "source": [
    "sep_2020_daily.head()"
   ]
  },
  {
   "cell_type": "markdown",
   "id": "efe8689e",
   "metadata": {},
   "source": [
    "- The entries are a cumulative sum. The current day needs to be subtracted from the previous day in order to get the total daily entries."
   ]
  },
  {
   "cell_type": "code",
   "execution_count": 109,
   "id": "b415ff94",
   "metadata": {},
   "outputs": [
    {
     "name": "stderr",
     "output_type": "stream",
     "text": [
      "/anaconda3/lib/python3.7/site-packages/ipykernel_launcher.py:2: FutureWarning: Indexing with multiple keys (implicitly converted to a tuple of keys) will be deprecated, use a list instead.\n",
      "  \n"
     ]
    }
   ],
   "source": [
    "sep_2020_daily[[\"PREV_DATE\", \"PREV_ENTRIES\"]] = (sep_2020_daily\n",
    "                                                       .groupby([\"C/A\", \"UNIT\", \"SCP\", \"STATION\"])[\"DATE\", \"ENTRIES\"]\n",
    "                                                       .transform(lambda grp: grp.shift(1)))\n",
    "# transform() takes a function as parameter\n",
    "# shift moves the index by the number of periods given (positive or negative)"
   ]
  },
  {
   "cell_type": "code",
   "execution_count": 110,
   "id": "41aa09c7",
   "metadata": {},
   "outputs": [
    {
     "data": {
      "text/html": [
       "<div>\n",
       "<style scoped>\n",
       "    .dataframe tbody tr th:only-of-type {\n",
       "        vertical-align: middle;\n",
       "    }\n",
       "\n",
       "    .dataframe tbody tr th {\n",
       "        vertical-align: top;\n",
       "    }\n",
       "\n",
       "    .dataframe thead th {\n",
       "        text-align: right;\n",
       "    }\n",
       "</style>\n",
       "<table border=\"1\" class=\"dataframe\">\n",
       "  <thead>\n",
       "    <tr style=\"text-align: right;\">\n",
       "      <th></th>\n",
       "      <th>C/A</th>\n",
       "      <th>UNIT</th>\n",
       "      <th>SCP</th>\n",
       "      <th>STATION</th>\n",
       "      <th>DATE</th>\n",
       "      <th>ENTRIES</th>\n",
       "      <th>PREV_DATE</th>\n",
       "      <th>PREV_ENTRIES</th>\n",
       "    </tr>\n",
       "  </thead>\n",
       "  <tbody>\n",
       "    <tr>\n",
       "      <th>0</th>\n",
       "      <td>A002</td>\n",
       "      <td>R051</td>\n",
       "      <td>02-00-00</td>\n",
       "      <td>59 ST</td>\n",
       "      <td>09/01/2020</td>\n",
       "      <td>7452243</td>\n",
       "      <td>NaN</td>\n",
       "      <td>NaN</td>\n",
       "    </tr>\n",
       "    <tr>\n",
       "      <th>1</th>\n",
       "      <td>A002</td>\n",
       "      <td>R051</td>\n",
       "      <td>02-00-00</td>\n",
       "      <td>59 ST</td>\n",
       "      <td>09/02/2020</td>\n",
       "      <td>7452782</td>\n",
       "      <td>09/01/2020</td>\n",
       "      <td>7452243.0</td>\n",
       "    </tr>\n",
       "    <tr>\n",
       "      <th>2</th>\n",
       "      <td>A002</td>\n",
       "      <td>R051</td>\n",
       "      <td>02-00-00</td>\n",
       "      <td>59 ST</td>\n",
       "      <td>09/03/2020</td>\n",
       "      <td>7453307</td>\n",
       "      <td>09/02/2020</td>\n",
       "      <td>7452782.0</td>\n",
       "    </tr>\n",
       "    <tr>\n",
       "      <th>3</th>\n",
       "      <td>A002</td>\n",
       "      <td>R051</td>\n",
       "      <td>02-00-00</td>\n",
       "      <td>59 ST</td>\n",
       "      <td>09/04/2020</td>\n",
       "      <td>7453841</td>\n",
       "      <td>09/03/2020</td>\n",
       "      <td>7453307.0</td>\n",
       "    </tr>\n",
       "    <tr>\n",
       "      <th>4</th>\n",
       "      <td>A002</td>\n",
       "      <td>R051</td>\n",
       "      <td>02-00-00</td>\n",
       "      <td>59 ST</td>\n",
       "      <td>09/08/2020</td>\n",
       "      <td>7455427</td>\n",
       "      <td>09/04/2020</td>\n",
       "      <td>7453841.0</td>\n",
       "    </tr>\n",
       "  </tbody>\n",
       "</table>\n",
       "</div>"
      ],
      "text/plain": [
       "    C/A  UNIT       SCP STATION        DATE  ENTRIES   PREV_DATE  PREV_ENTRIES\n",
       "0  A002  R051  02-00-00   59 ST  09/01/2020  7452243         NaN           NaN\n",
       "1  A002  R051  02-00-00   59 ST  09/02/2020  7452782  09/01/2020     7452243.0\n",
       "2  A002  R051  02-00-00   59 ST  09/03/2020  7453307  09/02/2020     7452782.0\n",
       "3  A002  R051  02-00-00   59 ST  09/04/2020  7453841  09/03/2020     7453307.0\n",
       "4  A002  R051  02-00-00   59 ST  09/08/2020  7455427  09/04/2020     7453841.0"
      ]
     },
     "execution_count": 110,
     "metadata": {},
     "output_type": "execute_result"
    }
   ],
   "source": [
    "sep_2020_daily.head()"
   ]
  },
  {
   "cell_type": "code",
   "execution_count": 111,
   "id": "19c52a24",
   "metadata": {},
   "outputs": [],
   "source": [
    "# Drop the rows for first date\n",
    "sep_2020_daily.dropna(subset=[\"PREV_DATE\"], axis=0, inplace=True)\n",
    "# axis = 0 means index (=1 means column)"
   ]
  },
  {
   "cell_type": "code",
   "execution_count": 112,
   "id": "e600144d",
   "metadata": {},
   "outputs": [
    {
     "data": {
      "text/html": [
       "<div>\n",
       "<style scoped>\n",
       "    .dataframe tbody tr th:only-of-type {\n",
       "        vertical-align: middle;\n",
       "    }\n",
       "\n",
       "    .dataframe tbody tr th {\n",
       "        vertical-align: top;\n",
       "    }\n",
       "\n",
       "    .dataframe thead th {\n",
       "        text-align: right;\n",
       "    }\n",
       "</style>\n",
       "<table border=\"1\" class=\"dataframe\">\n",
       "  <thead>\n",
       "    <tr style=\"text-align: right;\">\n",
       "      <th></th>\n",
       "      <th>C/A</th>\n",
       "      <th>UNIT</th>\n",
       "      <th>SCP</th>\n",
       "      <th>STATION</th>\n",
       "      <th>DATE</th>\n",
       "      <th>ENTRIES</th>\n",
       "      <th>PREV_DATE</th>\n",
       "      <th>PREV_ENTRIES</th>\n",
       "    </tr>\n",
       "  </thead>\n",
       "  <tbody>\n",
       "    <tr>\n",
       "      <th>652</th>\n",
       "      <td>A011</td>\n",
       "      <td>R080</td>\n",
       "      <td>01-03-00</td>\n",
       "      <td>57 ST-7 AV</td>\n",
       "      <td>09/02/2020</td>\n",
       "      <td>885653848</td>\n",
       "      <td>09/01/2020</td>\n",
       "      <td>885654004.0</td>\n",
       "    </tr>\n",
       "    <tr>\n",
       "      <th>653</th>\n",
       "      <td>A011</td>\n",
       "      <td>R080</td>\n",
       "      <td>01-03-00</td>\n",
       "      <td>57 ST-7 AV</td>\n",
       "      <td>09/03/2020</td>\n",
       "      <td>885653653</td>\n",
       "      <td>09/02/2020</td>\n",
       "      <td>885653848.0</td>\n",
       "    </tr>\n",
       "    <tr>\n",
       "      <th>654</th>\n",
       "      <td>A011</td>\n",
       "      <td>R080</td>\n",
       "      <td>01-03-00</td>\n",
       "      <td>57 ST-7 AV</td>\n",
       "      <td>09/04/2020</td>\n",
       "      <td>885653502</td>\n",
       "      <td>09/03/2020</td>\n",
       "      <td>885653653.0</td>\n",
       "    </tr>\n",
       "    <tr>\n",
       "      <th>655</th>\n",
       "      <td>A011</td>\n",
       "      <td>R080</td>\n",
       "      <td>01-03-00</td>\n",
       "      <td>57 ST-7 AV</td>\n",
       "      <td>09/08/2020</td>\n",
       "      <td>885653096</td>\n",
       "      <td>09/04/2020</td>\n",
       "      <td>885653502.0</td>\n",
       "    </tr>\n",
       "    <tr>\n",
       "      <th>656</th>\n",
       "      <td>A011</td>\n",
       "      <td>R080</td>\n",
       "      <td>01-03-00</td>\n",
       "      <td>57 ST-7 AV</td>\n",
       "      <td>09/09/2020</td>\n",
       "      <td>885652917</td>\n",
       "      <td>09/08/2020</td>\n",
       "      <td>885653096.0</td>\n",
       "    </tr>\n",
       "  </tbody>\n",
       "</table>\n",
       "</div>"
      ],
      "text/plain": [
       "      C/A  UNIT       SCP     STATION        DATE    ENTRIES   PREV_DATE  \\\n",
       "652  A011  R080  01-03-00  57 ST-7 AV  09/02/2020  885653848  09/01/2020   \n",
       "653  A011  R080  01-03-00  57 ST-7 AV  09/03/2020  885653653  09/02/2020   \n",
       "654  A011  R080  01-03-00  57 ST-7 AV  09/04/2020  885653502  09/03/2020   \n",
       "655  A011  R080  01-03-00  57 ST-7 AV  09/08/2020  885653096  09/04/2020   \n",
       "656  A011  R080  01-03-00  57 ST-7 AV  09/09/2020  885652917  09/08/2020   \n",
       "\n",
       "     PREV_ENTRIES  \n",
       "652   885654004.0  \n",
       "653   885653848.0  \n",
       "654   885653653.0  \n",
       "655   885653502.0  \n",
       "656   885653096.0  "
      ]
     },
     "execution_count": 112,
     "metadata": {},
     "output_type": "execute_result"
    }
   ],
   "source": [
    "# Let's check that the number of entries for today is higher than entries for yesterday\n",
    "\n",
    "sep_2020_daily[sep_2020_daily[\"ENTRIES\"] < sep_2020_daily[\"PREV_ENTRIES\"]].head()"
   ]
  },
  {
   "cell_type": "code",
   "execution_count": 113,
   "id": "cd9976ca",
   "metadata": {},
   "outputs": [
    {
     "data": {
      "text/html": [
       "<div>\n",
       "<style scoped>\n",
       "    .dataframe tbody tr th:only-of-type {\n",
       "        vertical-align: middle;\n",
       "    }\n",
       "\n",
       "    .dataframe tbody tr th {\n",
       "        vertical-align: top;\n",
       "    }\n",
       "\n",
       "    .dataframe thead th {\n",
       "        text-align: right;\n",
       "    }\n",
       "</style>\n",
       "<table border=\"1\" class=\"dataframe\">\n",
       "  <thead>\n",
       "    <tr style=\"text-align: right;\">\n",
       "      <th></th>\n",
       "      <th>C/A</th>\n",
       "      <th>UNIT</th>\n",
       "      <th>SCP</th>\n",
       "      <th>STATION</th>\n",
       "      <th>LINENAME</th>\n",
       "      <th>DIVISION</th>\n",
       "      <th>DATE</th>\n",
       "      <th>TIME</th>\n",
       "      <th>ENTRIES</th>\n",
       "      <th>DATE_TIME</th>\n",
       "    </tr>\n",
       "  </thead>\n",
       "  <tbody>\n",
       "    <tr>\n",
       "      <th>1415</th>\n",
       "      <td>A011</td>\n",
       "      <td>R080</td>\n",
       "      <td>01-00-00</td>\n",
       "      <td>57 ST-7 AV</td>\n",
       "      <td>NQRW</td>\n",
       "      <td>BMT</td>\n",
       "      <td>09/02/2020</td>\n",
       "      <td>20:00:00</td>\n",
       "      <td>463831</td>\n",
       "      <td>2020-09-02 20:00:00</td>\n",
       "    </tr>\n",
       "    <tr>\n",
       "      <th>1414</th>\n",
       "      <td>A011</td>\n",
       "      <td>R080</td>\n",
       "      <td>01-00-00</td>\n",
       "      <td>57 ST-7 AV</td>\n",
       "      <td>NQRW</td>\n",
       "      <td>BMT</td>\n",
       "      <td>09/02/2020</td>\n",
       "      <td>16:00:00</td>\n",
       "      <td>463798</td>\n",
       "      <td>2020-09-02 16:00:00</td>\n",
       "    </tr>\n",
       "    <tr>\n",
       "      <th>1413</th>\n",
       "      <td>A011</td>\n",
       "      <td>R080</td>\n",
       "      <td>01-00-00</td>\n",
       "      <td>57 ST-7 AV</td>\n",
       "      <td>NQRW</td>\n",
       "      <td>BMT</td>\n",
       "      <td>09/02/2020</td>\n",
       "      <td>12:00:00</td>\n",
       "      <td>463779</td>\n",
       "      <td>2020-09-02 12:00:00</td>\n",
       "    </tr>\n",
       "    <tr>\n",
       "      <th>1412</th>\n",
       "      <td>A011</td>\n",
       "      <td>R080</td>\n",
       "      <td>01-00-00</td>\n",
       "      <td>57 ST-7 AV</td>\n",
       "      <td>NQRW</td>\n",
       "      <td>BMT</td>\n",
       "      <td>09/02/2020</td>\n",
       "      <td>08:00:00</td>\n",
       "      <td>463766</td>\n",
       "      <td>2020-09-02 08:00:00</td>\n",
       "    </tr>\n",
       "    <tr>\n",
       "      <th>1411</th>\n",
       "      <td>A011</td>\n",
       "      <td>R080</td>\n",
       "      <td>01-00-00</td>\n",
       "      <td>57 ST-7 AV</td>\n",
       "      <td>NQRW</td>\n",
       "      <td>BMT</td>\n",
       "      <td>09/02/2020</td>\n",
       "      <td>04:00:00</td>\n",
       "      <td>463758</td>\n",
       "      <td>2020-09-02 04:00:00</td>\n",
       "    </tr>\n",
       "  </tbody>\n",
       "</table>\n",
       "</div>"
      ],
      "text/plain": [
       "       C/A  UNIT       SCP     STATION LINENAME DIVISION        DATE  \\\n",
       "1415  A011  R080  01-00-00  57 ST-7 AV     NQRW      BMT  09/02/2020   \n",
       "1414  A011  R080  01-00-00  57 ST-7 AV     NQRW      BMT  09/02/2020   \n",
       "1413  A011  R080  01-00-00  57 ST-7 AV     NQRW      BMT  09/02/2020   \n",
       "1412  A011  R080  01-00-00  57 ST-7 AV     NQRW      BMT  09/02/2020   \n",
       "1411  A011  R080  01-00-00  57 ST-7 AV     NQRW      BMT  09/02/2020   \n",
       "\n",
       "          TIME  ENTRIES           DATE_TIME  \n",
       "1415  20:00:00   463831 2020-09-02 20:00:00  \n",
       "1414  16:00:00   463798 2020-09-02 16:00:00  \n",
       "1413  12:00:00   463779 2020-09-02 12:00:00  \n",
       "1412  08:00:00   463766 2020-09-02 08:00:00  \n",
       "1411  04:00:00   463758 2020-09-02 04:00:00  "
      ]
     },
     "execution_count": 113,
     "metadata": {},
     "output_type": "execute_result"
    }
   ],
   "source": [
    "mask = ((sep_2020[\"C/A\"] == \"A011\") & \n",
    "(sep_2020[\"UNIT\"] == \"R080\") & \n",
    "(sep_2020[\"SCP\"] == \"01-00-00\") & \n",
    "(sep_2020[\"STATION\"] == \"57 ST-7 AV\") &\n",
    "(sep_2020[\"DATE_TIME\"].dt.date == datetime.datetime(2020, 9, 2).date())) \n",
    "\n",
    "# datetime is both name of module and name of constructor of datetime object\n",
    "sep_2020[mask].head()"
   ]
  },
  {
   "cell_type": "code",
   "execution_count": 114,
   "id": "e5dcaee0",
   "metadata": {
    "scrolled": true
   },
   "outputs": [
    {
     "data": {
      "text/plain": [
       "C/A   UNIT  SCP       STATION        \n",
       "A011  R080  01-03-00  57 ST-7 AV         17\n",
       "A042  R086  01-00-04  PRINCE ST           1\n",
       "A049  R088  02-05-00  CORTLANDT ST        6\n",
       "A066  R118  00-00-00  CANAL ST           17\n",
       "B021  R228  00-05-00  AVENUE J            1\n",
       "                                         ..\n",
       "R602  R108  00-00-00  BOROUGH HALL        1\n",
       "R622  R123  00-00-00  FRANKLIN AV        17\n",
       "R627  R063  00-03-02  SUTTER AV-RUTLD     1\n",
       "R647  R110  02-05-00  FLATBUSH AV-B.C     1\n",
       "R730  R431  00-00-04  EASTCHSTER/DYRE    19\n",
       "Length: 104, dtype: int64"
      ]
     },
     "execution_count": 114,
     "metadata": {},
     "output_type": "execute_result"
    }
   ],
   "source": [
    "(sep_2020_daily[sep_2020_daily[\"ENTRIES\"] < sep_2020_daily[\"PREV_ENTRIES\"]]\n",
    "    .groupby([\"C/A\", \"UNIT\", \"SCP\", \"STATION\"])\n",
    "    .size()) # size() behaves same as if we'd done .DATE.count() \n"
   ]
  },
  {
   "cell_type": "markdown",
   "id": "9621eb33",
   "metadata": {},
   "source": [
    "- Let's clean these up. If the entries are smaller the day before let's make the sum positive. In order to avoid outliers let's cap the total daily count for daily entries to be 1,000,000 people."
   ]
  },
  {
   "cell_type": "code",
   "execution_count": 115,
   "id": "340e48ee",
   "metadata": {
    "scrolled": true
   },
   "outputs": [
    {
     "name": "stdout",
     "output_type": "stream",
     "text": [
      "233 2297325.0\n",
      "219 1874473.0\n",
      "631046281 246545.0\n",
      "606 8096346.0\n",
      "1136721145 6439404.0\n",
      "1395 3145169.0\n",
      "590069 1906617.0\n",
      "6 10731820.0\n",
      "33 15171263.0\n",
      "351 394320240.0\n",
      "524299 117443285.0\n",
      "37 3334731.0\n",
      "160 3834145.0\n",
      "589865448 6311679.0\n",
      "6312495 589865448.0\n",
      "4456900 49195.0\n",
      "51257 4456900.0\n",
      "10 2197669.0\n",
      "165 2351204.0\n",
      "1021605 835.0\n",
      "561 12002953.0\n",
      "5293 10054500.0\n",
      "721366 6946581.0\n",
      "448 5324133.0\n",
      "822 5125463.0\n",
      "7 5433033.0\n",
      "5434840 7.0\n",
      "38 235366971.0\n",
      "870767 2522090.0\n",
      "189 1311492.0\n",
      "757 9679627.0\n",
      "212 6658385.0\n",
      "60 5373826.0\n",
      "126 2836277.0\n",
      "103 3299852.0\n",
      "160 8634390.0\n",
      "196 4008222.0\n",
      "720946 117445467.0\n",
      "655577 10696562.0\n",
      "983 2867678.0\n",
      "38 1185237.0\n"
     ]
    }
   ],
   "source": [
    "def get_daily_counts(row, max_counter):\n",
    "    counter = row[\"ENTRIES\"] - row[\"PREV_ENTRIES\"]\n",
    "    if counter < 0:\n",
    "        counter = -counter\n",
    "    if counter > max_counter:\n",
    "        print(row[\"ENTRIES\"], row[\"PREV_ENTRIES\"])\n",
    "        return 0\n",
    "    return counter\n",
    "\n",
    "# If counter is > 1 million, then the counter might have been reset.  \n",
    "# Just set it to zero as different counters have different cycle limits\n",
    "sep_2020_daily[\"DAILY_ENTRIES\"] = sep_2020_daily.apply(get_daily_counts, axis=1, max_counter=1000000) \n",
    "\n",
    "# apply takes a function as parameter and applies it along the given axis (1=apply by row) \n",
    "# apply takes care of passing each row to the function"
   ]
  },
  {
   "cell_type": "markdown",
   "id": "eb8aecbe",
   "metadata": {},
   "source": [
    "- now We have the daily entries."
   ]
  },
  {
   "cell_type": "code",
   "execution_count": 116,
   "id": "093e41ea",
   "metadata": {},
   "outputs": [
    {
     "data": {
      "text/html": [
       "<div>\n",
       "<style scoped>\n",
       "    .dataframe tbody tr th:only-of-type {\n",
       "        vertical-align: middle;\n",
       "    }\n",
       "\n",
       "    .dataframe tbody tr th {\n",
       "        vertical-align: top;\n",
       "    }\n",
       "\n",
       "    .dataframe thead th {\n",
       "        text-align: right;\n",
       "    }\n",
       "</style>\n",
       "<table border=\"1\" class=\"dataframe\">\n",
       "  <thead>\n",
       "    <tr style=\"text-align: right;\">\n",
       "      <th></th>\n",
       "      <th>C/A</th>\n",
       "      <th>UNIT</th>\n",
       "      <th>SCP</th>\n",
       "      <th>STATION</th>\n",
       "      <th>DATE</th>\n",
       "      <th>ENTRIES</th>\n",
       "      <th>PREV_DATE</th>\n",
       "      <th>PREV_ENTRIES</th>\n",
       "      <th>DAILY_ENTRIES</th>\n",
       "    </tr>\n",
       "  </thead>\n",
       "  <tbody>\n",
       "    <tr>\n",
       "      <th>1</th>\n",
       "      <td>A002</td>\n",
       "      <td>R051</td>\n",
       "      <td>02-00-00</td>\n",
       "      <td>59 ST</td>\n",
       "      <td>09/02/2020</td>\n",
       "      <td>7452782</td>\n",
       "      <td>09/01/2020</td>\n",
       "      <td>7452243.0</td>\n",
       "      <td>539.0</td>\n",
       "    </tr>\n",
       "    <tr>\n",
       "      <th>2</th>\n",
       "      <td>A002</td>\n",
       "      <td>R051</td>\n",
       "      <td>02-00-00</td>\n",
       "      <td>59 ST</td>\n",
       "      <td>09/03/2020</td>\n",
       "      <td>7453307</td>\n",
       "      <td>09/02/2020</td>\n",
       "      <td>7452782.0</td>\n",
       "      <td>525.0</td>\n",
       "    </tr>\n",
       "    <tr>\n",
       "      <th>3</th>\n",
       "      <td>A002</td>\n",
       "      <td>R051</td>\n",
       "      <td>02-00-00</td>\n",
       "      <td>59 ST</td>\n",
       "      <td>09/04/2020</td>\n",
       "      <td>7453841</td>\n",
       "      <td>09/03/2020</td>\n",
       "      <td>7453307.0</td>\n",
       "      <td>534.0</td>\n",
       "    </tr>\n",
       "    <tr>\n",
       "      <th>4</th>\n",
       "      <td>A002</td>\n",
       "      <td>R051</td>\n",
       "      <td>02-00-00</td>\n",
       "      <td>59 ST</td>\n",
       "      <td>09/08/2020</td>\n",
       "      <td>7455427</td>\n",
       "      <td>09/04/2020</td>\n",
       "      <td>7453841.0</td>\n",
       "      <td>1586.0</td>\n",
       "    </tr>\n",
       "    <tr>\n",
       "      <th>5</th>\n",
       "      <td>A002</td>\n",
       "      <td>R051</td>\n",
       "      <td>02-00-00</td>\n",
       "      <td>59 ST</td>\n",
       "      <td>09/09/2020</td>\n",
       "      <td>7456007</td>\n",
       "      <td>09/08/2020</td>\n",
       "      <td>7455427.0</td>\n",
       "      <td>580.0</td>\n",
       "    </tr>\n",
       "  </tbody>\n",
       "</table>\n",
       "</div>"
      ],
      "text/plain": [
       "    C/A  UNIT       SCP STATION        DATE  ENTRIES   PREV_DATE  \\\n",
       "1  A002  R051  02-00-00   59 ST  09/02/2020  7452782  09/01/2020   \n",
       "2  A002  R051  02-00-00   59 ST  09/03/2020  7453307  09/02/2020   \n",
       "3  A002  R051  02-00-00   59 ST  09/04/2020  7453841  09/03/2020   \n",
       "4  A002  R051  02-00-00   59 ST  09/08/2020  7455427  09/04/2020   \n",
       "5  A002  R051  02-00-00   59 ST  09/09/2020  7456007  09/08/2020   \n",
       "\n",
       "   PREV_ENTRIES  DAILY_ENTRIES  \n",
       "1     7452243.0          539.0  \n",
       "2     7452782.0          525.0  \n",
       "3     7453307.0          534.0  \n",
       "4     7453841.0         1586.0  \n",
       "5     7455427.0          580.0  "
      ]
     },
     "execution_count": 116,
     "metadata": {},
     "output_type": "execute_result"
    }
   ],
   "source": [
    "sep_2020_daily.head()"
   ]
  },
  {
   "cell_type": "code",
   "execution_count": 120,
   "id": "7b539fed",
   "metadata": {
    "scrolled": true
   },
   "outputs": [
    {
     "data": {
      "text/plain": [
       "<AxesSubplot:xlabel='DATE', ylabel='DAILY_ENTRIES'>"
      ]
     },
     "execution_count": 120,
     "metadata": {},
     "output_type": "execute_result"
    },
    {
     "data": {
      "image/png": "[encoded data removed]",
      "text/plain": [
       "<Figure size 2160x288 with 1 Axes>"
      ]
     },
     "metadata": {
      "needs_background": "light"
     },
     "output_type": "display_data"
    }
   ],
   "source": [
    "plt.figure(figsize=[30,4])\n",
    "sns.barplot(x='DATE', y='DAILY_ENTRIES', data=sep_2020_daily)"
   ]
  },
  {
   "cell_type": "code",
   "execution_count": null,
   "id": "b065cdda",
   "metadata": {},
   "outputs": [],
   "source": []
  },
  {
   "cell_type": "code",
   "execution_count": 156,
   "id": "0209db0f",
   "metadata": {},
   "outputs": [
    {
     "data": {
      "text/html": [
       "<div>\n",
       "<style scoped>\n",
       "    .dataframe tbody tr th:only-of-type {\n",
       "        vertical-align: middle;\n",
       "    }\n",
       "\n",
       "    .dataframe tbody tr th {\n",
       "        vertical-align: top;\n",
       "    }\n",
       "\n",
       "    .dataframe thead th {\n",
       "        text-align: right;\n",
       "    }\n",
       "</style>\n",
       "<table border=\"1\" class=\"dataframe\">\n",
       "  <thead>\n",
       "    <tr style=\"text-align: right;\">\n",
       "      <th></th>\n",
       "      <th>STATION</th>\n",
       "      <th>DATE</th>\n",
       "      <th>DAILY_ENTRIES</th>\n",
       "    </tr>\n",
       "  </thead>\n",
       "  <tbody>\n",
       "    <tr>\n",
       "      <th>0</th>\n",
       "      <td>1 AV</td>\n",
       "      <td>09/02/2020</td>\n",
       "      <td>5713.0</td>\n",
       "    </tr>\n",
       "    <tr>\n",
       "      <th>1</th>\n",
       "      <td>1 AV</td>\n",
       "      <td>09/03/2020</td>\n",
       "      <td>6049.0</td>\n",
       "    </tr>\n",
       "    <tr>\n",
       "      <th>2</th>\n",
       "      <td>1 AV</td>\n",
       "      <td>09/04/2020</td>\n",
       "      <td>5849.0</td>\n",
       "    </tr>\n",
       "    <tr>\n",
       "      <th>3</th>\n",
       "      <td>1 AV</td>\n",
       "      <td>09/05/2020</td>\n",
       "      <td>4390.0</td>\n",
       "    </tr>\n",
       "    <tr>\n",
       "      <th>4</th>\n",
       "      <td>1 AV</td>\n",
       "      <td>09/06/2020</td>\n",
       "      <td>3612.0</td>\n",
       "    </tr>\n",
       "  </tbody>\n",
       "</table>\n",
       "</div>"
      ],
      "text/plain": [
       "  STATION        DATE  DAILY_ENTRIES\n",
       "0    1 AV  09/02/2020         5713.0\n",
       "1    1 AV  09/03/2020         6049.0\n",
       "2    1 AV  09/04/2020         5849.0\n",
       "3    1 AV  09/05/2020         4390.0\n",
       "4    1 AV  09/06/2020         3612.0"
      ]
     },
     "execution_count": 156,
     "metadata": {},
     "output_type": "execute_result"
    }
   ],
   "source": [
    "station_daily = sep_2020_daily.groupby([\"STATION\", \"DATE\"])[['DAILY_ENTRIES']].sum().reset_index()\n",
    "station_daily.head()"
   ]
  },
  {
   "cell_type": "code",
   "execution_count": 159,
   "id": "a804ecea",
   "metadata": {},
   "outputs": [
    {
     "data": {
      "text/plain": [
       "<AxesSubplot:xlabel='DATE', ylabel='DAILY_ENTRIES'>"
      ]
     },
     "execution_count": 159,
     "metadata": {},
     "output_type": "execute_result"
    },
    {
     "data": {
      "image/png": "[encoded data removed]",
      "text/plain": [
       "<Figure size 2160x288 with 1 Axes>"
      ]
     },
     "metadata": {
      "needs_background": "light"
     },
     "output_type": "display_data"
    }
   ],
   "source": [
    "plt.figure(figsize=[30,4])\n",
    "sns.barplot(x='DATE', y='DAILY_ENTRIES', data=station_daily)"
   ]
  },
  {
   "cell_type": "code",
   "execution_count": 166,
   "id": "1ae23451",
   "metadata": {},
   "outputs": [
    {
     "data": {
      "text/plain": [
       "7 AV               24\n",
       "CHURCH AV          24\n",
       "PATH NEW WTC       24\n",
       "34 ST-HERALD SQ    24\n",
       "BOROUGH HALL       24\n",
       "                   ..\n",
       "233 ST             17\n",
       "HARLEM 148 ST      17\n",
       "21 ST              16\n",
       "BURNSIDE AV        16\n",
       "BUSHWICK AV        16\n",
       "Name: STATION, Length: 379, dtype: int64"
      ]
     },
     "execution_count": 166,
     "metadata": {},
     "output_type": "execute_result"
    }
   ],
   "source": [
    "station_daily.STATION.value_counts()"
   ]
  },
  {
   "cell_type": "code",
   "execution_count": 167,
   "id": "e77d4ed3",
   "metadata": {},
   "outputs": [
    {
     "data": {
      "text/html": [
       "<div>\n",
       "<style scoped>\n",
       "    .dataframe tbody tr th:only-of-type {\n",
       "        vertical-align: middle;\n",
       "    }\n",
       "\n",
       "    .dataframe tbody tr th {\n",
       "        vertical-align: top;\n",
       "    }\n",
       "\n",
       "    .dataframe thead th {\n",
       "        text-align: right;\n",
       "    }\n",
       "</style>\n",
       "<table border=\"1\" class=\"dataframe\">\n",
       "  <thead>\n",
       "    <tr style=\"text-align: right;\">\n",
       "      <th></th>\n",
       "      <th>STATION</th>\n",
       "      <th>DATE</th>\n",
       "      <th>DAILY_ENTRIES</th>\n",
       "    </tr>\n",
       "  </thead>\n",
       "  <tbody>\n",
       "    <tr>\n",
       "      <th>4730</th>\n",
       "      <td>HARLEM 148 ST</td>\n",
       "      <td>09/02/2020</td>\n",
       "      <td>1135.0</td>\n",
       "    </tr>\n",
       "    <tr>\n",
       "      <th>4731</th>\n",
       "      <td>HARLEM 148 ST</td>\n",
       "      <td>09/03/2020</td>\n",
       "      <td>1218.0</td>\n",
       "    </tr>\n",
       "    <tr>\n",
       "      <th>4732</th>\n",
       "      <td>HARLEM 148 ST</td>\n",
       "      <td>09/04/2020</td>\n",
       "      <td>1286.0</td>\n",
       "    </tr>\n",
       "    <tr>\n",
       "      <th>4733</th>\n",
       "      <td>HARLEM 148 ST</td>\n",
       "      <td>09/05/2020</td>\n",
       "      <td>871.0</td>\n",
       "    </tr>\n",
       "    <tr>\n",
       "      <th>4734</th>\n",
       "      <td>HARLEM 148 ST</td>\n",
       "      <td>09/06/2020</td>\n",
       "      <td>738.0</td>\n",
       "    </tr>\n",
       "  </tbody>\n",
       "</table>\n",
       "</div>"
      ],
      "text/plain": [
       "            STATION        DATE  DAILY_ENTRIES\n",
       "4730  HARLEM 148 ST  09/02/2020         1135.0\n",
       "4731  HARLEM 148 ST  09/03/2020         1218.0\n",
       "4732  HARLEM 148 ST  09/04/2020         1286.0\n",
       "4733  HARLEM 148 ST  09/05/2020          871.0\n",
       "4734  HARLEM 148 ST  09/06/2020          738.0"
      ]
     },
     "execution_count": 167,
     "metadata": {},
     "output_type": "execute_result"
    }
   ],
   "source": [
    "station_daily_harlem = station_daily[station_daily['STATION'] == 'HARLEM 148 ST']\n",
    "station_daily_harlem.head()"
   ]
  },
  {
   "cell_type": "code",
   "execution_count": 168,
   "id": "d03a4727",
   "metadata": {
    "scrolled": true
   },
   "outputs": [
    {
     "data": {
      "text/plain": [
       "Text(0.5, 1.0, 'Daily Entries for HARLEM 148 ST Station')"
      ]
     },
     "execution_count": 168,
     "metadata": {},
     "output_type": "execute_result"
    },
    {
     "data": {
      "image/png": "[encoded data removed]",
      "text/plain": [
       "<Figure size 1080x360 with 1 Axes>"
      ]
     },
     "metadata": {
      "needs_background": "light"
     },
     "output_type": "display_data"
    }
   ],
   "source": [
    "plt.figure(figsize=(15,5))\n",
    "plt.plot(station_daily_harlem['DATE'], station_daily_harlem['DAILY_ENTRIES'])\n",
    "plt.ylabel('# of Entries')\n",
    "plt.xlabel('Date')\n",
    "plt.xticks(rotation=45)\n",
    "plt.title('Daily Entries for HARLEM 148 ST Station')"
   ]
  },
  {
   "cell_type": "code",
   "execution_count": 250,
   "id": "4b707663",
   "metadata": {},
   "outputs": [
    {
     "data": {
      "image/png": "[encoded data removed]",
      "text/plain": [
       "<Figure size 1152x288 with 1 Axes>"
      ]
     },
     "metadata": {},
     "output_type": "display_data"
    }
   ],
   "source": [
    "plt.figure(figsize=[16,4])\n",
    "sns.barplot(x='DATE', y='DAILY_ENTRIES', data=station_daily_harlem)\n",
    "\n",
    "#plt.ylabel('# of Entries')\n",
    "#plt.xlabel('Date')\n",
    "plt.xticks(rotation=45)\n",
    "plt.title('Daily Entries for HARLEM 148 ST Station')\n",
    "plt.savefig('Daily_Entries_HARLEM_Station_2020.png')\n"
   ]
  },
  {
   "cell_type": "code",
   "execution_count": null,
   "id": "313844d7",
   "metadata": {},
   "outputs": [],
   "source": []
  },
  {
   "cell_type": "code",
   "execution_count": null,
   "id": "27af6893",
   "metadata": {},
   "outputs": [],
   "source": []
  },
  {
   "cell_type": "code",
   "execution_count": null,
   "id": "f481b90f",
   "metadata": {},
   "outputs": [],
   "source": []
  },
  {
   "cell_type": "code",
   "execution_count": null,
   "id": "5d3d3f15",
   "metadata": {},
   "outputs": [],
   "source": []
  },
  {
   "cell_type": "markdown",
   "id": "7306835b",
   "metadata": {},
   "source": [
    "### September 2021"
   ]
  },
  {
   "cell_type": "code",
   "execution_count": 216,
   "id": "8cc8f23a",
   "metadata": {},
   "outputs": [],
   "source": [
    "def get_data(week_nums):\n",
    "    url = \"http://web.mta.info/developers/data/nyct/turnstile/turnstile_{}.txt\"\n",
    "    dfs = []\n",
    "    for week_num in week_nums:\n",
    "        file_url = url.format(week_num)\n",
    "        dfs.append(pd.read_csv(file_url))\n",
    "    return pd.concat(dfs)\n",
    "        \n",
    "week_nums = [210904,210911, 210918, 210925]\n",
    "turnstiles_df3 = get_data(week_nums)"
   ]
  },
  {
   "cell_type": "code",
   "execution_count": 217,
   "id": "ce945c27",
   "metadata": {},
   "outputs": [],
   "source": [
    "sep_2021 = turnstiles_df3"
   ]
  },
  {
   "cell_type": "code",
   "execution_count": 218,
   "id": "3c86f141",
   "metadata": {},
   "outputs": [
    {
     "data": {
      "text/plain": [
       "Index(['C/A', 'UNIT', 'SCP', 'STATION', 'LINENAME', 'DIVISION', 'DATE', 'TIME',\n",
       "       'DESC', 'ENTRIES', 'EXITS'],\n",
       "      dtype='object')"
      ]
     },
     "execution_count": 218,
     "metadata": {},
     "output_type": "execute_result"
    }
   ],
   "source": [
    "sep_2021.columns = [column.strip() for column in sep_2021.columns]\n",
    "sep_2021.columns"
   ]
  },
  {
   "cell_type": "code",
   "execution_count": 219,
   "id": "8d9b0a27",
   "metadata": {},
   "outputs": [
    {
     "data": {
      "text/html": [
       "<div>\n",
       "<style scoped>\n",
       "    .dataframe tbody tr th:only-of-type {\n",
       "        vertical-align: middle;\n",
       "    }\n",
       "\n",
       "    .dataframe tbody tr th {\n",
       "        vertical-align: top;\n",
       "    }\n",
       "\n",
       "    .dataframe thead th {\n",
       "        text-align: right;\n",
       "    }\n",
       "</style>\n",
       "<table border=\"1\" class=\"dataframe\">\n",
       "  <thead>\n",
       "    <tr style=\"text-align: right;\">\n",
       "      <th></th>\n",
       "      <th>C/A</th>\n",
       "      <th>UNIT</th>\n",
       "      <th>SCP</th>\n",
       "      <th>STATION</th>\n",
       "      <th>LINENAME</th>\n",
       "      <th>DIVISION</th>\n",
       "      <th>DATE</th>\n",
       "      <th>TIME</th>\n",
       "      <th>DESC</th>\n",
       "      <th>ENTRIES</th>\n",
       "      <th>EXITS</th>\n",
       "    </tr>\n",
       "  </thead>\n",
       "  <tbody>\n",
       "    <tr>\n",
       "      <th>0</th>\n",
       "      <td>A002</td>\n",
       "      <td>R051</td>\n",
       "      <td>02-00-00</td>\n",
       "      <td>59 ST</td>\n",
       "      <td>NQR456W</td>\n",
       "      <td>BMT</td>\n",
       "      <td>08/28/2021</td>\n",
       "      <td>00:00:00</td>\n",
       "      <td>REGULAR</td>\n",
       "      <td>7625998</td>\n",
       "      <td>2609113</td>\n",
       "    </tr>\n",
       "    <tr>\n",
       "      <th>1</th>\n",
       "      <td>A002</td>\n",
       "      <td>R051</td>\n",
       "      <td>02-00-00</td>\n",
       "      <td>59 ST</td>\n",
       "      <td>NQR456W</td>\n",
       "      <td>BMT</td>\n",
       "      <td>08/28/2021</td>\n",
       "      <td>04:00:00</td>\n",
       "      <td>REGULAR</td>\n",
       "      <td>7626014</td>\n",
       "      <td>2609117</td>\n",
       "    </tr>\n",
       "    <tr>\n",
       "      <th>2</th>\n",
       "      <td>A002</td>\n",
       "      <td>R051</td>\n",
       "      <td>02-00-00</td>\n",
       "      <td>59 ST</td>\n",
       "      <td>NQR456W</td>\n",
       "      <td>BMT</td>\n",
       "      <td>08/28/2021</td>\n",
       "      <td>08:00:00</td>\n",
       "      <td>REGULAR</td>\n",
       "      <td>7626024</td>\n",
       "      <td>2609135</td>\n",
       "    </tr>\n",
       "  </tbody>\n",
       "</table>\n",
       "</div>"
      ],
      "text/plain": [
       "    C/A  UNIT       SCP STATION LINENAME DIVISION        DATE      TIME  \\\n",
       "0  A002  R051  02-00-00   59 ST  NQR456W      BMT  08/28/2021  00:00:00   \n",
       "1  A002  R051  02-00-00   59 ST  NQR456W      BMT  08/28/2021  04:00:00   \n",
       "2  A002  R051  02-00-00   59 ST  NQR456W      BMT  08/28/2021  08:00:00   \n",
       "\n",
       "      DESC  ENTRIES    EXITS  \n",
       "0  REGULAR  7625998  2609113  \n",
       "1  REGULAR  7626014  2609117  \n",
       "2  REGULAR  7626024  2609135  "
      ]
     },
     "execution_count": 219,
     "metadata": {},
     "output_type": "execute_result"
    }
   ],
   "source": [
    "sep_2021.head(3)"
   ]
  },
  {
   "cell_type": "code",
   "execution_count": 220,
   "id": "fdaf42f2",
   "metadata": {},
   "outputs": [
    {
     "data": {
      "text/plain": [
       "08/28/2021    30021\n",
       "08/29/2021    29754\n",
       "08/30/2021    30738\n",
       "08/31/2021    29865\n",
       "09/01/2021    30159\n",
       "09/02/2021    29664\n",
       "09/03/2021    29534\n",
       "09/04/2021    29815\n",
       "09/05/2021    29788\n",
       "09/06/2021    29865\n",
       "09/07/2021    30077\n",
       "09/08/2021    29956\n",
       "09/09/2021    29939\n",
       "09/10/2021    30043\n",
       "09/11/2021    29844\n",
       "09/12/2021    30014\n",
       "09/13/2021    30103\n",
       "09/14/2021    30292\n",
       "09/15/2021    29833\n",
       "09/16/2021    29928\n",
       "09/17/2021    29884\n",
       "09/18/2021    29964\n",
       "09/19/2021    29964\n",
       "09/20/2021    30444\n",
       "09/21/2021    30082\n",
       "09/22/2021    30014\n",
       "09/23/2021    30033\n",
       "09/24/2021    29899\n",
       "Name: DATE, dtype: int64"
      ]
     },
     "execution_count": 220,
     "metadata": {},
     "output_type": "execute_result"
    }
   ],
   "source": [
    "sep_2021.DATE.value_counts().sort_index()"
   ]
  },
  {
   "cell_type": "code",
   "execution_count": 222,
   "id": "3476c2f4",
   "metadata": {},
   "outputs": [],
   "source": [
    "sep_2021[\"DATE_TIME\"] = pd.to_datetime(sep_2021.DATE + \" \" + sep_2021.TIME, format=\"%m/%d/%Y %H:%M:%S\")"
   ]
  },
  {
   "cell_type": "code",
   "execution_count": 224,
   "id": "dc57c30e",
   "metadata": {},
   "outputs": [],
   "source": [
    "sep_2021.sort_values([\"C/A\", \"UNIT\", \"SCP\", \"STATION\", \"DATE_TIME\"], inplace=True,  ascending=False)\n",
    "                         \n",
    "sep_2021.drop_duplicates(subset=[\"C/A\", \"UNIT\", \"SCP\", \"STATION\", \"DATE_TIME\"], inplace=True)"
   ]
  },
  {
   "cell_type": "code",
   "execution_count": 225,
   "id": "7ed3136a",
   "metadata": {},
   "outputs": [
    {
     "data": {
      "text/html": [
       "<div>\n",
       "<style scoped>\n",
       "    .dataframe tbody tr th:only-of-type {\n",
       "        vertical-align: middle;\n",
       "    }\n",
       "\n",
       "    .dataframe tbody tr th {\n",
       "        vertical-align: top;\n",
       "    }\n",
       "\n",
       "    .dataframe thead th {\n",
       "        text-align: right;\n",
       "    }\n",
       "</style>\n",
       "<table border=\"1\" class=\"dataframe\">\n",
       "  <thead>\n",
       "    <tr style=\"text-align: right;\">\n",
       "      <th></th>\n",
       "      <th>C/A</th>\n",
       "      <th>UNIT</th>\n",
       "      <th>SCP</th>\n",
       "      <th>STATION</th>\n",
       "      <th>DATE_TIME</th>\n",
       "      <th>ENTRIES</th>\n",
       "    </tr>\n",
       "  </thead>\n",
       "  <tbody>\n",
       "    <tr>\n",
       "      <th>0</th>\n",
       "      <td>A002</td>\n",
       "      <td>R051</td>\n",
       "      <td>02-00-00</td>\n",
       "      <td>59 ST</td>\n",
       "      <td>2021-08-28 00:00:00</td>\n",
       "      <td>1</td>\n",
       "    </tr>\n",
       "    <tr>\n",
       "      <th>559615</th>\n",
       "      <td>R142</td>\n",
       "      <td>R293</td>\n",
       "      <td>01-00-01</td>\n",
       "      <td>34 ST-PENN STA</td>\n",
       "      <td>2021-08-30 02:00:00</td>\n",
       "      <td>1</td>\n",
       "    </tr>\n",
       "    <tr>\n",
       "      <th>559605</th>\n",
       "      <td>R142</td>\n",
       "      <td>R293</td>\n",
       "      <td>01-00-01</td>\n",
       "      <td>34 ST-PENN STA</td>\n",
       "      <td>2021-08-28 10:00:00</td>\n",
       "      <td>1</td>\n",
       "    </tr>\n",
       "    <tr>\n",
       "      <th>559606</th>\n",
       "      <td>R142</td>\n",
       "      <td>R293</td>\n",
       "      <td>01-00-01</td>\n",
       "      <td>34 ST-PENN STA</td>\n",
       "      <td>2021-08-28 14:00:00</td>\n",
       "      <td>1</td>\n",
       "    </tr>\n",
       "    <tr>\n",
       "      <th>559607</th>\n",
       "      <td>R142</td>\n",
       "      <td>R293</td>\n",
       "      <td>01-00-01</td>\n",
       "      <td>34 ST-PENN STA</td>\n",
       "      <td>2021-08-28 18:00:00</td>\n",
       "      <td>1</td>\n",
       "    </tr>\n",
       "    <tr>\n",
       "      <th>559608</th>\n",
       "      <td>R142</td>\n",
       "      <td>R293</td>\n",
       "      <td>01-00-01</td>\n",
       "      <td>34 ST-PENN STA</td>\n",
       "      <td>2021-08-28 22:00:00</td>\n",
       "      <td>1</td>\n",
       "    </tr>\n",
       "  </tbody>\n",
       "</table>\n",
       "</div>"
      ],
      "text/plain": [
       "         C/A  UNIT       SCP         STATION           DATE_TIME  ENTRIES\n",
       "0       A002  R051  02-00-00           59 ST 2021-08-28 00:00:00        1\n",
       "559615  R142  R293  01-00-01  34 ST-PENN STA 2021-08-30 02:00:00        1\n",
       "559605  R142  R293  01-00-01  34 ST-PENN STA 2021-08-28 10:00:00        1\n",
       "559606  R142  R293  01-00-01  34 ST-PENN STA 2021-08-28 14:00:00        1\n",
       "559607  R142  R293  01-00-01  34 ST-PENN STA 2021-08-28 18:00:00        1\n",
       "559608  R142  R293  01-00-01  34 ST-PENN STA 2021-08-28 22:00:00        1"
      ]
     },
     "execution_count": 225,
     "metadata": {},
     "output_type": "execute_result"
    }
   ],
   "source": [
    "(sep_2021\n",
    " .groupby([\"C/A\", \"UNIT\", \"SCP\", \"STATION\", \"DATE_TIME\"])  \n",
    " .ENTRIES.count()\n",
    " .reset_index()  \n",
    " .sort_values(\"ENTRIES\", ascending=False)).head(6)"
   ]
  },
  {
   "cell_type": "code",
   "execution_count": 226,
   "id": "b60b4739",
   "metadata": {},
   "outputs": [],
   "source": [
    "sep_2021 = sep_2021.drop([\"EXITS\", \"DESC\"], axis=1, errors=\"ignore\")"
   ]
  },
  {
   "cell_type": "code",
   "execution_count": 231,
   "id": "4776e5fc",
   "metadata": {},
   "outputs": [],
   "source": [
    "sep_2021 = sep_2021.drop(sep_2021[sep_2021['DATE'] == '08/30/2021'].index)"
   ]
  },
  {
   "cell_type": "code",
   "execution_count": 232,
   "id": "3d3e6790",
   "metadata": {},
   "outputs": [],
   "source": [
    "sep_2021 = sep_2021.drop(sep_2021[sep_2021['DATE'] == '08/29/2021'].index)"
   ]
  },
  {
   "cell_type": "code",
   "execution_count": 233,
   "id": "3fb9e427",
   "metadata": {},
   "outputs": [],
   "source": [
    "sep_2021 = sep_2021.drop(sep_2021[sep_2021['DATE'] == '08/28/2021'].index)"
   ]
  },
  {
   "cell_type": "code",
   "execution_count": 234,
   "id": "1c6dd9c8",
   "metadata": {},
   "outputs": [
    {
     "data": {
      "text/plain": [
       "08/31/2021    29863\n",
       "09/01/2021    30155\n",
       "09/02/2021    29659\n",
       "09/03/2021    29530\n",
       "09/04/2021    18385\n",
       "09/05/2021    18618\n",
       "09/06/2021    17296\n",
       "09/07/2021    16562\n",
       "09/08/2021    15326\n",
       "09/09/2021    15734\n",
       "09/10/2021    17142\n",
       "09/11/2021    16169\n",
       "09/12/2021    16620\n",
       "09/13/2021    16574\n",
       "09/14/2021    16951\n",
       "09/15/2021    18180\n",
       "09/16/2021    17130\n",
       "09/17/2021    17751\n",
       "09/18/2021    16379\n",
       "09/19/2021    17449\n",
       "09/20/2021    16132\n",
       "09/21/2021    17453\n",
       "09/22/2021    17750\n",
       "09/23/2021    17191\n",
       "09/24/2021    17530\n",
       "Name: DATE, dtype: int64"
      ]
     },
     "execution_count": 234,
     "metadata": {},
     "output_type": "execute_result"
    }
   ],
   "source": [
    "sep_2021.DATE.value_counts().sort_index()"
   ]
  },
  {
   "cell_type": "code",
   "execution_count": 235,
   "id": "407c6128",
   "metadata": {},
   "outputs": [],
   "source": [
    "# Get rid of the duplicate entry\n",
    "sep_2021.sort_values([\"C/A\", \"UNIT\", \"SCP\", \"STATION\", \"DATE_TIME\"], inplace=True, \\\n",
    "                          ascending=False)\n",
    "sep_2021.drop_duplicates(subset=[\"C/A\", \"UNIT\", \"SCP\", \"STATION\", \"DATE_TIME\"], inplace=True)\n",
    "\n"
   ]
  },
  {
   "cell_type": "code",
   "execution_count": 236,
   "id": "022409c5",
   "metadata": {},
   "outputs": [
    {
     "data": {
      "text/html": [
       "<div>\n",
       "<style scoped>\n",
       "    .dataframe tbody tr th:only-of-type {\n",
       "        vertical-align: middle;\n",
       "    }\n",
       "\n",
       "    .dataframe tbody tr th {\n",
       "        vertical-align: top;\n",
       "    }\n",
       "\n",
       "    .dataframe thead th {\n",
       "        text-align: right;\n",
       "    }\n",
       "</style>\n",
       "<table border=\"1\" class=\"dataframe\">\n",
       "  <thead>\n",
       "    <tr style=\"text-align: right;\">\n",
       "      <th></th>\n",
       "      <th>C/A</th>\n",
       "      <th>UNIT</th>\n",
       "      <th>SCP</th>\n",
       "      <th>STATION</th>\n",
       "      <th>DATE_TIME</th>\n",
       "      <th>ENTRIES</th>\n",
       "    </tr>\n",
       "  </thead>\n",
       "  <tbody>\n",
       "    <tr>\n",
       "      <th>0</th>\n",
       "      <td>A002</td>\n",
       "      <td>R051</td>\n",
       "      <td>02-00-00</td>\n",
       "      <td>59 ST</td>\n",
       "      <td>2021-08-31 00:00:00</td>\n",
       "      <td>1</td>\n",
       "    </tr>\n",
       "    <tr>\n",
       "      <th>318349</th>\n",
       "      <td>R141</td>\n",
       "      <td>R031</td>\n",
       "      <td>00-03-02</td>\n",
       "      <td>34 ST-PENN STA</td>\n",
       "      <td>2021-09-06 12:00:00</td>\n",
       "      <td>1</td>\n",
       "    </tr>\n",
       "    <tr>\n",
       "      <th>318361</th>\n",
       "      <td>R141</td>\n",
       "      <td>R031</td>\n",
       "      <td>00-03-02</td>\n",
       "      <td>34 ST-PENN STA</td>\n",
       "      <td>2021-09-08 12:00:00</td>\n",
       "      <td>1</td>\n",
       "    </tr>\n",
       "    <tr>\n",
       "      <th>318360</th>\n",
       "      <td>R141</td>\n",
       "      <td>R031</td>\n",
       "      <td>00-03-02</td>\n",
       "      <td>34 ST-PENN STA</td>\n",
       "      <td>2021-09-08 08:00:00</td>\n",
       "      <td>1</td>\n",
       "    </tr>\n",
       "    <tr>\n",
       "      <th>318359</th>\n",
       "      <td>R141</td>\n",
       "      <td>R031</td>\n",
       "      <td>00-03-02</td>\n",
       "      <td>34 ST-PENN STA</td>\n",
       "      <td>2021-09-08 04:00:00</td>\n",
       "      <td>1</td>\n",
       "    </tr>\n",
       "  </tbody>\n",
       "</table>\n",
       "</div>"
      ],
      "text/plain": [
       "         C/A  UNIT       SCP         STATION           DATE_TIME  ENTRIES\n",
       "0       A002  R051  02-00-00           59 ST 2021-08-31 00:00:00        1\n",
       "318349  R141  R031  00-03-02  34 ST-PENN STA 2021-09-06 12:00:00        1\n",
       "318361  R141  R031  00-03-02  34 ST-PENN STA 2021-09-08 12:00:00        1\n",
       "318360  R141  R031  00-03-02  34 ST-PENN STA 2021-09-08 08:00:00        1\n",
       "318359  R141  R031  00-03-02  34 ST-PENN STA 2021-09-08 04:00:00        1"
      ]
     },
     "execution_count": 236,
     "metadata": {},
     "output_type": "execute_result"
    }
   ],
   "source": [
    "(sep_2021\n",
    " .groupby([\"C/A\", \"UNIT\", \"SCP\", \"STATION\", \"DATE_TIME\"])\n",
    " .ENTRIES.count()\n",
    " .reset_index()\n",
    " .sort_values(\"ENTRIES\", ascending=False)).head(5)"
   ]
  },
  {
   "cell_type": "code",
   "execution_count": 237,
   "id": "be48ab20",
   "metadata": {},
   "outputs": [],
   "source": [
    "sep_2021 = sep_2021.drop([\"EXITS\", \"DESC\"], axis=1, errors=\"ignore\")"
   ]
  },
  {
   "cell_type": "code",
   "execution_count": 238,
   "id": "6d788b2e",
   "metadata": {},
   "outputs": [],
   "source": [
    "sep_2021_daily = sep_2021.groupby([\"C/A\", \"UNIT\", \"SCP\", \"STATION\", \"DATE\"])\\\n",
    ".ENTRIES.first().reset_index()"
   ]
  },
  {
   "cell_type": "code",
   "execution_count": 239,
   "id": "4d4a79a9",
   "metadata": {},
   "outputs": [
    {
     "name": "stderr",
     "output_type": "stream",
     "text": [
      "/anaconda3/lib/python3.7/site-packages/ipykernel_launcher.py:2: FutureWarning: Indexing with multiple keys (implicitly converted to a tuple of keys) will be deprecated, use a list instead.\n",
      "  \n"
     ]
    }
   ],
   "source": [
    "sep_2021_daily[[\"PREV_DATE\", \"PREV_ENTRIES\"]] = (sep_2021_daily\n",
    "                                                       .groupby([\"C/A\", \"UNIT\", \"SCP\", \"STATION\"])[\"DATE\", \"ENTRIES\"]\n",
    "                                                       .transform(lambda grp: grp.shift(1)))"
   ]
  },
  {
   "cell_type": "code",
   "execution_count": 240,
   "id": "62b36d49",
   "metadata": {},
   "outputs": [],
   "source": [
    "# Drop the rows for first date\n",
    "sep_2021_daily.dropna(subset=[\"PREV_DATE\"], axis=0, inplace=True)"
   ]
  },
  {
   "cell_type": "code",
   "execution_count": 241,
   "id": "780ed6b4",
   "metadata": {},
   "outputs": [
    {
     "name": "stdout",
     "output_type": "stream",
     "text": [
      "310 5609562.0\n",
      "35 9768753.0\n",
      "33565265 188145.0\n",
      "511 3272795.0\n",
      "5 11123659.0\n",
      "822 3153775.0\n",
      "403 2570919.0\n",
      "228 1040931962.0\n",
      "285 3530461.0\n",
      "201333144 798733.0\n",
      "154 5768873.0\n",
      "1089962154 146743319.0\n",
      "112 7682427.0\n",
      "1189018257 3740789.0\n",
      "346167 14045092.0\n",
      "14049774 346213.0\n",
      "1278449 8197329.0\n",
      "8205884 1278639.0\n",
      "635 4005927.0\n",
      "4006679 635.0\n",
      "113 1684097.0\n"
     ]
    }
   ],
   "source": [
    "def get_daily_counts(row, max_counter):\n",
    "    counter = row[\"ENTRIES\"] - row[\"PREV_ENTRIES\"]\n",
    "    if counter < 0:\n",
    "        counter = -counter\n",
    "    if counter > max_counter:\n",
    "        print(row[\"ENTRIES\"], row[\"PREV_ENTRIES\"])\n",
    "        return 0\n",
    "    return counter\n",
    "\n",
    "# If counter is > 1 million, then the counter might have been reset.  \n",
    "# Just set it to zero as different counters have different cycle limits\n",
    "sep_2021_daily[\"DAILY_ENTRIES\"] = sep_2021_daily.apply(get_daily_counts, axis=1, max_counter=1000000) "
   ]
  },
  {
   "cell_type": "code",
   "execution_count": 244,
   "id": "d5b3c302",
   "metadata": {},
   "outputs": [
    {
     "data": {
      "text/plain": [
       "<AxesSubplot:xlabel='DATE', ylabel='DAILY_ENTRIES'>"
      ]
     },
     "execution_count": 244,
     "metadata": {},
     "output_type": "execute_result"
    },
    {
     "data": {
      "image/png": "[encoded data removed]",
      "text/plain": [
       "<Figure size 1800x288 with 1 Axes>"
      ]
     },
     "metadata": {},
     "output_type": "display_data"
    }
   ],
   "source": [
    "plt.figure(figsize=[25,4])\n",
    "sns.barplot(x='DATE', y='DAILY_ENTRIES', data=sep_2021_daily)"
   ]
  },
  {
   "cell_type": "code",
   "execution_count": 245,
   "id": "132511b7",
   "metadata": {},
   "outputs": [
    {
     "data": {
      "text/html": [
       "<div>\n",
       "<style scoped>\n",
       "    .dataframe tbody tr th:only-of-type {\n",
       "        vertical-align: middle;\n",
       "    }\n",
       "\n",
       "    .dataframe tbody tr th {\n",
       "        vertical-align: top;\n",
       "    }\n",
       "\n",
       "    .dataframe thead th {\n",
       "        text-align: right;\n",
       "    }\n",
       "</style>\n",
       "<table border=\"1\" class=\"dataframe\">\n",
       "  <thead>\n",
       "    <tr style=\"text-align: right;\">\n",
       "      <th></th>\n",
       "      <th>STATION</th>\n",
       "      <th>DATE</th>\n",
       "      <th>DAILY_ENTRIES</th>\n",
       "    </tr>\n",
       "  </thead>\n",
       "  <tbody>\n",
       "    <tr>\n",
       "      <th>0</th>\n",
       "      <td>1 AV</td>\n",
       "      <td>09/01/2021</td>\n",
       "      <td>7819.0</td>\n",
       "    </tr>\n",
       "    <tr>\n",
       "      <th>1</th>\n",
       "      <td>1 AV</td>\n",
       "      <td>09/02/2021</td>\n",
       "      <td>5688.0</td>\n",
       "    </tr>\n",
       "    <tr>\n",
       "      <th>2</th>\n",
       "      <td>1 AV</td>\n",
       "      <td>09/03/2021</td>\n",
       "      <td>7660.0</td>\n",
       "    </tr>\n",
       "    <tr>\n",
       "      <th>3</th>\n",
       "      <td>1 AV</td>\n",
       "      <td>09/05/2021</td>\n",
       "      <td>12778.0</td>\n",
       "    </tr>\n",
       "    <tr>\n",
       "      <th>4</th>\n",
       "      <td>1 AV</td>\n",
       "      <td>09/06/2021</td>\n",
       "      <td>5312.0</td>\n",
       "    </tr>\n",
       "  </tbody>\n",
       "</table>\n",
       "</div>"
      ],
      "text/plain": [
       "  STATION        DATE  DAILY_ENTRIES\n",
       "0    1 AV  09/01/2021         7819.0\n",
       "1    1 AV  09/02/2021         5688.0\n",
       "2    1 AV  09/03/2021         7660.0\n",
       "3    1 AV  09/05/2021        12778.0\n",
       "4    1 AV  09/06/2021         5312.0"
      ]
     },
     "execution_count": 245,
     "metadata": {},
     "output_type": "execute_result"
    }
   ],
   "source": [
    "station_daily_2021 = sep_2021_daily.groupby([\"STATION\", \"DATE\"])[['DAILY_ENTRIES']].sum().reset_index()\n",
    "station_daily_2021.head()"
   ]
  },
  {
   "cell_type": "code",
   "execution_count": 246,
   "id": "91c6d1fe",
   "metadata": {},
   "outputs": [
    {
     "data": {
      "text/html": [
       "<div>\n",
       "<style scoped>\n",
       "    .dataframe tbody tr th:only-of-type {\n",
       "        vertical-align: middle;\n",
       "    }\n",
       "\n",
       "    .dataframe tbody tr th {\n",
       "        vertical-align: top;\n",
       "    }\n",
       "\n",
       "    .dataframe thead th {\n",
       "        text-align: right;\n",
       "    }\n",
       "</style>\n",
       "<table border=\"1\" class=\"dataframe\">\n",
       "  <thead>\n",
       "    <tr style=\"text-align: right;\">\n",
       "      <th></th>\n",
       "      <th>STATION</th>\n",
       "      <th>DATE</th>\n",
       "      <th>DAILY_ENTRIES</th>\n",
       "    </tr>\n",
       "  </thead>\n",
       "  <tbody>\n",
       "    <tr>\n",
       "      <th>4787</th>\n",
       "      <td>HARLEM 148 ST</td>\n",
       "      <td>09/01/2021</td>\n",
       "      <td>1413.0</td>\n",
       "    </tr>\n",
       "    <tr>\n",
       "      <th>4788</th>\n",
       "      <td>HARLEM 148 ST</td>\n",
       "      <td>09/02/2021</td>\n",
       "      <td>498.0</td>\n",
       "    </tr>\n",
       "    <tr>\n",
       "      <th>4789</th>\n",
       "      <td>HARLEM 148 ST</td>\n",
       "      <td>09/03/2021</td>\n",
       "      <td>1302.0</td>\n",
       "    </tr>\n",
       "    <tr>\n",
       "      <th>4790</th>\n",
       "      <td>HARLEM 148 ST</td>\n",
       "      <td>09/04/2021</td>\n",
       "      <td>536.0</td>\n",
       "    </tr>\n",
       "    <tr>\n",
       "      <th>4791</th>\n",
       "      <td>HARLEM 148 ST</td>\n",
       "      <td>09/05/2021</td>\n",
       "      <td>36.0</td>\n",
       "    </tr>\n",
       "  </tbody>\n",
       "</table>\n",
       "</div>"
      ],
      "text/plain": [
       "            STATION        DATE  DAILY_ENTRIES\n",
       "4787  HARLEM 148 ST  09/01/2021         1413.0\n",
       "4788  HARLEM 148 ST  09/02/2021          498.0\n",
       "4789  HARLEM 148 ST  09/03/2021         1302.0\n",
       "4790  HARLEM 148 ST  09/04/2021          536.0\n",
       "4791  HARLEM 148 ST  09/05/2021           36.0"
      ]
     },
     "execution_count": 246,
     "metadata": {},
     "output_type": "execute_result"
    }
   ],
   "source": [
    "station_daily_harlem_2021 = station_daily_2021[station_daily_2021['STATION'] == 'HARLEM 148 ST']\n",
    "station_daily_harlem_2021.head()"
   ]
  },
  {
   "cell_type": "code",
   "execution_count": 247,
   "id": "d99793b8",
   "metadata": {},
   "outputs": [
    {
     "data": {
      "text/plain": [
       "Text(0.5, 1.0, 'Daily Entries for HARLEM 148 ST Station')"
      ]
     },
     "execution_count": 247,
     "metadata": {},
     "output_type": "execute_result"
    },
    {
     "data": {
      "image/png": "[encoded data removed]",
      "text/plain": [
       "<Figure size 1080x360 with 1 Axes>"
      ]
     },
     "metadata": {},
     "output_type": "display_data"
    }
   ],
   "source": [
    "plt.figure(figsize=(15,5))\n",
    "plt.plot(station_daily_harlem_2021['DATE'], station_daily_harlem_2021['DAILY_ENTRIES'])\n",
    "plt.ylabel('# of Entries')\n",
    "plt.xlabel('Date')\n",
    "plt.xticks(rotation=45)\n",
    "plt.title('Daily Entries for HARLEM 148 ST Station')\n",
    "#plt.savefig('DailyEntries_HARLEM_Station_2021.png')"
   ]
  },
  {
   "cell_type": "code",
   "execution_count": 249,
   "id": "8b7a5671",
   "metadata": {},
   "outputs": [
    {
     "data": {
      "image/png": "[encoded data removed]",
      "text/plain": [
       "<Figure size 1152x288 with 1 Axes>"
      ]
     },
     "metadata": {},
     "output_type": "display_data"
    }
   ],
   "source": [
    "plt.figure(figsize=[16,4])\n",
    "sns.barplot(x='DATE', y='DAILY_ENTRIES', data=station_daily_harlem_2021)\n",
    "\n",
    "#plt.ylabel('# of Entries')\n",
    "#plt.xlabel('Date')\n",
    "plt.xticks(rotation=45)\n",
    "plt.title('Daily Entries for HARLEM 148 ST Station')\n",
    "plt.savefig('Daily_Entries_HARLEM_Station_2021.png')\n",
    "\n"
   ]
  },
  {
   "cell_type": "code",
   "execution_count": null,
   "id": "f0a05d7c",
   "metadata": {},
   "outputs": [],
   "source": []
  }
 ],
 "metadata": {
  "kernelspec": {
   "display_name": "Python 3 (ipykernel)",
   "language": "python",
   "name": "python3"
  },
  "language_info": {
   "codemirror_mode": {
    "name": "ipython",
    "version": 3
   },
   "file_extension": ".py",
   "mimetype": "text/x-python",
   "name": "python",
   "nbconvert_exporter": "python",
   "pygments_lexer": "ipython3",
   "version": "3.7.3"
  }
 },
 "nbformat": 4,
 "nbformat_minor": 5
}
